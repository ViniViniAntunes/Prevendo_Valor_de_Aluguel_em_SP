{
  "nbformat": 4,
  "nbformat_minor": 0,
  "metadata": {
    "kernelspec": {
      "display_name": "Python 3",
      "language": "python",
      "name": "python3"
    },
    "language_info": {
      "codemirror_mode": {
        "name": "ipython",
        "version": 3
      },
      "file_extension": ".py",
      "mimetype": "text/x-python",
      "name": "python",
      "nbconvert_exporter": "python",
      "pygments_lexer": "ipython3",
      "version": "3.7.4"
    },
    "colab": {
      "name": "Previsao_de_valores_de_aluguel.ipynb",
      "provenance": [],
      "include_colab_link": true
    }
  },
  "cells": [
    {
      "cell_type": "markdown",
      "metadata": {
        "id": "view-in-github",
        "colab_type": "text"
      },
      "source": [
        "<a href=\"https://colab.research.google.com/github/ViniViniAntunes/Prevendo_Valor_de_Aluguel_em_SP/blob/master/Previsao_de_valores_de_aluguel.ipynb\" target=\"_parent\"><img src=\"https://colab.research.google.com/assets/colab-badge.svg\" alt=\"Open In Colab\"/></a>"
      ]
    },
    {
      "cell_type": "markdown",
      "metadata": {
        "id": "_Ml57jg4dPAA",
        "colab_type": "text"
      },
      "source": [
        "# Previsão do Valor de Aluguel\n",
        "\n",
        "- Valor do aluguel na cidade de São Paulo\n",
        "- A base de dados utilizada nesse projeto foi retirada do GitHub de <a href=\"https://github.com/LuizArmesto\">Luiz Armesto</a>, onde ele descreve como foi feita a web scrapping de um site de classificados.\n",
        "- O dataset contém dezenas de milhares de apartamentos disponíveis para locação na cidade de São Paulo, com os valores do aluguel, área do apartamento, quantidade de quartos, de suites e de vagas na garagem e o bairro em que o apartamento se localiza."
      ]
    },
    {
      "cell_type": "markdown",
      "metadata": {
        "id": "w8sAwP2mdPAC",
        "colab_type": "text"
      },
      "source": [
        "---\n",
        "# 0.0 Importando algumas bibliotecas necessárias"
      ]
    },
    {
      "cell_type": "code",
      "metadata": {
        "id": "1gzAD6tPdPAE",
        "colab_type": "code",
        "outputId": "7f0c2afc-c058-466f-fd90-46b58f5b3876",
        "colab": {
          "base_uri": "https://localhost:8080/",
          "height": 71
        }
      },
      "source": [
        "import pandas as pd\n",
        "import seaborn as sns\n",
        "import matplotlib.pyplot as plt\n",
        "import numpy as np\n",
        "import warnings\n",
        "warnings.filterwarnings('ignore')"
      ],
      "execution_count": 1,
      "outputs": [
        {
          "output_type": "stream",
          "text": [
            "/usr/local/lib/python3.6/dist-packages/statsmodels/tools/_testing.py:19: FutureWarning: pandas.util.testing is deprecated. Use the functions in the public API at pandas.testing instead.\n",
            "  import pandas.util.testing as tm\n"
          ],
          "name": "stderr"
        }
      ]
    },
    {
      "cell_type": "markdown",
      "metadata": {
        "id": "Vu2RcJhkdPAJ",
        "colab_type": "text"
      },
      "source": [
        "## 0.1 Carregando a base de dados"
      ]
    },
    {
      "cell_type": "code",
      "metadata": {
        "scrolled": true,
        "id": "As3diNWTdPAK",
        "colab_type": "code",
        "outputId": "2c4f9798-fcad-42ac-d3d4-57ffb564822f",
        "colab": {
          "base_uri": "https://localhost:8080/",
          "height": 204
        }
      },
      "source": [
        "# Link do dataset\n",
        "url = 'https://github.com/LuizArmesto/notebooks/blob/master/regressao_linear/apartamentos_alugar_sao_paulo.csv?raw=true'\n",
        "\n",
        "# Criando um DataFrame\n",
        "data = pd.read_csv(url)\n",
        "\n",
        "# Mostrando as 5 primeiras linhas do DataFrame\n",
        "data.head()"
      ],
      "execution_count": 2,
      "outputs": [
        {
          "output_type": "execute_result",
          "data": {
            "text/html": [
              "<div>\n",
              "<style scoped>\n",
              "    .dataframe tbody tr th:only-of-type {\n",
              "        vertical-align: middle;\n",
              "    }\n",
              "\n",
              "    .dataframe tbody tr th {\n",
              "        vertical-align: top;\n",
              "    }\n",
              "\n",
              "    .dataframe thead th {\n",
              "        text-align: right;\n",
              "    }\n",
              "</style>\n",
              "<table border=\"1\" class=\"dataframe\">\n",
              "  <thead>\n",
              "    <tr style=\"text-align: right;\">\n",
              "      <th></th>\n",
              "      <th>valor</th>\n",
              "      <th>area</th>\n",
              "      <th>quartos</th>\n",
              "      <th>suites</th>\n",
              "      <th>vagas</th>\n",
              "      <th>bairro_id</th>\n",
              "      <th>bairro</th>\n",
              "      <th>cidade</th>\n",
              "      <th>tipo</th>\n",
              "      <th>subtipo</th>\n",
              "      <th>id</th>\n",
              "    </tr>\n",
              "  </thead>\n",
              "  <tbody>\n",
              "    <tr>\n",
              "      <th>0</th>\n",
              "      <td>1600</td>\n",
              "      <td>57</td>\n",
              "      <td>2</td>\n",
              "      <td>0</td>\n",
              "      <td>1</td>\n",
              "      <td>1</td>\n",
              "      <td>VL DA SAUDE</td>\n",
              "      <td>Sao Paulo</td>\n",
              "      <td>1</td>\n",
              "      <td>3</td>\n",
              "      <td>9165861</td>\n",
              "    </tr>\n",
              "    <tr>\n",
              "      <th>1</th>\n",
              "      <td>5600</td>\n",
              "      <td>143</td>\n",
              "      <td>4</td>\n",
              "      <td>1</td>\n",
              "      <td>2</td>\n",
              "      <td>2</td>\n",
              "      <td>ITAIM BIBI</td>\n",
              "      <td>Sao Paulo</td>\n",
              "      <td>1</td>\n",
              "      <td>3</td>\n",
              "      <td>8657016</td>\n",
              "    </tr>\n",
              "    <tr>\n",
              "      <th>2</th>\n",
              "      <td>3000</td>\n",
              "      <td>140</td>\n",
              "      <td>3</td>\n",
              "      <td>1</td>\n",
              "      <td>1</td>\n",
              "      <td>3</td>\n",
              "      <td>BROOKLIN</td>\n",
              "      <td>Sao Paulo</td>\n",
              "      <td>1</td>\n",
              "      <td>2</td>\n",
              "      <td>9245580</td>\n",
              "    </tr>\n",
              "    <tr>\n",
              "      <th>3</th>\n",
              "      <td>4000</td>\n",
              "      <td>70</td>\n",
              "      <td>2</td>\n",
              "      <td>1</td>\n",
              "      <td>1</td>\n",
              "      <td>4</td>\n",
              "      <td>CAMPO BELO</td>\n",
              "      <td>Sao Paulo</td>\n",
              "      <td>1</td>\n",
              "      <td>2</td>\n",
              "      <td>8788916</td>\n",
              "    </tr>\n",
              "    <tr>\n",
              "      <th>4</th>\n",
              "      <td>2500</td>\n",
              "      <td>80</td>\n",
              "      <td>2</td>\n",
              "      <td>1</td>\n",
              "      <td>2</td>\n",
              "      <td>5</td>\n",
              "      <td>PERDIZES</td>\n",
              "      <td>Sao Paulo</td>\n",
              "      <td>1</td>\n",
              "      <td>1</td>\n",
              "      <td>9257792</td>\n",
              "    </tr>\n",
              "  </tbody>\n",
              "</table>\n",
              "</div>"
            ],
            "text/plain": [
              "   valor  area  quartos  suites  ...     cidade  tipo subtipo       id\n",
              "0   1600    57        2       0  ...  Sao Paulo     1       3  9165861\n",
              "1   5600   143        4       1  ...  Sao Paulo     1       3  8657016\n",
              "2   3000   140        3       1  ...  Sao Paulo     1       2  9245580\n",
              "3   4000    70        2       1  ...  Sao Paulo     1       2  8788916\n",
              "4   2500    80        2       1  ...  Sao Paulo     1       1  9257792\n",
              "\n",
              "[5 rows x 11 columns]"
            ]
          },
          "metadata": {
            "tags": []
          },
          "execution_count": 2
        }
      ]
    },
    {
      "cell_type": "markdown",
      "metadata": {
        "id": "jeR780TfdPAP",
        "colab_type": "text"
      },
      "source": [
        "---\n",
        "# 1.0 Descrição dos dados"
      ]
    },
    {
      "cell_type": "markdown",
      "metadata": {
        "id": "pvSl4c4cdPAQ",
        "colab_type": "text"
      },
      "source": [
        "## 1.1 Dimensão dos dados"
      ]
    },
    {
      "cell_type": "code",
      "metadata": {
        "id": "jmHcoJsLdPAQ",
        "colab_type": "code",
        "outputId": "fa801da6-3a55-4e21-a600-5a921bc83021",
        "colab": {
          "base_uri": "https://localhost:8080/",
          "height": 51
        }
      },
      "source": [
        "# Imprimeido a quantidade de linhas e colunas do DataFrame\n",
        "print(f'Número de linhas do DataFrame = {data.shape[0]}')\n",
        "print(f'Número de colunas do DataFrame = {data.shape[1]}')"
      ],
      "execution_count": 3,
      "outputs": [
        {
          "output_type": "stream",
          "text": [
            "Número de linhas do DataFrame = 28879\n",
            "Número de colunas do DataFrame = 11\n"
          ],
          "name": "stdout"
        }
      ]
    },
    {
      "cell_type": "markdown",
      "metadata": {
        "id": "Skq_s3vZdPAU",
        "colab_type": "text"
      },
      "source": [
        "## 1.2 Dados ausentes"
      ]
    },
    {
      "cell_type": "code",
      "metadata": {
        "id": "M_3b0uqFdPAV",
        "colab_type": "code",
        "outputId": "8ae02f6a-8004-4aca-d812-f350a0d9e662",
        "colab": {
          "base_uri": "https://localhost:8080/",
          "height": 221
        }
      },
      "source": [
        "# Visualizando se há dados ausentes na nosssa amostra\n",
        "data.isna().sum()"
      ],
      "execution_count": 4,
      "outputs": [
        {
          "output_type": "execute_result",
          "data": {
            "text/plain": [
              "valor        0\n",
              "area         0\n",
              "quartos      0\n",
              "suites       0\n",
              "vagas        0\n",
              "bairro_id    0\n",
              "bairro       0\n",
              "cidade       0\n",
              "tipo         0\n",
              "subtipo      0\n",
              "id           0\n",
              "dtype: int64"
            ]
          },
          "metadata": {
            "tags": []
          },
          "execution_count": 4
        }
      ]
    },
    {
      "cell_type": "code",
      "metadata": {
        "id": "fnMf2_rodPAY",
        "colab_type": "code",
        "outputId": "77897659-caa2-4ea7-f94a-272ec3a5a85e",
        "colab": {
          "base_uri": "https://localhost:8080/",
          "height": 323
        }
      },
      "source": [
        "# Mostrando algumas informações sobre as variáveis\n",
        "data.info()"
      ],
      "execution_count": 5,
      "outputs": [
        {
          "output_type": "stream",
          "text": [
            "<class 'pandas.core.frame.DataFrame'>\n",
            "RangeIndex: 28879 entries, 0 to 28878\n",
            "Data columns (total 11 columns):\n",
            " #   Column     Non-Null Count  Dtype \n",
            "---  ------     --------------  ----- \n",
            " 0   valor      28879 non-null  int64 \n",
            " 1   area       28879 non-null  int64 \n",
            " 2   quartos    28879 non-null  int64 \n",
            " 3   suites     28879 non-null  int64 \n",
            " 4   vagas      28879 non-null  int64 \n",
            " 5   bairro_id  28879 non-null  int64 \n",
            " 6   bairro     28879 non-null  object\n",
            " 7   cidade     28879 non-null  object\n",
            " 8   tipo       28879 non-null  int64 \n",
            " 9   subtipo    28879 non-null  int64 \n",
            " 10  id         28879 non-null  int64 \n",
            "dtypes: int64(9), object(2)\n",
            "memory usage: 2.4+ MB\n"
          ],
          "name": "stdout"
        }
      ]
    },
    {
      "cell_type": "markdown",
      "metadata": {
        "id": "EqnzDGeLdPAb",
        "colab_type": "text"
      },
      "source": [
        "## 1.3 Estatísticas descritivas dos dados"
      ]
    },
    {
      "cell_type": "code",
      "metadata": {
        "id": "s1Bt1BbedPAc",
        "colab_type": "code",
        "outputId": "f243e5eb-77ff-4ad0-bf6c-665480d393db",
        "colab": {
          "base_uri": "https://localhost:8080/",
          "height": 297
        }
      },
      "source": [
        "# Mostrando as estatísticas das variáveis quantitativas\n",
        "data.describe()"
      ],
      "execution_count": 6,
      "outputs": [
        {
          "output_type": "execute_result",
          "data": {
            "text/html": [
              "<div>\n",
              "<style scoped>\n",
              "    .dataframe tbody tr th:only-of-type {\n",
              "        vertical-align: middle;\n",
              "    }\n",
              "\n",
              "    .dataframe tbody tr th {\n",
              "        vertical-align: top;\n",
              "    }\n",
              "\n",
              "    .dataframe thead th {\n",
              "        text-align: right;\n",
              "    }\n",
              "</style>\n",
              "<table border=\"1\" class=\"dataframe\">\n",
              "  <thead>\n",
              "    <tr style=\"text-align: right;\">\n",
              "      <th></th>\n",
              "      <th>valor</th>\n",
              "      <th>area</th>\n",
              "      <th>quartos</th>\n",
              "      <th>suites</th>\n",
              "      <th>vagas</th>\n",
              "      <th>bairro_id</th>\n",
              "      <th>tipo</th>\n",
              "      <th>subtipo</th>\n",
              "      <th>id</th>\n",
              "    </tr>\n",
              "  </thead>\n",
              "  <tbody>\n",
              "    <tr>\n",
              "      <th>count</th>\n",
              "      <td>28879.000000</td>\n",
              "      <td>28879.000000</td>\n",
              "      <td>28879.000000</td>\n",
              "      <td>28879.000000</td>\n",
              "      <td>28879.000000</td>\n",
              "      <td>28879.000000</td>\n",
              "      <td>28879.0</td>\n",
              "      <td>28879.000000</td>\n",
              "      <td>2.887900e+04</td>\n",
              "    </tr>\n",
              "    <tr>\n",
              "      <th>mean</th>\n",
              "      <td>3482.065272</td>\n",
              "      <td>98.544583</td>\n",
              "      <td>2.335780</td>\n",
              "      <td>0.880640</td>\n",
              "      <td>1.650819</td>\n",
              "      <td>46.370061</td>\n",
              "      <td>1.0</td>\n",
              "      <td>1.975830</td>\n",
              "      <td>8.333661e+06</td>\n",
              "    </tr>\n",
              "    <tr>\n",
              "      <th>std</th>\n",
              "      <td>2056.213285</td>\n",
              "      <td>57.918088</td>\n",
              "      <td>0.874391</td>\n",
              "      <td>0.917536</td>\n",
              "      <td>16.250424</td>\n",
              "      <td>58.712461</td>\n",
              "      <td>0.0</td>\n",
              "      <td>1.178082</td>\n",
              "      <td>1.544809e+06</td>\n",
              "    </tr>\n",
              "    <tr>\n",
              "      <th>min</th>\n",
              "      <td>500.000000</td>\n",
              "      <td>0.000000</td>\n",
              "      <td>0.000000</td>\n",
              "      <td>0.000000</td>\n",
              "      <td>0.000000</td>\n",
              "      <td>1.000000</td>\n",
              "      <td>1.0</td>\n",
              "      <td>1.000000</td>\n",
              "      <td>4.542900e+04</td>\n",
              "    </tr>\n",
              "    <tr>\n",
              "      <th>25%</th>\n",
              "      <td>2000.000000</td>\n",
              "      <td>60.000000</td>\n",
              "      <td>2.000000</td>\n",
              "      <td>0.000000</td>\n",
              "      <td>1.000000</td>\n",
              "      <td>10.000000</td>\n",
              "      <td>1.0</td>\n",
              "      <td>1.000000</td>\n",
              "      <td>7.766744e+06</td>\n",
              "    </tr>\n",
              "    <tr>\n",
              "      <th>50%</th>\n",
              "      <td>2800.000000</td>\n",
              "      <td>80.000000</td>\n",
              "      <td>2.000000</td>\n",
              "      <td>1.000000</td>\n",
              "      <td>1.000000</td>\n",
              "      <td>29.000000</td>\n",
              "      <td>1.0</td>\n",
              "      <td>2.000000</td>\n",
              "      <td>8.929920e+06</td>\n",
              "    </tr>\n",
              "    <tr>\n",
              "      <th>75%</th>\n",
              "      <td>4500.000000</td>\n",
              "      <td>123.000000</td>\n",
              "      <td>3.000000</td>\n",
              "      <td>1.000000</td>\n",
              "      <td>2.000000</td>\n",
              "      <td>56.000000</td>\n",
              "      <td>1.0</td>\n",
              "      <td>2.000000</td>\n",
              "      <td>9.383485e+06</td>\n",
              "    </tr>\n",
              "    <tr>\n",
              "      <th>max</th>\n",
              "      <td>10000.000000</td>\n",
              "      <td>694.000000</td>\n",
              "      <td>8.000000</td>\n",
              "      <td>5.000000</td>\n",
              "      <td>2000.000000</td>\n",
              "      <td>449.000000</td>\n",
              "      <td>1.0</td>\n",
              "      <td>4.000000</td>\n",
              "      <td>9.645240e+06</td>\n",
              "    </tr>\n",
              "  </tbody>\n",
              "</table>\n",
              "</div>"
            ],
            "text/plain": [
              "              valor          area  ...       subtipo            id\n",
              "count  28879.000000  28879.000000  ...  28879.000000  2.887900e+04\n",
              "mean    3482.065272     98.544583  ...      1.975830  8.333661e+06\n",
              "std     2056.213285     57.918088  ...      1.178082  1.544809e+06\n",
              "min      500.000000      0.000000  ...      1.000000  4.542900e+04\n",
              "25%     2000.000000     60.000000  ...      1.000000  7.766744e+06\n",
              "50%     2800.000000     80.000000  ...      2.000000  8.929920e+06\n",
              "75%     4500.000000    123.000000  ...      2.000000  9.383485e+06\n",
              "max    10000.000000    694.000000  ...      4.000000  9.645240e+06\n",
              "\n",
              "[8 rows x 9 columns]"
            ]
          },
          "metadata": {
            "tags": []
          },
          "execution_count": 6
        }
      ]
    },
    {
      "cell_type": "code",
      "metadata": {
        "id": "t9hrPj5odPAg",
        "colab_type": "code",
        "outputId": "82f1578f-a974-4d4a-de52-954bb0dd41fd",
        "colab": {
          "base_uri": "https://localhost:8080/",
          "height": 659
        }
      },
      "source": [
        "# Setando o tamanho da primeira figura\n",
        "plt.figure(figsize=(20,10))\n",
        "\n",
        "# Mostrando o hitograma\n",
        "plt.subplot(1,2,1)\n",
        "sns.distplot(data['valor'], vertical=False, bins=10, color='#ED1C24')\n",
        "\n",
        "# Definindo o título do hitograma\n",
        "linhas = data['valor'].shape[0]\n",
        "plt.title(f'Distribuição (Histograma) de todos\\n os {linhas} valores de aluguel', fontsize=20)\n",
        "\n",
        "# Definindo o eixo horizontal do hitograma\n",
        "plt.xlabel('Valores em R$', fontsize=16)\n",
        "\n",
        "# Definindo o eixo vertical do hitograma\n",
        "plt.ylabel(\"Frequência\", fontsize=16)\n",
        "\n",
        "# Mostrando o boxplot\n",
        "plt.subplot(1,2,2)\n",
        "sns.boxplot(data['valor'], orient='v', color='#83D8F4')\n",
        "\n",
        "# Definindo o título do boxplot\n",
        "plt.title(f'Distribuição (Boxplot) de todos\\n os {linhas} valores de aluguel', fontsize=20)\n",
        "\n",
        "# Configurado a fonte\n",
        "plt.rcParams.update({'font.size': 12})\n",
        "\n",
        "# Definindo o eixo vertical do boxplot\n",
        "plt.ylabel('Valores em R$', fontsize=16)\n",
        "plt.show()"
      ],
      "execution_count": 76,
      "outputs": [
        {
          "output_type": "display_data",
          "data": {
            "image/png": "[encoded data removed]",
            "text/plain": [
              "<Figure size 1440x720 with 2 Axes>"
            ]
          },
          "metadata": {
            "tags": []
          }
        }
      ]
    },
    {
      "cell_type": "code",
      "metadata": {
        "id": "ku-GhYB7dPAr",
        "colab_type": "code",
        "outputId": "33dd0257-4f07-42c7-8676-d8adcfbee64a",
        "colab": {
          "base_uri": "https://localhost:8080/",
          "height": 297
        }
      },
      "source": [
        "# Imprimindo a matriz de correlação entre as variáveis\n",
        "corr = data.drop('tipo', axis=1).corr().round(2)\n",
        "corr"
      ],
      "execution_count": 8,
      "outputs": [
        {
          "output_type": "execute_result",
          "data": {
            "text/html": [
              "<div>\n",
              "<style scoped>\n",
              "    .dataframe tbody tr th:only-of-type {\n",
              "        vertical-align: middle;\n",
              "    }\n",
              "\n",
              "    .dataframe tbody tr th {\n",
              "        vertical-align: top;\n",
              "    }\n",
              "\n",
              "    .dataframe thead th {\n",
              "        text-align: right;\n",
              "    }\n",
              "</style>\n",
              "<table border=\"1\" class=\"dataframe\">\n",
              "  <thead>\n",
              "    <tr style=\"text-align: right;\">\n",
              "      <th></th>\n",
              "      <th>valor</th>\n",
              "      <th>area</th>\n",
              "      <th>quartos</th>\n",
              "      <th>suites</th>\n",
              "      <th>vagas</th>\n",
              "      <th>bairro_id</th>\n",
              "      <th>subtipo</th>\n",
              "      <th>id</th>\n",
              "    </tr>\n",
              "  </thead>\n",
              "  <tbody>\n",
              "    <tr>\n",
              "      <th>valor</th>\n",
              "      <td>1.00</td>\n",
              "      <td>0.69</td>\n",
              "      <td>0.43</td>\n",
              "      <td>0.62</td>\n",
              "      <td>0.03</td>\n",
              "      <td>-0.22</td>\n",
              "      <td>-0.04</td>\n",
              "      <td>-0.10</td>\n",
              "    </tr>\n",
              "    <tr>\n",
              "      <th>area</th>\n",
              "      <td>0.69</td>\n",
              "      <td>1.00</td>\n",
              "      <td>0.69</td>\n",
              "      <td>0.65</td>\n",
              "      <td>0.04</td>\n",
              "      <td>-0.10</td>\n",
              "      <td>-0.04</td>\n",
              "      <td>-0.11</td>\n",
              "    </tr>\n",
              "    <tr>\n",
              "      <th>quartos</th>\n",
              "      <td>0.43</td>\n",
              "      <td>0.69</td>\n",
              "      <td>1.00</td>\n",
              "      <td>0.54</td>\n",
              "      <td>0.04</td>\n",
              "      <td>0.01</td>\n",
              "      <td>-0.04</td>\n",
              "      <td>-0.08</td>\n",
              "    </tr>\n",
              "    <tr>\n",
              "      <th>suites</th>\n",
              "      <td>0.62</td>\n",
              "      <td>0.65</td>\n",
              "      <td>0.54</td>\n",
              "      <td>1.00</td>\n",
              "      <td>0.04</td>\n",
              "      <td>-0.12</td>\n",
              "      <td>-0.04</td>\n",
              "      <td>-0.09</td>\n",
              "    </tr>\n",
              "    <tr>\n",
              "      <th>vagas</th>\n",
              "      <td>0.03</td>\n",
              "      <td>0.04</td>\n",
              "      <td>0.04</td>\n",
              "      <td>0.04</td>\n",
              "      <td>1.00</td>\n",
              "      <td>-0.01</td>\n",
              "      <td>-0.01</td>\n",
              "      <td>-0.00</td>\n",
              "    </tr>\n",
              "    <tr>\n",
              "      <th>bairro_id</th>\n",
              "      <td>-0.22</td>\n",
              "      <td>-0.10</td>\n",
              "      <td>0.01</td>\n",
              "      <td>-0.12</td>\n",
              "      <td>-0.01</td>\n",
              "      <td>1.00</td>\n",
              "      <td>-0.03</td>\n",
              "      <td>0.04</td>\n",
              "    </tr>\n",
              "    <tr>\n",
              "      <th>subtipo</th>\n",
              "      <td>-0.04</td>\n",
              "      <td>-0.04</td>\n",
              "      <td>-0.04</td>\n",
              "      <td>-0.04</td>\n",
              "      <td>-0.01</td>\n",
              "      <td>-0.03</td>\n",
              "      <td>1.00</td>\n",
              "      <td>0.13</td>\n",
              "    </tr>\n",
              "    <tr>\n",
              "      <th>id</th>\n",
              "      <td>-0.10</td>\n",
              "      <td>-0.11</td>\n",
              "      <td>-0.08</td>\n",
              "      <td>-0.09</td>\n",
              "      <td>-0.00</td>\n",
              "      <td>0.04</td>\n",
              "      <td>0.13</td>\n",
              "      <td>1.00</td>\n",
              "    </tr>\n",
              "  </tbody>\n",
              "</table>\n",
              "</div>"
            ],
            "text/plain": [
              "           valor  area  quartos  suites  vagas  bairro_id  subtipo    id\n",
              "valor       1.00  0.69     0.43    0.62   0.03      -0.22    -0.04 -0.10\n",
              "area        0.69  1.00     0.69    0.65   0.04      -0.10    -0.04 -0.11\n",
              "quartos     0.43  0.69     1.00    0.54   0.04       0.01    -0.04 -0.08\n",
              "suites      0.62  0.65     0.54    1.00   0.04      -0.12    -0.04 -0.09\n",
              "vagas       0.03  0.04     0.04    0.04   1.00      -0.01    -0.01 -0.00\n",
              "bairro_id  -0.22 -0.10     0.01   -0.12  -0.01       1.00    -0.03  0.04\n",
              "subtipo    -0.04 -0.04    -0.04   -0.04  -0.01      -0.03     1.00  0.13\n",
              "id         -0.10 -0.11    -0.08   -0.09  -0.00       0.04     0.13  1.00"
            ]
          },
          "metadata": {
            "tags": []
          },
          "execution_count": 8
        }
      ]
    },
    {
      "cell_type": "code",
      "metadata": {
        "scrolled": false,
        "id": "luY53AK_dPAu",
        "colab_type": "code",
        "outputId": "3e4bd473-ce9a-4488-fb6b-55d30960a2ef",
        "colab": {
          "base_uri": "https://localhost:8080/",
          "height": 562
        }
      },
      "source": [
        "# Configurando a figura\n",
        "plt.figure(figsize=(11, 9))\n",
        "\n",
        "# Plotando o mapa de calor com a matriz de correlação entre as variáveis\n",
        "sns.heatmap(corr, annot = True,\n",
        "            fmt = '.2f', cmap='Blues'\n",
        "           )\n",
        "\n",
        "# Configurando o título da figura\n",
        "plt.title('Correlação entre variáveis do dataset', fontsize=20)\n",
        "\n",
        "# Configurado a fonte\n",
        "plt.rcParams.update({'font.size': 12})\n",
        "\n",
        "# Mostrando a figura\n",
        "plt.show()"
      ],
      "execution_count": 77,
      "outputs": [
        {
          "output_type": "display_data",
          "data": {
            "image/png": "[encoded data removed]",
            "text/plain": [
              "<Figure size 792x648 with 2 Axes>"
            ]
          },
          "metadata": {
            "tags": []
          }
        }
      ]
    },
    {
      "cell_type": "markdown",
      "metadata": {
        "id": "zp3MhEltdPAx",
        "colab_type": "text"
      },
      "source": [
        "---\n",
        "# 2.0 Preparação dos dados\n",
        "- Analisando e resolvendo algumas inconsitências"
      ]
    },
    {
      "cell_type": "markdown",
      "metadata": {
        "id": "61LXXrnCdPAy",
        "colab_type": "text"
      },
      "source": [
        "## 2.1 Na variável 'quartos'"
      ]
    },
    {
      "cell_type": "markdown",
      "metadata": {
        "id": "gMrIfslZdPAy",
        "colab_type": "text"
      },
      "source": [
        "### Observando mas de perto a variável quartos, notamos que existem apartamentos com nenhum quarto. Até aí tudo bem, pois poderia ser um kitnet, por exemplo, onde quarto e sala se fundem."
      ]
    },
    {
      "cell_type": "code",
      "metadata": {
        "id": "N1ZTJsDsdPAz",
        "colab_type": "code",
        "outputId": "6bc94c3a-dc16-4b50-aba5-cd360f19ab2a",
        "colab": {
          "base_uri": "https://localhost:8080/",
          "height": 34
        }
      },
      "source": [
        "# Fazendo um checkpoint com uma cópia dos dados\n",
        "data2 = data.copy()\n",
        "\n",
        "# Observando quais são os números de quartos existentes em nosso dataset\n",
        "data2['quartos'].unique()"
      ],
      "execution_count": 10,
      "outputs": [
        {
          "output_type": "execute_result",
          "data": {
            "text/plain": [
              "array([2, 4, 3, 1, 6, 5, 0, 8])"
            ]
          },
          "metadata": {
            "tags": []
          },
          "execution_count": 10
        }
      ]
    },
    {
      "cell_type": "code",
      "metadata": {
        "id": "4NzL1IQvdPA2",
        "colab_type": "code",
        "outputId": "80a77398-4308-4e48-fc49-1f029f03536b",
        "colab": {
          "base_uri": "https://localhost:8080/",
          "height": 297
        }
      },
      "source": [
        "# Observando mais de perto quais são esses apartamentos com zero quartos\n",
        "quarto_zerado = data2[(data2['quartos'] == 0)]\n",
        "quarto_zerado"
      ],
      "execution_count": 11,
      "outputs": [
        {
          "output_type": "execute_result",
          "data": {
            "text/html": [
              "<div>\n",
              "<style scoped>\n",
              "    .dataframe tbody tr th:only-of-type {\n",
              "        vertical-align: middle;\n",
              "    }\n",
              "\n",
              "    .dataframe tbody tr th {\n",
              "        vertical-align: top;\n",
              "    }\n",
              "\n",
              "    .dataframe thead th {\n",
              "        text-align: right;\n",
              "    }\n",
              "</style>\n",
              "<table border=\"1\" class=\"dataframe\">\n",
              "  <thead>\n",
              "    <tr style=\"text-align: right;\">\n",
              "      <th></th>\n",
              "      <th>valor</th>\n",
              "      <th>area</th>\n",
              "      <th>quartos</th>\n",
              "      <th>suites</th>\n",
              "      <th>vagas</th>\n",
              "      <th>bairro_id</th>\n",
              "      <th>bairro</th>\n",
              "      <th>cidade</th>\n",
              "      <th>tipo</th>\n",
              "      <th>subtipo</th>\n",
              "      <th>id</th>\n",
              "    </tr>\n",
              "  </thead>\n",
              "  <tbody>\n",
              "    <tr>\n",
              "      <th>3758</th>\n",
              "      <td>2500</td>\n",
              "      <td>122</td>\n",
              "      <td>0</td>\n",
              "      <td>0</td>\n",
              "      <td>0</td>\n",
              "      <td>110</td>\n",
              "      <td>VL STA CATARINA</td>\n",
              "      <td>Sao Paulo</td>\n",
              "      <td>1</td>\n",
              "      <td>1</td>\n",
              "      <td>8680004</td>\n",
              "    </tr>\n",
              "    <tr>\n",
              "      <th>6743</th>\n",
              "      <td>2670</td>\n",
              "      <td>45</td>\n",
              "      <td>0</td>\n",
              "      <td>0</td>\n",
              "      <td>0</td>\n",
              "      <td>41</td>\n",
              "      <td>JARDINS</td>\n",
              "      <td>Sao Paulo</td>\n",
              "      <td>1</td>\n",
              "      <td>1</td>\n",
              "      <td>7801228</td>\n",
              "    </tr>\n",
              "    <tr>\n",
              "      <th>8279</th>\n",
              "      <td>8500</td>\n",
              "      <td>180</td>\n",
              "      <td>0</td>\n",
              "      <td>0</td>\n",
              "      <td>0</td>\n",
              "      <td>41</td>\n",
              "      <td>JARDINS</td>\n",
              "      <td>Sao Paulo</td>\n",
              "      <td>1</td>\n",
              "      <td>1</td>\n",
              "      <td>9624989</td>\n",
              "    </tr>\n",
              "    <tr>\n",
              "      <th>17889</th>\n",
              "      <td>2400</td>\n",
              "      <td>100</td>\n",
              "      <td>0</td>\n",
              "      <td>0</td>\n",
              "      <td>2</td>\n",
              "      <td>16</td>\n",
              "      <td>MOOCA</td>\n",
              "      <td>Sao Paulo</td>\n",
              "      <td>1</td>\n",
              "      <td>1</td>\n",
              "      <td>9587770</td>\n",
              "    </tr>\n",
              "    <tr>\n",
              "      <th>18997</th>\n",
              "      <td>700</td>\n",
              "      <td>30</td>\n",
              "      <td>0</td>\n",
              "      <td>0</td>\n",
              "      <td>0</td>\n",
              "      <td>42</td>\n",
              "      <td>BELA VISTA</td>\n",
              "      <td>Sao Paulo</td>\n",
              "      <td>1</td>\n",
              "      <td>1</td>\n",
              "      <td>9576508</td>\n",
              "    </tr>\n",
              "    <tr>\n",
              "      <th>21225</th>\n",
              "      <td>8000</td>\n",
              "      <td>138</td>\n",
              "      <td>0</td>\n",
              "      <td>0</td>\n",
              "      <td>2</td>\n",
              "      <td>3</td>\n",
              "      <td>BROOKLIN</td>\n",
              "      <td>Sao Paulo</td>\n",
              "      <td>1</td>\n",
              "      <td>1</td>\n",
              "      <td>9067825</td>\n",
              "    </tr>\n",
              "    <tr>\n",
              "      <th>22120</th>\n",
              "      <td>800</td>\n",
              "      <td>40</td>\n",
              "      <td>0</td>\n",
              "      <td>0</td>\n",
              "      <td>0</td>\n",
              "      <td>51</td>\n",
              "      <td>STA CECÍLIA</td>\n",
              "      <td>Sao Paulo</td>\n",
              "      <td>1</td>\n",
              "      <td>1</td>\n",
              "      <td>9610085</td>\n",
              "    </tr>\n",
              "    <tr>\n",
              "      <th>22727</th>\n",
              "      <td>2800</td>\n",
              "      <td>113</td>\n",
              "      <td>0</td>\n",
              "      <td>0</td>\n",
              "      <td>0</td>\n",
              "      <td>49</td>\n",
              "      <td>HIGIENÓPOLIS</td>\n",
              "      <td>Sao Paulo</td>\n",
              "      <td>1</td>\n",
              "      <td>1</td>\n",
              "      <td>7806634</td>\n",
              "    </tr>\n",
              "  </tbody>\n",
              "</table>\n",
              "</div>"
            ],
            "text/plain": [
              "       valor  area  quartos  suites  ...     cidade  tipo subtipo       id\n",
              "3758    2500   122        0       0  ...  Sao Paulo     1       1  8680004\n",
              "6743    2670    45        0       0  ...  Sao Paulo     1       1  7801228\n",
              "8279    8500   180        0       0  ...  Sao Paulo     1       1  9624989\n",
              "17889   2400   100        0       0  ...  Sao Paulo     1       1  9587770\n",
              "18997    700    30        0       0  ...  Sao Paulo     1       1  9576508\n",
              "21225   8000   138        0       0  ...  Sao Paulo     1       1  9067825\n",
              "22120    800    40        0       0  ...  Sao Paulo     1       1  9610085\n",
              "22727   2800   113        0       0  ...  Sao Paulo     1       1  7806634\n",
              "\n",
              "[8 rows x 11 columns]"
            ]
          },
          "metadata": {
            "tags": []
          },
          "execution_count": 11
        }
      ]
    },
    {
      "cell_type": "markdown",
      "metadata": {
        "id": "G0IjgRHVdPA5",
        "colab_type": "text"
      },
      "source": [
        "### Porém, apenas um desses apartamentos com zero quartos tem uma área pequena (30m²), os demais tem uma área muito grande para ser uma kitnet. O que nos leva a pensar que pode ser um erro de digitação no nosso dataset.\n",
        "### Vamos considerar esse apartamento de 30m² como sendo um kitnet e mantendo ele com zero quartos."
      ]
    },
    {
      "cell_type": "code",
      "metadata": {
        "id": "hKYhrbAUdPA5",
        "colab_type": "code",
        "outputId": "470290ff-7c50-4553-ff7d-845fb96abbd6",
        "colab": {
          "base_uri": "https://localhost:8080/",
          "height": 266
        }
      },
      "source": [
        "# Selecionando os apartamentos com zero quartos\n",
        "quarto_zerado = quarto_zerado[quarto_zerado['area'] != 30]\n",
        "\n",
        "# Mostrando quais são esses apartamentos\n",
        "quarto_zerado"
      ],
      "execution_count": 12,
      "outputs": [
        {
          "output_type": "execute_result",
          "data": {
            "text/html": [
              "<div>\n",
              "<style scoped>\n",
              "    .dataframe tbody tr th:only-of-type {\n",
              "        vertical-align: middle;\n",
              "    }\n",
              "\n",
              "    .dataframe tbody tr th {\n",
              "        vertical-align: top;\n",
              "    }\n",
              "\n",
              "    .dataframe thead th {\n",
              "        text-align: right;\n",
              "    }\n",
              "</style>\n",
              "<table border=\"1\" class=\"dataframe\">\n",
              "  <thead>\n",
              "    <tr style=\"text-align: right;\">\n",
              "      <th></th>\n",
              "      <th>valor</th>\n",
              "      <th>area</th>\n",
              "      <th>quartos</th>\n",
              "      <th>suites</th>\n",
              "      <th>vagas</th>\n",
              "      <th>bairro_id</th>\n",
              "      <th>bairro</th>\n",
              "      <th>cidade</th>\n",
              "      <th>tipo</th>\n",
              "      <th>subtipo</th>\n",
              "      <th>id</th>\n",
              "    </tr>\n",
              "  </thead>\n",
              "  <tbody>\n",
              "    <tr>\n",
              "      <th>3758</th>\n",
              "      <td>2500</td>\n",
              "      <td>122</td>\n",
              "      <td>0</td>\n",
              "      <td>0</td>\n",
              "      <td>0</td>\n",
              "      <td>110</td>\n",
              "      <td>VL STA CATARINA</td>\n",
              "      <td>Sao Paulo</td>\n",
              "      <td>1</td>\n",
              "      <td>1</td>\n",
              "      <td>8680004</td>\n",
              "    </tr>\n",
              "    <tr>\n",
              "      <th>6743</th>\n",
              "      <td>2670</td>\n",
              "      <td>45</td>\n",
              "      <td>0</td>\n",
              "      <td>0</td>\n",
              "      <td>0</td>\n",
              "      <td>41</td>\n",
              "      <td>JARDINS</td>\n",
              "      <td>Sao Paulo</td>\n",
              "      <td>1</td>\n",
              "      <td>1</td>\n",
              "      <td>7801228</td>\n",
              "    </tr>\n",
              "    <tr>\n",
              "      <th>8279</th>\n",
              "      <td>8500</td>\n",
              "      <td>180</td>\n",
              "      <td>0</td>\n",
              "      <td>0</td>\n",
              "      <td>0</td>\n",
              "      <td>41</td>\n",
              "      <td>JARDINS</td>\n",
              "      <td>Sao Paulo</td>\n",
              "      <td>1</td>\n",
              "      <td>1</td>\n",
              "      <td>9624989</td>\n",
              "    </tr>\n",
              "    <tr>\n",
              "      <th>17889</th>\n",
              "      <td>2400</td>\n",
              "      <td>100</td>\n",
              "      <td>0</td>\n",
              "      <td>0</td>\n",
              "      <td>2</td>\n",
              "      <td>16</td>\n",
              "      <td>MOOCA</td>\n",
              "      <td>Sao Paulo</td>\n",
              "      <td>1</td>\n",
              "      <td>1</td>\n",
              "      <td>9587770</td>\n",
              "    </tr>\n",
              "    <tr>\n",
              "      <th>21225</th>\n",
              "      <td>8000</td>\n",
              "      <td>138</td>\n",
              "      <td>0</td>\n",
              "      <td>0</td>\n",
              "      <td>2</td>\n",
              "      <td>3</td>\n",
              "      <td>BROOKLIN</td>\n",
              "      <td>Sao Paulo</td>\n",
              "      <td>1</td>\n",
              "      <td>1</td>\n",
              "      <td>9067825</td>\n",
              "    </tr>\n",
              "    <tr>\n",
              "      <th>22120</th>\n",
              "      <td>800</td>\n",
              "      <td>40</td>\n",
              "      <td>0</td>\n",
              "      <td>0</td>\n",
              "      <td>0</td>\n",
              "      <td>51</td>\n",
              "      <td>STA CECÍLIA</td>\n",
              "      <td>Sao Paulo</td>\n",
              "      <td>1</td>\n",
              "      <td>1</td>\n",
              "      <td>9610085</td>\n",
              "    </tr>\n",
              "    <tr>\n",
              "      <th>22727</th>\n",
              "      <td>2800</td>\n",
              "      <td>113</td>\n",
              "      <td>0</td>\n",
              "      <td>0</td>\n",
              "      <td>0</td>\n",
              "      <td>49</td>\n",
              "      <td>HIGIENÓPOLIS</td>\n",
              "      <td>Sao Paulo</td>\n",
              "      <td>1</td>\n",
              "      <td>1</td>\n",
              "      <td>7806634</td>\n",
              "    </tr>\n",
              "  </tbody>\n",
              "</table>\n",
              "</div>"
            ],
            "text/plain": [
              "       valor  area  quartos  suites  ...     cidade  tipo subtipo       id\n",
              "3758    2500   122        0       0  ...  Sao Paulo     1       1  8680004\n",
              "6743    2670    45        0       0  ...  Sao Paulo     1       1  7801228\n",
              "8279    8500   180        0       0  ...  Sao Paulo     1       1  9624989\n",
              "17889   2400   100        0       0  ...  Sao Paulo     1       1  9587770\n",
              "21225   8000   138        0       0  ...  Sao Paulo     1       1  9067825\n",
              "22120    800    40        0       0  ...  Sao Paulo     1       1  9610085\n",
              "22727   2800   113        0       0  ...  Sao Paulo     1       1  7806634\n",
              "\n",
              "[7 rows x 11 columns]"
            ]
          },
          "metadata": {
            "tags": []
          },
          "execution_count": 12
        }
      ]
    },
    {
      "cell_type": "markdown",
      "metadata": {
        "id": "7bifQ_u1dPA8",
        "colab_type": "text"
      },
      "source": [
        "### Já os demais termos que dar um jeito nisso. Por isso, vamos tentar estimar o número de quartos através do tamanho (área) do apartamento observando os demais dados."
      ]
    },
    {
      "cell_type": "code",
      "metadata": {
        "id": "ogqe_8iQdPA8",
        "colab_type": "code",
        "colab": {}
      },
      "source": [
        "# Criando um laço que itera por todas as áreas dos apartamentos com zero quartos \n",
        "#   e substitui o zero no número de quarto pelo maior número de quartos de todos\n",
        "#   os outros apartamentos com a mesma área\n",
        "for i in quarto_zerado['area'].iteritems():\n",
        "    area = i[1]\n",
        "    data2['quartos'].loc[i[0]] = int(data2[data2['area'] == area]['quartos'].max())"
      ],
      "execution_count": 0,
      "outputs": []
    },
    {
      "cell_type": "code",
      "metadata": {
        "id": "abMt1k3gdPA_",
        "colab_type": "code",
        "outputId": "68870a2b-888d-454c-8feb-bb5552fe2625",
        "colab": {
          "base_uri": "https://localhost:8080/",
          "height": 80
        }
      },
      "source": [
        "# Mostrando que agora temos apenas aquele kitinet com zero quartos\n",
        "data2[(data2['quartos'] == 0)]"
      ],
      "execution_count": 14,
      "outputs": [
        {
          "output_type": "execute_result",
          "data": {
            "text/html": [
              "<div>\n",
              "<style scoped>\n",
              "    .dataframe tbody tr th:only-of-type {\n",
              "        vertical-align: middle;\n",
              "    }\n",
              "\n",
              "    .dataframe tbody tr th {\n",
              "        vertical-align: top;\n",
              "    }\n",
              "\n",
              "    .dataframe thead th {\n",
              "        text-align: right;\n",
              "    }\n",
              "</style>\n",
              "<table border=\"1\" class=\"dataframe\">\n",
              "  <thead>\n",
              "    <tr style=\"text-align: right;\">\n",
              "      <th></th>\n",
              "      <th>valor</th>\n",
              "      <th>area</th>\n",
              "      <th>quartos</th>\n",
              "      <th>suites</th>\n",
              "      <th>vagas</th>\n",
              "      <th>bairro_id</th>\n",
              "      <th>bairro</th>\n",
              "      <th>cidade</th>\n",
              "      <th>tipo</th>\n",
              "      <th>subtipo</th>\n",
              "      <th>id</th>\n",
              "    </tr>\n",
              "  </thead>\n",
              "  <tbody>\n",
              "    <tr>\n",
              "      <th>18997</th>\n",
              "      <td>700</td>\n",
              "      <td>30</td>\n",
              "      <td>0</td>\n",
              "      <td>0</td>\n",
              "      <td>0</td>\n",
              "      <td>42</td>\n",
              "      <td>BELA VISTA</td>\n",
              "      <td>Sao Paulo</td>\n",
              "      <td>1</td>\n",
              "      <td>1</td>\n",
              "      <td>9576508</td>\n",
              "    </tr>\n",
              "  </tbody>\n",
              "</table>\n",
              "</div>"
            ],
            "text/plain": [
              "       valor  area  quartos  suites  ...     cidade  tipo subtipo       id\n",
              "18997    700    30        0       0  ...  Sao Paulo     1       1  9576508\n",
              "\n",
              "[1 rows x 11 columns]"
            ]
          },
          "metadata": {
            "tags": []
          },
          "execution_count": 14
        }
      ]
    },
    {
      "cell_type": "markdown",
      "metadata": {
        "id": "DpF6Ms31dPBC",
        "colab_type": "text"
      },
      "source": [
        "## 2.2 Na variável 'area'"
      ]
    },
    {
      "cell_type": "markdown",
      "metadata": {
        "id": "14dydBOydPBC",
        "colab_type": "text"
      },
      "source": [
        "### 2.2.1 Encontrando algumas inconsistências"
      ]
    },
    {
      "cell_type": "markdown",
      "metadata": {
        "id": "aotWu8Q2dPBD",
        "colab_type": "text"
      },
      "source": [
        "#### Olhando mais afundo a variável 'area'"
      ]
    },
    {
      "cell_type": "code",
      "metadata": {
        "scrolled": false,
        "id": "zvMl3QeudPBD",
        "colab_type": "code",
        "outputId": "1e236fec-2141-4b6c-d34f-5360fe6c6b4b",
        "colab": {
          "base_uri": "https://localhost:8080/",
          "height": 510
        }
      },
      "source": [
        "# Mostrando todos os valores de área registrado no dataset\n",
        "data2['area'].unique()"
      ],
      "execution_count": 15,
      "outputs": [
        {
          "output_type": "execute_result",
          "data": {
            "text/plain": [
              "array([ 57, 143, 140,  70,  80, 110, 200,  56,  43, 213,  90, 150,  51,\n",
              "       193,  76, 136,  74,  34,  44,  83, 220,  65, 130,  87,  64, 141,\n",
              "        66,  63, 182, 146,  68, 112, 124,  59,  48,  37,  33,  78, 138,\n",
              "        50,  60, 246,  93,  82,  69,  95, 127, 118,  55,  46,  85, 111,\n",
              "        45, 288, 165, 205,  47, 171,  49,  52, 187, 180,  91,  54,  35,\n",
              "        40,  96, 120,  42, 231,  79,  81,  88, 115, 228, 125, 151,  41,\n",
              "       103,  86,  39, 135,  62, 100,  38, 161,  72, 208,  75, 210,  84,\n",
              "        58, 268, 106,  98, 306, 101,  97, 270,  30,  53, 242,  73, 129,\n",
              "       128, 160, 491, 280, 117, 277,  71, 162, 170,  67, 102, 223, 320,\n",
              "       250, 145, 142,  36, 105, 244, 245, 168, 222, 122, 197,  61, 147,\n",
              "       188, 329, 230, 175, 176, 159,  89, 163, 126, 209, 177, 134, 121,\n",
              "       131, 190, 241,  92,  77, 196, 113, 184, 225, 240, 289, 309, 166,\n",
              "       185, 207, 186, 264, 189, 237, 114,  31, 218, 199, 215, 173, 430,\n",
              "       183, 167, 116, 346, 206, 172, 198, 139, 260, 107, 119, 192, 123,\n",
              "       255, 152, 300, 247, 178, 144,  94, 195, 108, 204, 278, 104, 179,\n",
              "       391, 133, 303, 283, 236, 360, 155, 157, 257, 181, 153, 137, 169,\n",
              "       211, 234, 216, 400, 370,  27, 694, 109,  28, 224, 251, 221, 272,\n",
              "       295, 214, 164, 212, 252, 227, 158, 266, 276, 154, 290, 310, 202,\n",
              "       386,  32, 156,  24, 149, 340, 412, 226,  99, 293, 174, 243, 256,\n",
              "       217, 194, 235, 267, 132, 191, 203, 265, 305, 440, 325, 359,  29,\n",
              "       238, 365, 148, 326, 330, 315, 312, 380,  19, 248, 363, 279, 350,\n",
              "        25, 249, 274, 352,  15, 504,  26,  18, 286, 297, 232, 600, 607,\n",
              "       550, 344, 411, 294,  22,  10, 285, 349, 358, 342, 418, 201,  20,\n",
              "       319, 298, 364, 261, 390, 219, 253, 460, 328, 254, 385, 341, 239,\n",
              "       275, 313, 477,   0, 323, 296, 498, 233,  23, 314, 258, 375, 410,\n",
              "       480, 291, 368, 273, 470, 450, 302, 308, 333, 421, 262, 304, 311,\n",
              "       387, 406, 356, 321, 307, 281, 354, 500, 355, 377, 640, 475, 271,\n",
              "       259, 269, 492, 378, 229, 348, 282, 347, 343, 339, 318, 407, 287,\n",
              "       420, 398,   1, 505])"
            ]
          },
          "metadata": {
            "tags": []
          },
          "execution_count": 15
        }
      ]
    },
    {
      "cell_type": "markdown",
      "metadata": {
        "id": "o4LJ5A2odPBF",
        "colab_type": "text"
      },
      "source": [
        "#### Observando com mais atenção a variável área, notamos que temos um problema pela frente aqui também. São eles:"
      ]
    },
    {
      "cell_type": "markdown",
      "metadata": {
        "id": "Y-gCRU05dPBF",
        "colab_type": "text"
      },
      "source": [
        "- Existem alguns apartamentos com área zero. Isso não faz sentido e precisamos dar um jeito nisso."
      ]
    },
    {
      "cell_type": "code",
      "metadata": {
        "id": "PQW_h61FdPBG",
        "colab_type": "code",
        "outputId": "21ec6fff-9f98-4142-e6a9-2c356a345728",
        "colab": {
          "base_uri": "https://localhost:8080/",
          "height": 762
        }
      },
      "source": [
        "# Mostrando todos os apartamentos com área zero\n",
        "data2[data2['area'] == 0]"
      ],
      "execution_count": 16,
      "outputs": [
        {
          "output_type": "execute_result",
          "data": {
            "text/html": [
              "<div>\n",
              "<style scoped>\n",
              "    .dataframe tbody tr th:only-of-type {\n",
              "        vertical-align: middle;\n",
              "    }\n",
              "\n",
              "    .dataframe tbody tr th {\n",
              "        vertical-align: top;\n",
              "    }\n",
              "\n",
              "    .dataframe thead th {\n",
              "        text-align: right;\n",
              "    }\n",
              "</style>\n",
              "<table border=\"1\" class=\"dataframe\">\n",
              "  <thead>\n",
              "    <tr style=\"text-align: right;\">\n",
              "      <th></th>\n",
              "      <th>valor</th>\n",
              "      <th>area</th>\n",
              "      <th>quartos</th>\n",
              "      <th>suites</th>\n",
              "      <th>vagas</th>\n",
              "      <th>bairro_id</th>\n",
              "      <th>bairro</th>\n",
              "      <th>cidade</th>\n",
              "      <th>tipo</th>\n",
              "      <th>subtipo</th>\n",
              "      <th>id</th>\n",
              "    </tr>\n",
              "  </thead>\n",
              "  <tbody>\n",
              "    <tr>\n",
              "      <th>10285</th>\n",
              "      <td>1700</td>\n",
              "      <td>0</td>\n",
              "      <td>3</td>\n",
              "      <td>1</td>\n",
              "      <td>2</td>\n",
              "      <td>16</td>\n",
              "      <td>MOOCA</td>\n",
              "      <td>Sao Paulo</td>\n",
              "      <td>1</td>\n",
              "      <td>2</td>\n",
              "      <td>9575472</td>\n",
              "    </tr>\n",
              "    <tr>\n",
              "      <th>20467</th>\n",
              "      <td>1400</td>\n",
              "      <td>0</td>\n",
              "      <td>3</td>\n",
              "      <td>0</td>\n",
              "      <td>1</td>\n",
              "      <td>73</td>\n",
              "      <td>FREGUESIA DO Ó</td>\n",
              "      <td>Sao Paulo</td>\n",
              "      <td>1</td>\n",
              "      <td>2</td>\n",
              "      <td>9604609</td>\n",
              "    </tr>\n",
              "    <tr>\n",
              "      <th>20780</th>\n",
              "      <td>3500</td>\n",
              "      <td>0</td>\n",
              "      <td>1</td>\n",
              "      <td>0</td>\n",
              "      <td>1</td>\n",
              "      <td>3</td>\n",
              "      <td>BROOKLIN</td>\n",
              "      <td>Sao Paulo</td>\n",
              "      <td>1</td>\n",
              "      <td>2</td>\n",
              "      <td>9592144</td>\n",
              "    </tr>\n",
              "    <tr>\n",
              "      <th>23224</th>\n",
              "      <td>2900</td>\n",
              "      <td>0</td>\n",
              "      <td>1</td>\n",
              "      <td>0</td>\n",
              "      <td>1</td>\n",
              "      <td>27</td>\n",
              "      <td>AV PAULISTA</td>\n",
              "      <td>Sao Paulo</td>\n",
              "      <td>1</td>\n",
              "      <td>2</td>\n",
              "      <td>9592142</td>\n",
              "    </tr>\n",
              "    <tr>\n",
              "      <th>28156</th>\n",
              "      <td>1700</td>\n",
              "      <td>0</td>\n",
              "      <td>1</td>\n",
              "      <td>0</td>\n",
              "      <td>0</td>\n",
              "      <td>23</td>\n",
              "      <td>CERQUEIRA CÉSAR</td>\n",
              "      <td>Sao Paulo</td>\n",
              "      <td>1</td>\n",
              "      <td>2</td>\n",
              "      <td>9636363</td>\n",
              "    </tr>\n",
              "    <tr>\n",
              "      <th>28168</th>\n",
              "      <td>1100</td>\n",
              "      <td>0</td>\n",
              "      <td>2</td>\n",
              "      <td>1</td>\n",
              "      <td>1</td>\n",
              "      <td>124</td>\n",
              "      <td>VL CARRÃO</td>\n",
              "      <td>Sao Paulo</td>\n",
              "      <td>1</td>\n",
              "      <td>1</td>\n",
              "      <td>9591566</td>\n",
              "    </tr>\n",
              "    <tr>\n",
              "      <th>28178</th>\n",
              "      <td>1300</td>\n",
              "      <td>0</td>\n",
              "      <td>2</td>\n",
              "      <td>0</td>\n",
              "      <td>0</td>\n",
              "      <td>55</td>\n",
              "      <td>CAMBUCI</td>\n",
              "      <td>Sao Paulo</td>\n",
              "      <td>1</td>\n",
              "      <td>1</td>\n",
              "      <td>9634200</td>\n",
              "    </tr>\n",
              "    <tr>\n",
              "      <th>28191</th>\n",
              "      <td>2500</td>\n",
              "      <td>0</td>\n",
              "      <td>2</td>\n",
              "      <td>0</td>\n",
              "      <td>1</td>\n",
              "      <td>6</td>\n",
              "      <td>JD PAULISTA</td>\n",
              "      <td>Sao Paulo</td>\n",
              "      <td>1</td>\n",
              "      <td>2</td>\n",
              "      <td>9617319</td>\n",
              "    </tr>\n",
              "    <tr>\n",
              "      <th>28209</th>\n",
              "      <td>1300</td>\n",
              "      <td>0</td>\n",
              "      <td>1</td>\n",
              "      <td>0</td>\n",
              "      <td>0</td>\n",
              "      <td>8</td>\n",
              "      <td>CONSOLAÇÃO</td>\n",
              "      <td>Sao Paulo</td>\n",
              "      <td>1</td>\n",
              "      <td>1</td>\n",
              "      <td>9591745</td>\n",
              "    </tr>\n",
              "    <tr>\n",
              "      <th>28223</th>\n",
              "      <td>2300</td>\n",
              "      <td>0</td>\n",
              "      <td>2</td>\n",
              "      <td>1</td>\n",
              "      <td>2</td>\n",
              "      <td>69</td>\n",
              "      <td>REAL PARQUE</td>\n",
              "      <td>Sao Paulo</td>\n",
              "      <td>1</td>\n",
              "      <td>2</td>\n",
              "      <td>9427670</td>\n",
              "    </tr>\n",
              "    <tr>\n",
              "      <th>28235</th>\n",
              "      <td>1400</td>\n",
              "      <td>0</td>\n",
              "      <td>1</td>\n",
              "      <td>0</td>\n",
              "      <td>1</td>\n",
              "      <td>448</td>\n",
              "      <td>VL ARRIETE</td>\n",
              "      <td>Sao Paulo</td>\n",
              "      <td>1</td>\n",
              "      <td>2</td>\n",
              "      <td>9617419</td>\n",
              "    </tr>\n",
              "    <tr>\n",
              "      <th>28240</th>\n",
              "      <td>900</td>\n",
              "      <td>0</td>\n",
              "      <td>2</td>\n",
              "      <td>0</td>\n",
              "      <td>0</td>\n",
              "      <td>301</td>\n",
              "      <td>VL MARIA</td>\n",
              "      <td>Sao Paulo</td>\n",
              "      <td>1</td>\n",
              "      <td>1</td>\n",
              "      <td>9617999</td>\n",
              "    </tr>\n",
              "    <tr>\n",
              "      <th>28261</th>\n",
              "      <td>2700</td>\n",
              "      <td>0</td>\n",
              "      <td>2</td>\n",
              "      <td>0</td>\n",
              "      <td>1</td>\n",
              "      <td>62</td>\n",
              "      <td>ITAIM</td>\n",
              "      <td>Sao Paulo</td>\n",
              "      <td>1</td>\n",
              "      <td>2</td>\n",
              "      <td>9396916</td>\n",
              "    </tr>\n",
              "    <tr>\n",
              "      <th>28275</th>\n",
              "      <td>4000</td>\n",
              "      <td>0</td>\n",
              "      <td>1</td>\n",
              "      <td>0</td>\n",
              "      <td>1</td>\n",
              "      <td>3</td>\n",
              "      <td>BROOKLIN</td>\n",
              "      <td>Sao Paulo</td>\n",
              "      <td>1</td>\n",
              "      <td>2</td>\n",
              "      <td>9635983</td>\n",
              "    </tr>\n",
              "    <tr>\n",
              "      <th>28309</th>\n",
              "      <td>1400</td>\n",
              "      <td>0</td>\n",
              "      <td>1</td>\n",
              "      <td>0</td>\n",
              "      <td>1</td>\n",
              "      <td>10</td>\n",
              "      <td>MOEMA</td>\n",
              "      <td>Sao Paulo</td>\n",
              "      <td>1</td>\n",
              "      <td>1</td>\n",
              "      <td>9587494</td>\n",
              "    </tr>\n",
              "    <tr>\n",
              "      <th>28317</th>\n",
              "      <td>800</td>\n",
              "      <td>0</td>\n",
              "      <td>1</td>\n",
              "      <td>0</td>\n",
              "      <td>0</td>\n",
              "      <td>47</td>\n",
              "      <td>VL BUARQUE</td>\n",
              "      <td>Sao Paulo</td>\n",
              "      <td>1</td>\n",
              "      <td>1</td>\n",
              "      <td>9635636</td>\n",
              "    </tr>\n",
              "    <tr>\n",
              "      <th>28320</th>\n",
              "      <td>1900</td>\n",
              "      <td>0</td>\n",
              "      <td>2</td>\n",
              "      <td>0</td>\n",
              "      <td>1</td>\n",
              "      <td>70</td>\n",
              "      <td>VL CLEMENTINO</td>\n",
              "      <td>Sao Paulo</td>\n",
              "      <td>1</td>\n",
              "      <td>1</td>\n",
              "      <td>9440474</td>\n",
              "    </tr>\n",
              "    <tr>\n",
              "      <th>28322</th>\n",
              "      <td>1400</td>\n",
              "      <td>0</td>\n",
              "      <td>1</td>\n",
              "      <td>0</td>\n",
              "      <td>1</td>\n",
              "      <td>10</td>\n",
              "      <td>MOEMA</td>\n",
              "      <td>Sao Paulo</td>\n",
              "      <td>1</td>\n",
              "      <td>1</td>\n",
              "      <td>9587493</td>\n",
              "    </tr>\n",
              "    <tr>\n",
              "      <th>28358</th>\n",
              "      <td>1900</td>\n",
              "      <td>0</td>\n",
              "      <td>2</td>\n",
              "      <td>0</td>\n",
              "      <td>1</td>\n",
              "      <td>70</td>\n",
              "      <td>VL CLEMENTINO</td>\n",
              "      <td>Sao Paulo</td>\n",
              "      <td>1</td>\n",
              "      <td>1</td>\n",
              "      <td>9440473</td>\n",
              "    </tr>\n",
              "    <tr>\n",
              "      <th>28362</th>\n",
              "      <td>2500</td>\n",
              "      <td>0</td>\n",
              "      <td>1</td>\n",
              "      <td>0</td>\n",
              "      <td>1</td>\n",
              "      <td>10</td>\n",
              "      <td>MOEMA</td>\n",
              "      <td>Sao Paulo</td>\n",
              "      <td>1</td>\n",
              "      <td>2</td>\n",
              "      <td>9584147</td>\n",
              "    </tr>\n",
              "    <tr>\n",
              "      <th>28369</th>\n",
              "      <td>800</td>\n",
              "      <td>0</td>\n",
              "      <td>1</td>\n",
              "      <td>0</td>\n",
              "      <td>0</td>\n",
              "      <td>47</td>\n",
              "      <td>VL BUARQUE</td>\n",
              "      <td>Sao Paulo</td>\n",
              "      <td>1</td>\n",
              "      <td>1</td>\n",
              "      <td>9591741</td>\n",
              "    </tr>\n",
              "    <tr>\n",
              "      <th>28376</th>\n",
              "      <td>2300</td>\n",
              "      <td>0</td>\n",
              "      <td>1</td>\n",
              "      <td>0</td>\n",
              "      <td>1</td>\n",
              "      <td>37</td>\n",
              "      <td>VL MARIANA</td>\n",
              "      <td>Sao Paulo</td>\n",
              "      <td>1</td>\n",
              "      <td>2</td>\n",
              "      <td>9592145</td>\n",
              "    </tr>\n",
              "    <tr>\n",
              "      <th>28377</th>\n",
              "      <td>1600</td>\n",
              "      <td>0</td>\n",
              "      <td>2</td>\n",
              "      <td>0</td>\n",
              "      <td>1</td>\n",
              "      <td>49</td>\n",
              "      <td>HIGIENÓPOLIS</td>\n",
              "      <td>Sao Paulo</td>\n",
              "      <td>1</td>\n",
              "      <td>2</td>\n",
              "      <td>9634871</td>\n",
              "    </tr>\n",
              "  </tbody>\n",
              "</table>\n",
              "</div>"
            ],
            "text/plain": [
              "       valor  area  quartos  suites  ...     cidade  tipo subtipo       id\n",
              "10285   1700     0        3       1  ...  Sao Paulo     1       2  9575472\n",
              "20467   1400     0        3       0  ...  Sao Paulo     1       2  9604609\n",
              "20780   3500     0        1       0  ...  Sao Paulo     1       2  9592144\n",
              "23224   2900     0        1       0  ...  Sao Paulo     1       2  9592142\n",
              "28156   1700     0        1       0  ...  Sao Paulo     1       2  9636363\n",
              "28168   1100     0        2       1  ...  Sao Paulo     1       1  9591566\n",
              "28178   1300     0        2       0  ...  Sao Paulo     1       1  9634200\n",
              "28191   2500     0        2       0  ...  Sao Paulo     1       2  9617319\n",
              "28209   1300     0        1       0  ...  Sao Paulo     1       1  9591745\n",
              "28223   2300     0        2       1  ...  Sao Paulo     1       2  9427670\n",
              "28235   1400     0        1       0  ...  Sao Paulo     1       2  9617419\n",
              "28240    900     0        2       0  ...  Sao Paulo     1       1  9617999\n",
              "28261   2700     0        2       0  ...  Sao Paulo     1       2  9396916\n",
              "28275   4000     0        1       0  ...  Sao Paulo     1       2  9635983\n",
              "28309   1400     0        1       0  ...  Sao Paulo     1       1  9587494\n",
              "28317    800     0        1       0  ...  Sao Paulo     1       1  9635636\n",
              "28320   1900     0        2       0  ...  Sao Paulo     1       1  9440474\n",
              "28322   1400     0        1       0  ...  Sao Paulo     1       1  9587493\n",
              "28358   1900     0        2       0  ...  Sao Paulo     1       1  9440473\n",
              "28362   2500     0        1       0  ...  Sao Paulo     1       2  9584147\n",
              "28369    800     0        1       0  ...  Sao Paulo     1       1  9591741\n",
              "28376   2300     0        1       0  ...  Sao Paulo     1       2  9592145\n",
              "28377   1600     0        2       0  ...  Sao Paulo     1       2  9634871\n",
              "\n",
              "[23 rows x 11 columns]"
            ]
          },
          "metadata": {
            "tags": []
          },
          "execution_count": 16
        }
      ]
    },
    {
      "cell_type": "markdown",
      "metadata": {
        "id": "mztS4Bg8dPBI",
        "colab_type": "text"
      },
      "source": [
        "- Temos também um apartamento com 10m² de área com 3 suítes. Claramente um erro de digitação (talvez deveria ser 100m²)."
      ]
    },
    {
      "cell_type": "code",
      "metadata": {
        "id": "RRDNK-nRdPBI",
        "colab_type": "code",
        "outputId": "33b27712-1c3c-4934-c955-4b2a168aeccc",
        "colab": {
          "base_uri": "https://localhost:8080/",
          "height": 266
        }
      },
      "source": [
        "# Mostrando todos os apartamentos com área igual a 10m²\n",
        "data2[data2['area'] == 10]"
      ],
      "execution_count": 17,
      "outputs": [
        {
          "output_type": "execute_result",
          "data": {
            "text/html": [
              "<div>\n",
              "<style scoped>\n",
              "    .dataframe tbody tr th:only-of-type {\n",
              "        vertical-align: middle;\n",
              "    }\n",
              "\n",
              "    .dataframe tbody tr th {\n",
              "        vertical-align: top;\n",
              "    }\n",
              "\n",
              "    .dataframe thead th {\n",
              "        text-align: right;\n",
              "    }\n",
              "</style>\n",
              "<table border=\"1\" class=\"dataframe\">\n",
              "  <thead>\n",
              "    <tr style=\"text-align: right;\">\n",
              "      <th></th>\n",
              "      <th>valor</th>\n",
              "      <th>area</th>\n",
              "      <th>quartos</th>\n",
              "      <th>suites</th>\n",
              "      <th>vagas</th>\n",
              "      <th>bairro_id</th>\n",
              "      <th>bairro</th>\n",
              "      <th>cidade</th>\n",
              "      <th>tipo</th>\n",
              "      <th>subtipo</th>\n",
              "      <th>id</th>\n",
              "    </tr>\n",
              "  </thead>\n",
              "  <tbody>\n",
              "    <tr>\n",
              "      <th>6694</th>\n",
              "      <td>900</td>\n",
              "      <td>10</td>\n",
              "      <td>2</td>\n",
              "      <td>0</td>\n",
              "      <td>1</td>\n",
              "      <td>299</td>\n",
              "      <td>VL SILVIA</td>\n",
              "      <td>Sao Paulo</td>\n",
              "      <td>1</td>\n",
              "      <td>2</td>\n",
              "      <td>9516685</td>\n",
              "    </tr>\n",
              "    <tr>\n",
              "      <th>9922</th>\n",
              "      <td>4500</td>\n",
              "      <td>10</td>\n",
              "      <td>3</td>\n",
              "      <td>3</td>\n",
              "      <td>2</td>\n",
              "      <td>2</td>\n",
              "      <td>ITAIM BIBI</td>\n",
              "      <td>Sao Paulo</td>\n",
              "      <td>1</td>\n",
              "      <td>1</td>\n",
              "      <td>9544863</td>\n",
              "    </tr>\n",
              "    <tr>\n",
              "      <th>9991</th>\n",
              "      <td>1200</td>\n",
              "      <td>10</td>\n",
              "      <td>2</td>\n",
              "      <td>0</td>\n",
              "      <td>1</td>\n",
              "      <td>234</td>\n",
              "      <td>CANGAÍBA</td>\n",
              "      <td>Sao Paulo</td>\n",
              "      <td>1</td>\n",
              "      <td>1</td>\n",
              "      <td>9406419</td>\n",
              "    </tr>\n",
              "    <tr>\n",
              "      <th>23753</th>\n",
              "      <td>1100</td>\n",
              "      <td>10</td>\n",
              "      <td>2</td>\n",
              "      <td>0</td>\n",
              "      <td>1</td>\n",
              "      <td>429</td>\n",
              "      <td>ENG GOULART</td>\n",
              "      <td>Sao Paulo</td>\n",
              "      <td>1</td>\n",
              "      <td>2</td>\n",
              "      <td>9399558</td>\n",
              "    </tr>\n",
              "    <tr>\n",
              "      <th>24717</th>\n",
              "      <td>1500</td>\n",
              "      <td>10</td>\n",
              "      <td>2</td>\n",
              "      <td>0</td>\n",
              "      <td>1</td>\n",
              "      <td>234</td>\n",
              "      <td>CANGAÍBA</td>\n",
              "      <td>Sao Paulo</td>\n",
              "      <td>1</td>\n",
              "      <td>1</td>\n",
              "      <td>9407256</td>\n",
              "    </tr>\n",
              "    <tr>\n",
              "      <th>24745</th>\n",
              "      <td>1600</td>\n",
              "      <td>10</td>\n",
              "      <td>2</td>\n",
              "      <td>0</td>\n",
              "      <td>1</td>\n",
              "      <td>17</td>\n",
              "      <td>TATUAPÉ</td>\n",
              "      <td>Sao Paulo</td>\n",
              "      <td>1</td>\n",
              "      <td>1</td>\n",
              "      <td>9407812</td>\n",
              "    </tr>\n",
              "    <tr>\n",
              "      <th>27085</th>\n",
              "      <td>1500</td>\n",
              "      <td>10</td>\n",
              "      <td>2</td>\n",
              "      <td>0</td>\n",
              "      <td>1</td>\n",
              "      <td>234</td>\n",
              "      <td>CANGAÍBA</td>\n",
              "      <td>Sao Paulo</td>\n",
              "      <td>1</td>\n",
              "      <td>1</td>\n",
              "      <td>9406530</td>\n",
              "    </tr>\n",
              "  </tbody>\n",
              "</table>\n",
              "</div>"
            ],
            "text/plain": [
              "       valor  area  quartos  suites  ...     cidade  tipo subtipo       id\n",
              "6694     900    10        2       0  ...  Sao Paulo     1       2  9516685\n",
              "9922    4500    10        3       3  ...  Sao Paulo     1       1  9544863\n",
              "9991    1200    10        2       0  ...  Sao Paulo     1       1  9406419\n",
              "23753   1100    10        2       0  ...  Sao Paulo     1       2  9399558\n",
              "24717   1500    10        2       0  ...  Sao Paulo     1       1  9407256\n",
              "24745   1600    10        2       0  ...  Sao Paulo     1       1  9407812\n",
              "27085   1500    10        2       0  ...  Sao Paulo     1       1  9406530\n",
              "\n",
              "[7 rows x 11 columns]"
            ]
          },
          "metadata": {
            "tags": []
          },
          "execution_count": 17
        }
      ]
    },
    {
      "cell_type": "markdown",
      "metadata": {
        "id": "iDM2rzRudPBK",
        "colab_type": "text"
      },
      "source": [
        "- E por fim, temos um apartamento com área de 1m². apesar de ter apenas um quarto, não acredito que seja uma área válida."
      ]
    },
    {
      "cell_type": "code",
      "metadata": {
        "id": "1Cz5f5l3dPBL",
        "colab_type": "code",
        "outputId": "9f5259f6-9489-4634-a38d-80ca4492c892",
        "colab": {
          "base_uri": "https://localhost:8080/",
          "height": 80
        }
      },
      "source": [
        "# Mostrando todos os apartamentos com área igual a 1m²\n",
        "data2[data2['area'] == 1]"
      ],
      "execution_count": 18,
      "outputs": [
        {
          "output_type": "execute_result",
          "data": {
            "text/html": [
              "<div>\n",
              "<style scoped>\n",
              "    .dataframe tbody tr th:only-of-type {\n",
              "        vertical-align: middle;\n",
              "    }\n",
              "\n",
              "    .dataframe tbody tr th {\n",
              "        vertical-align: top;\n",
              "    }\n",
              "\n",
              "    .dataframe thead th {\n",
              "        text-align: right;\n",
              "    }\n",
              "</style>\n",
              "<table border=\"1\" class=\"dataframe\">\n",
              "  <thead>\n",
              "    <tr style=\"text-align: right;\">\n",
              "      <th></th>\n",
              "      <th>valor</th>\n",
              "      <th>area</th>\n",
              "      <th>quartos</th>\n",
              "      <th>suites</th>\n",
              "      <th>vagas</th>\n",
              "      <th>bairro_id</th>\n",
              "      <th>bairro</th>\n",
              "      <th>cidade</th>\n",
              "      <th>tipo</th>\n",
              "      <th>subtipo</th>\n",
              "      <th>id</th>\n",
              "    </tr>\n",
              "  </thead>\n",
              "  <tbody>\n",
              "    <tr>\n",
              "      <th>28310</th>\n",
              "      <td>1800</td>\n",
              "      <td>1</td>\n",
              "      <td>1</td>\n",
              "      <td>0</td>\n",
              "      <td>1</td>\n",
              "      <td>23</td>\n",
              "      <td>CERQUEIRA CÉSAR</td>\n",
              "      <td>Sao Paulo</td>\n",
              "      <td>1</td>\n",
              "      <td>1</td>\n",
              "      <td>9591743</td>\n",
              "    </tr>\n",
              "  </tbody>\n",
              "</table>\n",
              "</div>"
            ],
            "text/plain": [
              "       valor  area  quartos  suites  ...     cidade  tipo subtipo       id\n",
              "28310   1800     1        1       0  ...  Sao Paulo     1       1  9591743\n",
              "\n",
              "[1 rows x 11 columns]"
            ]
          },
          "metadata": {
            "tags": []
          },
          "execution_count": 18
        }
      ]
    },
    {
      "cell_type": "markdown",
      "metadata": {
        "id": "EyBz2LPZdPBN",
        "colab_type": "text"
      },
      "source": [
        "- Um apartamento com 15m² de área com 4 quartos, sendo 2 suítes.\n",
        "- Vamos considerar um erro de digitação também (talzez fosse 150m² ?)."
      ]
    },
    {
      "cell_type": "code",
      "metadata": {
        "scrolled": true,
        "id": "vPzBqaLndPBN",
        "colab_type": "code",
        "outputId": "d7f0ec29-bf7e-42a5-9ab5-25c8422dab67",
        "colab": {
          "base_uri": "https://localhost:8080/",
          "height": 235
        }
      },
      "source": [
        "# Mostrando todos os apartamentos com área igual a 15m²\n",
        "data2[data2['area'] == 15]"
      ],
      "execution_count": 19,
      "outputs": [
        {
          "output_type": "execute_result",
          "data": {
            "text/html": [
              "<div>\n",
              "<style scoped>\n",
              "    .dataframe tbody tr th:only-of-type {\n",
              "        vertical-align: middle;\n",
              "    }\n",
              "\n",
              "    .dataframe tbody tr th {\n",
              "        vertical-align: top;\n",
              "    }\n",
              "\n",
              "    .dataframe thead th {\n",
              "        text-align: right;\n",
              "    }\n",
              "</style>\n",
              "<table border=\"1\" class=\"dataframe\">\n",
              "  <thead>\n",
              "    <tr style=\"text-align: right;\">\n",
              "      <th></th>\n",
              "      <th>valor</th>\n",
              "      <th>area</th>\n",
              "      <th>quartos</th>\n",
              "      <th>suites</th>\n",
              "      <th>vagas</th>\n",
              "      <th>bairro_id</th>\n",
              "      <th>bairro</th>\n",
              "      <th>cidade</th>\n",
              "      <th>tipo</th>\n",
              "      <th>subtipo</th>\n",
              "      <th>id</th>\n",
              "    </tr>\n",
              "  </thead>\n",
              "  <tbody>\n",
              "    <tr>\n",
              "      <th>4806</th>\n",
              "      <td>750</td>\n",
              "      <td>15</td>\n",
              "      <td>2</td>\n",
              "      <td>0</td>\n",
              "      <td>1</td>\n",
              "      <td>261</td>\n",
              "      <td>GUAIANAZES</td>\n",
              "      <td>Sao Paulo</td>\n",
              "      <td>1</td>\n",
              "      <td>1</td>\n",
              "      <td>9143698</td>\n",
              "    </tr>\n",
              "    <tr>\n",
              "      <th>9547</th>\n",
              "      <td>500</td>\n",
              "      <td>15</td>\n",
              "      <td>1</td>\n",
              "      <td>1</td>\n",
              "      <td>0</td>\n",
              "      <td>167</td>\n",
              "      <td>CJ RESID JOSE BONIFACIO</td>\n",
              "      <td>Sao Paulo</td>\n",
              "      <td>1</td>\n",
              "      <td>2</td>\n",
              "      <td>9311617</td>\n",
              "    </tr>\n",
              "    <tr>\n",
              "      <th>16479</th>\n",
              "      <td>5000</td>\n",
              "      <td>15</td>\n",
              "      <td>4</td>\n",
              "      <td>2</td>\n",
              "      <td>0</td>\n",
              "      <td>167</td>\n",
              "      <td>CJ RESID JOSE BONIFACIO</td>\n",
              "      <td>Sao Paulo</td>\n",
              "      <td>1</td>\n",
              "      <td>1</td>\n",
              "      <td>7903745</td>\n",
              "    </tr>\n",
              "    <tr>\n",
              "      <th>22512</th>\n",
              "      <td>1400</td>\n",
              "      <td>15</td>\n",
              "      <td>2</td>\n",
              "      <td>0</td>\n",
              "      <td>1</td>\n",
              "      <td>186</td>\n",
              "      <td>ITAQUERA</td>\n",
              "      <td>Sao Paulo</td>\n",
              "      <td>1</td>\n",
              "      <td>1</td>\n",
              "      <td>8362734</td>\n",
              "    </tr>\n",
              "    <tr>\n",
              "      <th>26217</th>\n",
              "      <td>750</td>\n",
              "      <td>15</td>\n",
              "      <td>2</td>\n",
              "      <td>0</td>\n",
              "      <td>1</td>\n",
              "      <td>261</td>\n",
              "      <td>GUAIANAZES</td>\n",
              "      <td>Sao Paulo</td>\n",
              "      <td>1</td>\n",
              "      <td>1</td>\n",
              "      <td>8594064</td>\n",
              "    </tr>\n",
              "    <tr>\n",
              "      <th>26828</th>\n",
              "      <td>850</td>\n",
              "      <td>15</td>\n",
              "      <td>2</td>\n",
              "      <td>0</td>\n",
              "      <td>0</td>\n",
              "      <td>167</td>\n",
              "      <td>CJ RESID JOSE BONIFACIO</td>\n",
              "      <td>Sao Paulo</td>\n",
              "      <td>1</td>\n",
              "      <td>1</td>\n",
              "      <td>7862439</td>\n",
              "    </tr>\n",
              "  </tbody>\n",
              "</table>\n",
              "</div>"
            ],
            "text/plain": [
              "       valor  area  quartos  suites  ...     cidade  tipo subtipo       id\n",
              "4806     750    15        2       0  ...  Sao Paulo     1       1  9143698\n",
              "9547     500    15        1       1  ...  Sao Paulo     1       2  9311617\n",
              "16479   5000    15        4       2  ...  Sao Paulo     1       1  7903745\n",
              "22512   1400    15        2       0  ...  Sao Paulo     1       1  8362734\n",
              "26217    750    15        2       0  ...  Sao Paulo     1       1  8594064\n",
              "26828    850    15        2       0  ...  Sao Paulo     1       1  7862439\n",
              "\n",
              "[6 rows x 11 columns]"
            ]
          },
          "metadata": {
            "tags": []
          },
          "execution_count": 19
        }
      ]
    },
    {
      "cell_type": "markdown",
      "metadata": {
        "id": "e5CnYR3GdPBR",
        "colab_type": "text"
      },
      "source": [
        "### 2.2.2 Tratando das inconsistências"
      ]
    },
    {
      "cell_type": "markdown",
      "metadata": {
        "id": "zNGzm_w5dPBT",
        "colab_type": "text"
      },
      "source": [
        "#### Apartamentos com área de 0m²"
      ]
    },
    {
      "cell_type": "code",
      "metadata": {
        "id": "rwAExjjydPBR",
        "colab_type": "code",
        "outputId": "6e2ae135-70ed-40a7-d301-8d34b0666e49",
        "colab": {
          "base_uri": "https://localhost:8080/",
          "height": 762
        }
      },
      "source": [
        "# Selecionando os apartamentos com área zero\n",
        "area_zero = data2[(data2['area'] == 0)]\n",
        "\n",
        "# Mostrando quais são esses apartamentos\n",
        "area_zero"
      ],
      "execution_count": 20,
      "outputs": [
        {
          "output_type": "execute_result",
          "data": {
            "text/html": [
              "<div>\n",
              "<style scoped>\n",
              "    .dataframe tbody tr th:only-of-type {\n",
              "        vertical-align: middle;\n",
              "    }\n",
              "\n",
              "    .dataframe tbody tr th {\n",
              "        vertical-align: top;\n",
              "    }\n",
              "\n",
              "    .dataframe thead th {\n",
              "        text-align: right;\n",
              "    }\n",
              "</style>\n",
              "<table border=\"1\" class=\"dataframe\">\n",
              "  <thead>\n",
              "    <tr style=\"text-align: right;\">\n",
              "      <th></th>\n",
              "      <th>valor</th>\n",
              "      <th>area</th>\n",
              "      <th>quartos</th>\n",
              "      <th>suites</th>\n",
              "      <th>vagas</th>\n",
              "      <th>bairro_id</th>\n",
              "      <th>bairro</th>\n",
              "      <th>cidade</th>\n",
              "      <th>tipo</th>\n",
              "      <th>subtipo</th>\n",
              "      <th>id</th>\n",
              "    </tr>\n",
              "  </thead>\n",
              "  <tbody>\n",
              "    <tr>\n",
              "      <th>10285</th>\n",
              "      <td>1700</td>\n",
              "      <td>0</td>\n",
              "      <td>3</td>\n",
              "      <td>1</td>\n",
              "      <td>2</td>\n",
              "      <td>16</td>\n",
              "      <td>MOOCA</td>\n",
              "      <td>Sao Paulo</td>\n",
              "      <td>1</td>\n",
              "      <td>2</td>\n",
              "      <td>9575472</td>\n",
              "    </tr>\n",
              "    <tr>\n",
              "      <th>20467</th>\n",
              "      <td>1400</td>\n",
              "      <td>0</td>\n",
              "      <td>3</td>\n",
              "      <td>0</td>\n",
              "      <td>1</td>\n",
              "      <td>73</td>\n",
              "      <td>FREGUESIA DO Ó</td>\n",
              "      <td>Sao Paulo</td>\n",
              "      <td>1</td>\n",
              "      <td>2</td>\n",
              "      <td>9604609</td>\n",
              "    </tr>\n",
              "    <tr>\n",
              "      <th>20780</th>\n",
              "      <td>3500</td>\n",
              "      <td>0</td>\n",
              "      <td>1</td>\n",
              "      <td>0</td>\n",
              "      <td>1</td>\n",
              "      <td>3</td>\n",
              "      <td>BROOKLIN</td>\n",
              "      <td>Sao Paulo</td>\n",
              "      <td>1</td>\n",
              "      <td>2</td>\n",
              "      <td>9592144</td>\n",
              "    </tr>\n",
              "    <tr>\n",
              "      <th>23224</th>\n",
              "      <td>2900</td>\n",
              "      <td>0</td>\n",
              "      <td>1</td>\n",
              "      <td>0</td>\n",
              "      <td>1</td>\n",
              "      <td>27</td>\n",
              "      <td>AV PAULISTA</td>\n",
              "      <td>Sao Paulo</td>\n",
              "      <td>1</td>\n",
              "      <td>2</td>\n",
              "      <td>9592142</td>\n",
              "    </tr>\n",
              "    <tr>\n",
              "      <th>28156</th>\n",
              "      <td>1700</td>\n",
              "      <td>0</td>\n",
              "      <td>1</td>\n",
              "      <td>0</td>\n",
              "      <td>0</td>\n",
              "      <td>23</td>\n",
              "      <td>CERQUEIRA CÉSAR</td>\n",
              "      <td>Sao Paulo</td>\n",
              "      <td>1</td>\n",
              "      <td>2</td>\n",
              "      <td>9636363</td>\n",
              "    </tr>\n",
              "    <tr>\n",
              "      <th>28168</th>\n",
              "      <td>1100</td>\n",
              "      <td>0</td>\n",
              "      <td>2</td>\n",
              "      <td>1</td>\n",
              "      <td>1</td>\n",
              "      <td>124</td>\n",
              "      <td>VL CARRÃO</td>\n",
              "      <td>Sao Paulo</td>\n",
              "      <td>1</td>\n",
              "      <td>1</td>\n",
              "      <td>9591566</td>\n",
              "    </tr>\n",
              "    <tr>\n",
              "      <th>28178</th>\n",
              "      <td>1300</td>\n",
              "      <td>0</td>\n",
              "      <td>2</td>\n",
              "      <td>0</td>\n",
              "      <td>0</td>\n",
              "      <td>55</td>\n",
              "      <td>CAMBUCI</td>\n",
              "      <td>Sao Paulo</td>\n",
              "      <td>1</td>\n",
              "      <td>1</td>\n",
              "      <td>9634200</td>\n",
              "    </tr>\n",
              "    <tr>\n",
              "      <th>28191</th>\n",
              "      <td>2500</td>\n",
              "      <td>0</td>\n",
              "      <td>2</td>\n",
              "      <td>0</td>\n",
              "      <td>1</td>\n",
              "      <td>6</td>\n",
              "      <td>JD PAULISTA</td>\n",
              "      <td>Sao Paulo</td>\n",
              "      <td>1</td>\n",
              "      <td>2</td>\n",
              "      <td>9617319</td>\n",
              "    </tr>\n",
              "    <tr>\n",
              "      <th>28209</th>\n",
              "      <td>1300</td>\n",
              "      <td>0</td>\n",
              "      <td>1</td>\n",
              "      <td>0</td>\n",
              "      <td>0</td>\n",
              "      <td>8</td>\n",
              "      <td>CONSOLAÇÃO</td>\n",
              "      <td>Sao Paulo</td>\n",
              "      <td>1</td>\n",
              "      <td>1</td>\n",
              "      <td>9591745</td>\n",
              "    </tr>\n",
              "    <tr>\n",
              "      <th>28223</th>\n",
              "      <td>2300</td>\n",
              "      <td>0</td>\n",
              "      <td>2</td>\n",
              "      <td>1</td>\n",
              "      <td>2</td>\n",
              "      <td>69</td>\n",
              "      <td>REAL PARQUE</td>\n",
              "      <td>Sao Paulo</td>\n",
              "      <td>1</td>\n",
              "      <td>2</td>\n",
              "      <td>9427670</td>\n",
              "    </tr>\n",
              "    <tr>\n",
              "      <th>28235</th>\n",
              "      <td>1400</td>\n",
              "      <td>0</td>\n",
              "      <td>1</td>\n",
              "      <td>0</td>\n",
              "      <td>1</td>\n",
              "      <td>448</td>\n",
              "      <td>VL ARRIETE</td>\n",
              "      <td>Sao Paulo</td>\n",
              "      <td>1</td>\n",
              "      <td>2</td>\n",
              "      <td>9617419</td>\n",
              "    </tr>\n",
              "    <tr>\n",
              "      <th>28240</th>\n",
              "      <td>900</td>\n",
              "      <td>0</td>\n",
              "      <td>2</td>\n",
              "      <td>0</td>\n",
              "      <td>0</td>\n",
              "      <td>301</td>\n",
              "      <td>VL MARIA</td>\n",
              "      <td>Sao Paulo</td>\n",
              "      <td>1</td>\n",
              "      <td>1</td>\n",
              "      <td>9617999</td>\n",
              "    </tr>\n",
              "    <tr>\n",
              "      <th>28261</th>\n",
              "      <td>2700</td>\n",
              "      <td>0</td>\n",
              "      <td>2</td>\n",
              "      <td>0</td>\n",
              "      <td>1</td>\n",
              "      <td>62</td>\n",
              "      <td>ITAIM</td>\n",
              "      <td>Sao Paulo</td>\n",
              "      <td>1</td>\n",
              "      <td>2</td>\n",
              "      <td>9396916</td>\n",
              "    </tr>\n",
              "    <tr>\n",
              "      <th>28275</th>\n",
              "      <td>4000</td>\n",
              "      <td>0</td>\n",
              "      <td>1</td>\n",
              "      <td>0</td>\n",
              "      <td>1</td>\n",
              "      <td>3</td>\n",
              "      <td>BROOKLIN</td>\n",
              "      <td>Sao Paulo</td>\n",
              "      <td>1</td>\n",
              "      <td>2</td>\n",
              "      <td>9635983</td>\n",
              "    </tr>\n",
              "    <tr>\n",
              "      <th>28309</th>\n",
              "      <td>1400</td>\n",
              "      <td>0</td>\n",
              "      <td>1</td>\n",
              "      <td>0</td>\n",
              "      <td>1</td>\n",
              "      <td>10</td>\n",
              "      <td>MOEMA</td>\n",
              "      <td>Sao Paulo</td>\n",
              "      <td>1</td>\n",
              "      <td>1</td>\n",
              "      <td>9587494</td>\n",
              "    </tr>\n",
              "    <tr>\n",
              "      <th>28317</th>\n",
              "      <td>800</td>\n",
              "      <td>0</td>\n",
              "      <td>1</td>\n",
              "      <td>0</td>\n",
              "      <td>0</td>\n",
              "      <td>47</td>\n",
              "      <td>VL BUARQUE</td>\n",
              "      <td>Sao Paulo</td>\n",
              "      <td>1</td>\n",
              "      <td>1</td>\n",
              "      <td>9635636</td>\n",
              "    </tr>\n",
              "    <tr>\n",
              "      <th>28320</th>\n",
              "      <td>1900</td>\n",
              "      <td>0</td>\n",
              "      <td>2</td>\n",
              "      <td>0</td>\n",
              "      <td>1</td>\n",
              "      <td>70</td>\n",
              "      <td>VL CLEMENTINO</td>\n",
              "      <td>Sao Paulo</td>\n",
              "      <td>1</td>\n",
              "      <td>1</td>\n",
              "      <td>9440474</td>\n",
              "    </tr>\n",
              "    <tr>\n",
              "      <th>28322</th>\n",
              "      <td>1400</td>\n",
              "      <td>0</td>\n",
              "      <td>1</td>\n",
              "      <td>0</td>\n",
              "      <td>1</td>\n",
              "      <td>10</td>\n",
              "      <td>MOEMA</td>\n",
              "      <td>Sao Paulo</td>\n",
              "      <td>1</td>\n",
              "      <td>1</td>\n",
              "      <td>9587493</td>\n",
              "    </tr>\n",
              "    <tr>\n",
              "      <th>28358</th>\n",
              "      <td>1900</td>\n",
              "      <td>0</td>\n",
              "      <td>2</td>\n",
              "      <td>0</td>\n",
              "      <td>1</td>\n",
              "      <td>70</td>\n",
              "      <td>VL CLEMENTINO</td>\n",
              "      <td>Sao Paulo</td>\n",
              "      <td>1</td>\n",
              "      <td>1</td>\n",
              "      <td>9440473</td>\n",
              "    </tr>\n",
              "    <tr>\n",
              "      <th>28362</th>\n",
              "      <td>2500</td>\n",
              "      <td>0</td>\n",
              "      <td>1</td>\n",
              "      <td>0</td>\n",
              "      <td>1</td>\n",
              "      <td>10</td>\n",
              "      <td>MOEMA</td>\n",
              "      <td>Sao Paulo</td>\n",
              "      <td>1</td>\n",
              "      <td>2</td>\n",
              "      <td>9584147</td>\n",
              "    </tr>\n",
              "    <tr>\n",
              "      <th>28369</th>\n",
              "      <td>800</td>\n",
              "      <td>0</td>\n",
              "      <td>1</td>\n",
              "      <td>0</td>\n",
              "      <td>0</td>\n",
              "      <td>47</td>\n",
              "      <td>VL BUARQUE</td>\n",
              "      <td>Sao Paulo</td>\n",
              "      <td>1</td>\n",
              "      <td>1</td>\n",
              "      <td>9591741</td>\n",
              "    </tr>\n",
              "    <tr>\n",
              "      <th>28376</th>\n",
              "      <td>2300</td>\n",
              "      <td>0</td>\n",
              "      <td>1</td>\n",
              "      <td>0</td>\n",
              "      <td>1</td>\n",
              "      <td>37</td>\n",
              "      <td>VL MARIANA</td>\n",
              "      <td>Sao Paulo</td>\n",
              "      <td>1</td>\n",
              "      <td>2</td>\n",
              "      <td>9592145</td>\n",
              "    </tr>\n",
              "    <tr>\n",
              "      <th>28377</th>\n",
              "      <td>1600</td>\n",
              "      <td>0</td>\n",
              "      <td>2</td>\n",
              "      <td>0</td>\n",
              "      <td>1</td>\n",
              "      <td>49</td>\n",
              "      <td>HIGIENÓPOLIS</td>\n",
              "      <td>Sao Paulo</td>\n",
              "      <td>1</td>\n",
              "      <td>2</td>\n",
              "      <td>9634871</td>\n",
              "    </tr>\n",
              "  </tbody>\n",
              "</table>\n",
              "</div>"
            ],
            "text/plain": [
              "       valor  area  quartos  suites  ...     cidade  tipo subtipo       id\n",
              "10285   1700     0        3       1  ...  Sao Paulo     1       2  9575472\n",
              "20467   1400     0        3       0  ...  Sao Paulo     1       2  9604609\n",
              "20780   3500     0        1       0  ...  Sao Paulo     1       2  9592144\n",
              "23224   2900     0        1       0  ...  Sao Paulo     1       2  9592142\n",
              "28156   1700     0        1       0  ...  Sao Paulo     1       2  9636363\n",
              "28168   1100     0        2       1  ...  Sao Paulo     1       1  9591566\n",
              "28178   1300     0        2       0  ...  Sao Paulo     1       1  9634200\n",
              "28191   2500     0        2       0  ...  Sao Paulo     1       2  9617319\n",
              "28209   1300     0        1       0  ...  Sao Paulo     1       1  9591745\n",
              "28223   2300     0        2       1  ...  Sao Paulo     1       2  9427670\n",
              "28235   1400     0        1       0  ...  Sao Paulo     1       2  9617419\n",
              "28240    900     0        2       0  ...  Sao Paulo     1       1  9617999\n",
              "28261   2700     0        2       0  ...  Sao Paulo     1       2  9396916\n",
              "28275   4000     0        1       0  ...  Sao Paulo     1       2  9635983\n",
              "28309   1400     0        1       0  ...  Sao Paulo     1       1  9587494\n",
              "28317    800     0        1       0  ...  Sao Paulo     1       1  9635636\n",
              "28320   1900     0        2       0  ...  Sao Paulo     1       1  9440474\n",
              "28322   1400     0        1       0  ...  Sao Paulo     1       1  9587493\n",
              "28358   1900     0        2       0  ...  Sao Paulo     1       1  9440473\n",
              "28362   2500     0        1       0  ...  Sao Paulo     1       2  9584147\n",
              "28369    800     0        1       0  ...  Sao Paulo     1       1  9591741\n",
              "28376   2300     0        1       0  ...  Sao Paulo     1       2  9592145\n",
              "28377   1600     0        2       0  ...  Sao Paulo     1       2  9634871\n",
              "\n",
              "[23 rows x 11 columns]"
            ]
          },
          "metadata": {
            "tags": []
          },
          "execution_count": 20
        }
      ]
    },
    {
      "cell_type": "markdown",
      "metadata": {
        "id": "iWC3HKB6dPBU",
        "colab_type": "text"
      },
      "source": [
        "#### Vamos tentar fazer o mesmo que fizemos com os quartos zerados agora com a área, ou seja, tentaremos estimar a área (atualmente zero) do apartamento através do número de quartos observando os demais dados."
      ]
    },
    {
      "cell_type": "code",
      "metadata": {
        "id": "pa0mgtz8dPBU",
        "colab_type": "code",
        "colab": {}
      },
      "source": [
        "# Criando um laço que itera por variável 'quartos' de todos os apartamentos com \n",
        "#   zero quartos e substitui o zero (no número de quarto) pela média do número de \n",
        "#   quartos de todos os outros apartamentos com a mesma área\n",
        "for i in area_zero['quartos'].iteritems():\n",
        "    quartos = i[1]\n",
        "    data2['area'].loc[i[0]] = int(data2[data2['quartos'] == quartos]['area'].mean())"
      ],
      "execution_count": 0,
      "outputs": []
    },
    {
      "cell_type": "code",
      "metadata": {
        "id": "sPYiM62_dPBW",
        "colab_type": "code",
        "outputId": "a477b70a-7010-4b6a-980e-a95814ac1335",
        "colab": {
          "base_uri": "https://localhost:8080/",
          "height": 49
        }
      },
      "source": [
        "# Mostrando que agora não temos mais apartamentos com área igual a zero\n",
        "data2[(data2['area'] == 0)]"
      ],
      "execution_count": 22,
      "outputs": [
        {
          "output_type": "execute_result",
          "data": {
            "text/html": [
              "<div>\n",
              "<style scoped>\n",
              "    .dataframe tbody tr th:only-of-type {\n",
              "        vertical-align: middle;\n",
              "    }\n",
              "\n",
              "    .dataframe tbody tr th {\n",
              "        vertical-align: top;\n",
              "    }\n",
              "\n",
              "    .dataframe thead th {\n",
              "        text-align: right;\n",
              "    }\n",
              "</style>\n",
              "<table border=\"1\" class=\"dataframe\">\n",
              "  <thead>\n",
              "    <tr style=\"text-align: right;\">\n",
              "      <th></th>\n",
              "      <th>valor</th>\n",
              "      <th>area</th>\n",
              "      <th>quartos</th>\n",
              "      <th>suites</th>\n",
              "      <th>vagas</th>\n",
              "      <th>bairro_id</th>\n",
              "      <th>bairro</th>\n",
              "      <th>cidade</th>\n",
              "      <th>tipo</th>\n",
              "      <th>subtipo</th>\n",
              "      <th>id</th>\n",
              "    </tr>\n",
              "  </thead>\n",
              "  <tbody>\n",
              "  </tbody>\n",
              "</table>\n",
              "</div>"
            ],
            "text/plain": [
              "Empty DataFrame\n",
              "Columns: [valor, area, quartos, suites, vagas, bairro_id, bairro, cidade, tipo, subtipo, id]\n",
              "Index: []"
            ]
          },
          "metadata": {
            "tags": []
          },
          "execution_count": 22
        }
      ]
    },
    {
      "cell_type": "markdown",
      "metadata": {
        "id": "IsWUBPtNdPBY",
        "colab_type": "text"
      },
      "source": [
        "#### Apartamento com área de 10m² e 3 suítes trocaremos para 100m²."
      ]
    },
    {
      "cell_type": "code",
      "metadata": {
        "id": "kSUcrqIMdPBY",
        "colab_type": "code",
        "colab": {}
      },
      "source": [
        "# Selecionando o apartamento com área 10m² e 3 suítes\n",
        "area_dez = data2.query(\"area == 10 & suites == 3\")\n",
        "\n",
        "# Armazenando o id desse apartamaneto\n",
        "id_area_dez = area_dez['id'].values[0]\n",
        "\n",
        "# Trocando para 100m² a área desse aprtamento\n",
        "data2['area'].loc[area_dez.index] = 100"
      ],
      "execution_count": 0,
      "outputs": []
    },
    {
      "cell_type": "code",
      "metadata": {
        "id": "eHldK4NedPBa",
        "colab_type": "code",
        "outputId": "37160444-9953-4f6d-dc33-c2d3c120a588",
        "colab": {
          "base_uri": "https://localhost:8080/",
          "height": 80
        }
      },
      "source": [
        "# Mostrando que agora a área dele é 100m²\n",
        "data2.query(f\"id == {id_area_dez}\")"
      ],
      "execution_count": 24,
      "outputs": [
        {
          "output_type": "execute_result",
          "data": {
            "text/html": [
              "<div>\n",
              "<style scoped>\n",
              "    .dataframe tbody tr th:only-of-type {\n",
              "        vertical-align: middle;\n",
              "    }\n",
              "\n",
              "    .dataframe tbody tr th {\n",
              "        vertical-align: top;\n",
              "    }\n",
              "\n",
              "    .dataframe thead th {\n",
              "        text-align: right;\n",
              "    }\n",
              "</style>\n",
              "<table border=\"1\" class=\"dataframe\">\n",
              "  <thead>\n",
              "    <tr style=\"text-align: right;\">\n",
              "      <th></th>\n",
              "      <th>valor</th>\n",
              "      <th>area</th>\n",
              "      <th>quartos</th>\n",
              "      <th>suites</th>\n",
              "      <th>vagas</th>\n",
              "      <th>bairro_id</th>\n",
              "      <th>bairro</th>\n",
              "      <th>cidade</th>\n",
              "      <th>tipo</th>\n",
              "      <th>subtipo</th>\n",
              "      <th>id</th>\n",
              "    </tr>\n",
              "  </thead>\n",
              "  <tbody>\n",
              "    <tr>\n",
              "      <th>9922</th>\n",
              "      <td>4500</td>\n",
              "      <td>100</td>\n",
              "      <td>3</td>\n",
              "      <td>3</td>\n",
              "      <td>2</td>\n",
              "      <td>2</td>\n",
              "      <td>ITAIM BIBI</td>\n",
              "      <td>Sao Paulo</td>\n",
              "      <td>1</td>\n",
              "      <td>1</td>\n",
              "      <td>9544863</td>\n",
              "    </tr>\n",
              "  </tbody>\n",
              "</table>\n",
              "</div>"
            ],
            "text/plain": [
              "      valor  area  quartos  suites  ...     cidade  tipo subtipo       id\n",
              "9922   4500   100        3       3  ...  Sao Paulo     1       1  9544863\n",
              "\n",
              "[1 rows x 11 columns]"
            ]
          },
          "metadata": {
            "tags": []
          },
          "execution_count": 24
        }
      ]
    },
    {
      "cell_type": "markdown",
      "metadata": {
        "id": "O4PbCtImdPBe",
        "colab_type": "text"
      },
      "source": [
        "#### Apartamento com área de 1m²\n",
        "- Aqui, resolvemos trocar essa área de 1m² pela média das áreas dos apartamentos com as mesmas espscificações que este."
      ]
    },
    {
      "cell_type": "code",
      "metadata": {
        "id": "ywwpec8BdPBe",
        "colab_type": "code",
        "outputId": "31312dae-bc8d-4f65-89bd-cf22c2b1d48f",
        "colab": {
          "base_uri": "https://localhost:8080/",
          "height": 80
        }
      },
      "source": [
        "# Selecionando o apartamento com área de 1m²\n",
        "area_um = data2[data2['area'] == 1]\n",
        "\n",
        "# Armazenado o id do apartamento com área igual a um para uso futuro\n",
        "id_area_um = data2[data2['area'] == 1]['id'].values[0]\n",
        "\n",
        "# Mostrando qual é esse apartamento\n",
        "area_um"
      ],
      "execution_count": 25,
      "outputs": [
        {
          "output_type": "execute_result",
          "data": {
            "text/html": [
              "<div>\n",
              "<style scoped>\n",
              "    .dataframe tbody tr th:only-of-type {\n",
              "        vertical-align: middle;\n",
              "    }\n",
              "\n",
              "    .dataframe tbody tr th {\n",
              "        vertical-align: top;\n",
              "    }\n",
              "\n",
              "    .dataframe thead th {\n",
              "        text-align: right;\n",
              "    }\n",
              "</style>\n",
              "<table border=\"1\" class=\"dataframe\">\n",
              "  <thead>\n",
              "    <tr style=\"text-align: right;\">\n",
              "      <th></th>\n",
              "      <th>valor</th>\n",
              "      <th>area</th>\n",
              "      <th>quartos</th>\n",
              "      <th>suites</th>\n",
              "      <th>vagas</th>\n",
              "      <th>bairro_id</th>\n",
              "      <th>bairro</th>\n",
              "      <th>cidade</th>\n",
              "      <th>tipo</th>\n",
              "      <th>subtipo</th>\n",
              "      <th>id</th>\n",
              "    </tr>\n",
              "  </thead>\n",
              "  <tbody>\n",
              "    <tr>\n",
              "      <th>28310</th>\n",
              "      <td>1800</td>\n",
              "      <td>1</td>\n",
              "      <td>1</td>\n",
              "      <td>0</td>\n",
              "      <td>1</td>\n",
              "      <td>23</td>\n",
              "      <td>CERQUEIRA CÉSAR</td>\n",
              "      <td>Sao Paulo</td>\n",
              "      <td>1</td>\n",
              "      <td>1</td>\n",
              "      <td>9591743</td>\n",
              "    </tr>\n",
              "  </tbody>\n",
              "</table>\n",
              "</div>"
            ],
            "text/plain": [
              "       valor  area  quartos  suites  ...     cidade  tipo subtipo       id\n",
              "28310   1800     1        1       0  ...  Sao Paulo     1       1  9591743\n",
              "\n",
              "[1 rows x 11 columns]"
            ]
          },
          "metadata": {
            "tags": []
          },
          "execution_count": 25
        }
      ]
    },
    {
      "cell_type": "code",
      "metadata": {
        "id": "9hGNYdmqdPBg",
        "colab_type": "code",
        "colab": {}
      },
      "source": [
        "# Armazenando a área média de todos os apartamentos com as mesmas especificacões daquele com a área igual a 1m²\n",
        "nova_area = data2.query('quartos == 1 & suites == 0 & vagas == 0 & bairro == \"CERQUEIRA CÉSAR\"')['area'].mean()\n",
        "\n",
        "# Trocando a área de 1m² pela média das áreas dos apartamentos com as mesmas especificações\n",
        "data2['area'].loc[area_um.index] = nova_area"
      ],
      "execution_count": 0,
      "outputs": []
    },
    {
      "cell_type": "code",
      "metadata": {
        "id": "HyfAYQaidPBi",
        "colab_type": "code",
        "outputId": "084fe807-d992-4c9e-faa6-3b6a590b9ef5",
        "colab": {
          "base_uri": "https://localhost:8080/",
          "height": 49
        }
      },
      "source": [
        "# Mostrando que agora não temos mais apartamentos com área igual a 1m²\n",
        "data2[data2['area'] == 1]"
      ],
      "execution_count": 27,
      "outputs": [
        {
          "output_type": "execute_result",
          "data": {
            "text/html": [
              "<div>\n",
              "<style scoped>\n",
              "    .dataframe tbody tr th:only-of-type {\n",
              "        vertical-align: middle;\n",
              "    }\n",
              "\n",
              "    .dataframe tbody tr th {\n",
              "        vertical-align: top;\n",
              "    }\n",
              "\n",
              "    .dataframe thead th {\n",
              "        text-align: right;\n",
              "    }\n",
              "</style>\n",
              "<table border=\"1\" class=\"dataframe\">\n",
              "  <thead>\n",
              "    <tr style=\"text-align: right;\">\n",
              "      <th></th>\n",
              "      <th>valor</th>\n",
              "      <th>area</th>\n",
              "      <th>quartos</th>\n",
              "      <th>suites</th>\n",
              "      <th>vagas</th>\n",
              "      <th>bairro_id</th>\n",
              "      <th>bairro</th>\n",
              "      <th>cidade</th>\n",
              "      <th>tipo</th>\n",
              "      <th>subtipo</th>\n",
              "      <th>id</th>\n",
              "    </tr>\n",
              "  </thead>\n",
              "  <tbody>\n",
              "  </tbody>\n",
              "</table>\n",
              "</div>"
            ],
            "text/plain": [
              "Empty DataFrame\n",
              "Columns: [valor, area, quartos, suites, vagas, bairro_id, bairro, cidade, tipo, subtipo, id]\n",
              "Index: []"
            ]
          },
          "metadata": {
            "tags": []
          },
          "execution_count": 27
        }
      ]
    },
    {
      "cell_type": "markdown",
      "metadata": {
        "id": "dK5oTwhHdPBk",
        "colab_type": "text"
      },
      "source": [
        "#### Apartamentos com área de 15m²"
      ]
    },
    {
      "cell_type": "code",
      "metadata": {
        "id": "Pv5V5yRkdPBl",
        "colab_type": "code",
        "outputId": "2354ac21-0329-43d5-c3fa-8258b38299b0",
        "colab": {
          "base_uri": "https://localhost:8080/",
          "height": 235
        }
      },
      "source": [
        "# Selecionando todos os apartamentos com área igual a 15m²\n",
        "area_quinze = data2[data2['area'] == 15]\n",
        "\n",
        "# Mostrando quais são esses apartamentos\n",
        "area_quinze"
      ],
      "execution_count": 28,
      "outputs": [
        {
          "output_type": "execute_result",
          "data": {
            "text/html": [
              "<div>\n",
              "<style scoped>\n",
              "    .dataframe tbody tr th:only-of-type {\n",
              "        vertical-align: middle;\n",
              "    }\n",
              "\n",
              "    .dataframe tbody tr th {\n",
              "        vertical-align: top;\n",
              "    }\n",
              "\n",
              "    .dataframe thead th {\n",
              "        text-align: right;\n",
              "    }\n",
              "</style>\n",
              "<table border=\"1\" class=\"dataframe\">\n",
              "  <thead>\n",
              "    <tr style=\"text-align: right;\">\n",
              "      <th></th>\n",
              "      <th>valor</th>\n",
              "      <th>area</th>\n",
              "      <th>quartos</th>\n",
              "      <th>suites</th>\n",
              "      <th>vagas</th>\n",
              "      <th>bairro_id</th>\n",
              "      <th>bairro</th>\n",
              "      <th>cidade</th>\n",
              "      <th>tipo</th>\n",
              "      <th>subtipo</th>\n",
              "      <th>id</th>\n",
              "    </tr>\n",
              "  </thead>\n",
              "  <tbody>\n",
              "    <tr>\n",
              "      <th>4806</th>\n",
              "      <td>750</td>\n",
              "      <td>15.0</td>\n",
              "      <td>2</td>\n",
              "      <td>0</td>\n",
              "      <td>1</td>\n",
              "      <td>261</td>\n",
              "      <td>GUAIANAZES</td>\n",
              "      <td>Sao Paulo</td>\n",
              "      <td>1</td>\n",
              "      <td>1</td>\n",
              "      <td>9143698</td>\n",
              "    </tr>\n",
              "    <tr>\n",
              "      <th>9547</th>\n",
              "      <td>500</td>\n",
              "      <td>15.0</td>\n",
              "      <td>1</td>\n",
              "      <td>1</td>\n",
              "      <td>0</td>\n",
              "      <td>167</td>\n",
              "      <td>CJ RESID JOSE BONIFACIO</td>\n",
              "      <td>Sao Paulo</td>\n",
              "      <td>1</td>\n",
              "      <td>2</td>\n",
              "      <td>9311617</td>\n",
              "    </tr>\n",
              "    <tr>\n",
              "      <th>16479</th>\n",
              "      <td>5000</td>\n",
              "      <td>15.0</td>\n",
              "      <td>4</td>\n",
              "      <td>2</td>\n",
              "      <td>0</td>\n",
              "      <td>167</td>\n",
              "      <td>CJ RESID JOSE BONIFACIO</td>\n",
              "      <td>Sao Paulo</td>\n",
              "      <td>1</td>\n",
              "      <td>1</td>\n",
              "      <td>7903745</td>\n",
              "    </tr>\n",
              "    <tr>\n",
              "      <th>22512</th>\n",
              "      <td>1400</td>\n",
              "      <td>15.0</td>\n",
              "      <td>2</td>\n",
              "      <td>0</td>\n",
              "      <td>1</td>\n",
              "      <td>186</td>\n",
              "      <td>ITAQUERA</td>\n",
              "      <td>Sao Paulo</td>\n",
              "      <td>1</td>\n",
              "      <td>1</td>\n",
              "      <td>8362734</td>\n",
              "    </tr>\n",
              "    <tr>\n",
              "      <th>26217</th>\n",
              "      <td>750</td>\n",
              "      <td>15.0</td>\n",
              "      <td>2</td>\n",
              "      <td>0</td>\n",
              "      <td>1</td>\n",
              "      <td>261</td>\n",
              "      <td>GUAIANAZES</td>\n",
              "      <td>Sao Paulo</td>\n",
              "      <td>1</td>\n",
              "      <td>1</td>\n",
              "      <td>8594064</td>\n",
              "    </tr>\n",
              "    <tr>\n",
              "      <th>26828</th>\n",
              "      <td>850</td>\n",
              "      <td>15.0</td>\n",
              "      <td>2</td>\n",
              "      <td>0</td>\n",
              "      <td>0</td>\n",
              "      <td>167</td>\n",
              "      <td>CJ RESID JOSE BONIFACIO</td>\n",
              "      <td>Sao Paulo</td>\n",
              "      <td>1</td>\n",
              "      <td>1</td>\n",
              "      <td>7862439</td>\n",
              "    </tr>\n",
              "  </tbody>\n",
              "</table>\n",
              "</div>"
            ],
            "text/plain": [
              "       valor  area  quartos  suites  ...     cidade  tipo subtipo       id\n",
              "4806     750  15.0        2       0  ...  Sao Paulo     1       1  9143698\n",
              "9547     500  15.0        1       1  ...  Sao Paulo     1       2  9311617\n",
              "16479   5000  15.0        4       2  ...  Sao Paulo     1       1  7903745\n",
              "22512   1400  15.0        2       0  ...  Sao Paulo     1       1  8362734\n",
              "26217    750  15.0        2       0  ...  Sao Paulo     1       1  8594064\n",
              "26828    850  15.0        2       0  ...  Sao Paulo     1       1  7862439\n",
              "\n",
              "[6 rows x 11 columns]"
            ]
          },
          "metadata": {
            "tags": []
          },
          "execution_count": 28
        }
      ]
    },
    {
      "cell_type": "markdown",
      "metadata": {
        "id": "2jrxgswRdPBo",
        "colab_type": "text"
      },
      "source": [
        "#### O apartamento de Itaquera\n",
        "- 15m² com 2 quartos parece estranho. Vamos olhar mais de perto para apartamentos com as mesmas especificações que esse."
      ]
    },
    {
      "cell_type": "code",
      "metadata": {
        "id": "mTNkldEOdPBp",
        "colab_type": "code",
        "outputId": "b101165a-b22d-4a5f-8877-7153761705b8",
        "colab": {
          "base_uri": "https://localhost:8080/",
          "height": 607
        }
      },
      "source": [
        "# Procurando todos os apartamentos com as mesmas especificações\n",
        "data2.query('quartos == 2 & suites == 0 & vagas == 1 & bairro == \"ITAQUERA\"')"
      ],
      "execution_count": 29,
      "outputs": [
        {
          "output_type": "execute_result",
          "data": {
            "text/html": [
              "<div>\n",
              "<style scoped>\n",
              "    .dataframe tbody tr th:only-of-type {\n",
              "        vertical-align: middle;\n",
              "    }\n",
              "\n",
              "    .dataframe tbody tr th {\n",
              "        vertical-align: top;\n",
              "    }\n",
              "\n",
              "    .dataframe thead th {\n",
              "        text-align: right;\n",
              "    }\n",
              "</style>\n",
              "<table border=\"1\" class=\"dataframe\">\n",
              "  <thead>\n",
              "    <tr style=\"text-align: right;\">\n",
              "      <th></th>\n",
              "      <th>valor</th>\n",
              "      <th>area</th>\n",
              "      <th>quartos</th>\n",
              "      <th>suites</th>\n",
              "      <th>vagas</th>\n",
              "      <th>bairro_id</th>\n",
              "      <th>bairro</th>\n",
              "      <th>cidade</th>\n",
              "      <th>tipo</th>\n",
              "      <th>subtipo</th>\n",
              "      <th>id</th>\n",
              "    </tr>\n",
              "  </thead>\n",
              "  <tbody>\n",
              "    <tr>\n",
              "      <th>1881</th>\n",
              "      <td>1000</td>\n",
              "      <td>48.0</td>\n",
              "      <td>2</td>\n",
              "      <td>0</td>\n",
              "      <td>1</td>\n",
              "      <td>186</td>\n",
              "      <td>ITAQUERA</td>\n",
              "      <td>Sao Paulo</td>\n",
              "      <td>1</td>\n",
              "      <td>2</td>\n",
              "      <td>8718975</td>\n",
              "    </tr>\n",
              "    <tr>\n",
              "      <th>3914</th>\n",
              "      <td>1000</td>\n",
              "      <td>54.0</td>\n",
              "      <td>2</td>\n",
              "      <td>0</td>\n",
              "      <td>1</td>\n",
              "      <td>186</td>\n",
              "      <td>ITAQUERA</td>\n",
              "      <td>Sao Paulo</td>\n",
              "      <td>1</td>\n",
              "      <td>2</td>\n",
              "      <td>5983685</td>\n",
              "    </tr>\n",
              "    <tr>\n",
              "      <th>5917</th>\n",
              "      <td>1500</td>\n",
              "      <td>60.0</td>\n",
              "      <td>2</td>\n",
              "      <td>0</td>\n",
              "      <td>1</td>\n",
              "      <td>186</td>\n",
              "      <td>ITAQUERA</td>\n",
              "      <td>Sao Paulo</td>\n",
              "      <td>1</td>\n",
              "      <td>2</td>\n",
              "      <td>8948548</td>\n",
              "    </tr>\n",
              "    <tr>\n",
              "      <th>7003</th>\n",
              "      <td>855</td>\n",
              "      <td>50.0</td>\n",
              "      <td>2</td>\n",
              "      <td>0</td>\n",
              "      <td>1</td>\n",
              "      <td>186</td>\n",
              "      <td>ITAQUERA</td>\n",
              "      <td>Sao Paulo</td>\n",
              "      <td>1</td>\n",
              "      <td>4</td>\n",
              "      <td>9635264</td>\n",
              "    </tr>\n",
              "    <tr>\n",
              "      <th>8510</th>\n",
              "      <td>1300</td>\n",
              "      <td>54.0</td>\n",
              "      <td>2</td>\n",
              "      <td>0</td>\n",
              "      <td>1</td>\n",
              "      <td>186</td>\n",
              "      <td>ITAQUERA</td>\n",
              "      <td>Sao Paulo</td>\n",
              "      <td>1</td>\n",
              "      <td>4</td>\n",
              "      <td>9209549</td>\n",
              "    </tr>\n",
              "    <tr>\n",
              "      <th>9432</th>\n",
              "      <td>800</td>\n",
              "      <td>48.0</td>\n",
              "      <td>2</td>\n",
              "      <td>0</td>\n",
              "      <td>1</td>\n",
              "      <td>186</td>\n",
              "      <td>ITAQUERA</td>\n",
              "      <td>Sao Paulo</td>\n",
              "      <td>1</td>\n",
              "      <td>1</td>\n",
              "      <td>9460891</td>\n",
              "    </tr>\n",
              "    <tr>\n",
              "      <th>12077</th>\n",
              "      <td>1100</td>\n",
              "      <td>50.0</td>\n",
              "      <td>2</td>\n",
              "      <td>0</td>\n",
              "      <td>1</td>\n",
              "      <td>186</td>\n",
              "      <td>ITAQUERA</td>\n",
              "      <td>Sao Paulo</td>\n",
              "      <td>1</td>\n",
              "      <td>2</td>\n",
              "      <td>6630382</td>\n",
              "    </tr>\n",
              "    <tr>\n",
              "      <th>15357</th>\n",
              "      <td>750</td>\n",
              "      <td>42.0</td>\n",
              "      <td>2</td>\n",
              "      <td>0</td>\n",
              "      <td>1</td>\n",
              "      <td>186</td>\n",
              "      <td>ITAQUERA</td>\n",
              "      <td>Sao Paulo</td>\n",
              "      <td>1</td>\n",
              "      <td>2</td>\n",
              "      <td>7267750</td>\n",
              "    </tr>\n",
              "    <tr>\n",
              "      <th>17823</th>\n",
              "      <td>1200</td>\n",
              "      <td>45.0</td>\n",
              "      <td>2</td>\n",
              "      <td>0</td>\n",
              "      <td>1</td>\n",
              "      <td>186</td>\n",
              "      <td>ITAQUERA</td>\n",
              "      <td>Sao Paulo</td>\n",
              "      <td>1</td>\n",
              "      <td>2</td>\n",
              "      <td>8718994</td>\n",
              "    </tr>\n",
              "    <tr>\n",
              "      <th>19972</th>\n",
              "      <td>1000</td>\n",
              "      <td>49.0</td>\n",
              "      <td>2</td>\n",
              "      <td>0</td>\n",
              "      <td>1</td>\n",
              "      <td>186</td>\n",
              "      <td>ITAQUERA</td>\n",
              "      <td>Sao Paulo</td>\n",
              "      <td>1</td>\n",
              "      <td>2</td>\n",
              "      <td>5585799</td>\n",
              "    </tr>\n",
              "    <tr>\n",
              "      <th>20925</th>\n",
              "      <td>1600</td>\n",
              "      <td>58.0</td>\n",
              "      <td>2</td>\n",
              "      <td>0</td>\n",
              "      <td>1</td>\n",
              "      <td>186</td>\n",
              "      <td>ITAQUERA</td>\n",
              "      <td>Sao Paulo</td>\n",
              "      <td>1</td>\n",
              "      <td>4</td>\n",
              "      <td>8550725</td>\n",
              "    </tr>\n",
              "    <tr>\n",
              "      <th>22512</th>\n",
              "      <td>1400</td>\n",
              "      <td>15.0</td>\n",
              "      <td>2</td>\n",
              "      <td>0</td>\n",
              "      <td>1</td>\n",
              "      <td>186</td>\n",
              "      <td>ITAQUERA</td>\n",
              "      <td>Sao Paulo</td>\n",
              "      <td>1</td>\n",
              "      <td>1</td>\n",
              "      <td>8362734</td>\n",
              "    </tr>\n",
              "    <tr>\n",
              "      <th>22529</th>\n",
              "      <td>1000</td>\n",
              "      <td>44.0</td>\n",
              "      <td>2</td>\n",
              "      <td>0</td>\n",
              "      <td>1</td>\n",
              "      <td>186</td>\n",
              "      <td>ITAQUERA</td>\n",
              "      <td>Sao Paulo</td>\n",
              "      <td>1</td>\n",
              "      <td>1</td>\n",
              "      <td>9576371</td>\n",
              "    </tr>\n",
              "    <tr>\n",
              "      <th>22773</th>\n",
              "      <td>1230</td>\n",
              "      <td>48.0</td>\n",
              "      <td>2</td>\n",
              "      <td>0</td>\n",
              "      <td>1</td>\n",
              "      <td>186</td>\n",
              "      <td>ITAQUERA</td>\n",
              "      <td>Sao Paulo</td>\n",
              "      <td>1</td>\n",
              "      <td>4</td>\n",
              "      <td>8876371</td>\n",
              "    </tr>\n",
              "    <tr>\n",
              "      <th>24841</th>\n",
              "      <td>800</td>\n",
              "      <td>55.0</td>\n",
              "      <td>2</td>\n",
              "      <td>0</td>\n",
              "      <td>1</td>\n",
              "      <td>186</td>\n",
              "      <td>ITAQUERA</td>\n",
              "      <td>Sao Paulo</td>\n",
              "      <td>1</td>\n",
              "      <td>1</td>\n",
              "      <td>9580435</td>\n",
              "    </tr>\n",
              "    <tr>\n",
              "      <th>27549</th>\n",
              "      <td>1000</td>\n",
              "      <td>55.0</td>\n",
              "      <td>2</td>\n",
              "      <td>0</td>\n",
              "      <td>1</td>\n",
              "      <td>186</td>\n",
              "      <td>ITAQUERA</td>\n",
              "      <td>Sao Paulo</td>\n",
              "      <td>1</td>\n",
              "      <td>2</td>\n",
              "      <td>6480231</td>\n",
              "    </tr>\n",
              "    <tr>\n",
              "      <th>28028</th>\n",
              "      <td>1100</td>\n",
              "      <td>51.0</td>\n",
              "      <td>2</td>\n",
              "      <td>0</td>\n",
              "      <td>1</td>\n",
              "      <td>186</td>\n",
              "      <td>ITAQUERA</td>\n",
              "      <td>Sao Paulo</td>\n",
              "      <td>1</td>\n",
              "      <td>1</td>\n",
              "      <td>6517578</td>\n",
              "    </tr>\n",
              "    <tr>\n",
              "      <th>28378</th>\n",
              "      <td>1250</td>\n",
              "      <td>62.0</td>\n",
              "      <td>2</td>\n",
              "      <td>0</td>\n",
              "      <td>1</td>\n",
              "      <td>186</td>\n",
              "      <td>ITAQUERA</td>\n",
              "      <td>Sao Paulo</td>\n",
              "      <td>1</td>\n",
              "      <td>2</td>\n",
              "      <td>9523728</td>\n",
              "    </tr>\n",
              "  </tbody>\n",
              "</table>\n",
              "</div>"
            ],
            "text/plain": [
              "       valor  area  quartos  suites  ...     cidade  tipo subtipo       id\n",
              "1881    1000  48.0        2       0  ...  Sao Paulo     1       2  8718975\n",
              "3914    1000  54.0        2       0  ...  Sao Paulo     1       2  5983685\n",
              "5917    1500  60.0        2       0  ...  Sao Paulo     1       2  8948548\n",
              "7003     855  50.0        2       0  ...  Sao Paulo     1       4  9635264\n",
              "8510    1300  54.0        2       0  ...  Sao Paulo     1       4  9209549\n",
              "9432     800  48.0        2       0  ...  Sao Paulo     1       1  9460891\n",
              "12077   1100  50.0        2       0  ...  Sao Paulo     1       2  6630382\n",
              "15357    750  42.0        2       0  ...  Sao Paulo     1       2  7267750\n",
              "17823   1200  45.0        2       0  ...  Sao Paulo     1       2  8718994\n",
              "19972   1000  49.0        2       0  ...  Sao Paulo     1       2  5585799\n",
              "20925   1600  58.0        2       0  ...  Sao Paulo     1       4  8550725\n",
              "22512   1400  15.0        2       0  ...  Sao Paulo     1       1  8362734\n",
              "22529   1000  44.0        2       0  ...  Sao Paulo     1       1  9576371\n",
              "22773   1230  48.0        2       0  ...  Sao Paulo     1       4  8876371\n",
              "24841    800  55.0        2       0  ...  Sao Paulo     1       1  9580435\n",
              "27549   1000  55.0        2       0  ...  Sao Paulo     1       2  6480231\n",
              "28028   1100  51.0        2       0  ...  Sao Paulo     1       1  6517578\n",
              "28378   1250  62.0        2       0  ...  Sao Paulo     1       2  9523728\n",
              "\n",
              "[18 rows x 11 columns]"
            ]
          },
          "metadata": {
            "tags": []
          },
          "execution_count": 29
        }
      ]
    },
    {
      "cell_type": "code",
      "metadata": {
        "id": "3uH-kuIgdPBr",
        "colab_type": "code",
        "outputId": "dc8cb58c-4075-4328-b46f-18a6a23b794d",
        "colab": {
          "base_uri": "https://localhost:8080/",
          "height": 170
        }
      },
      "source": [
        "# Mostrando as estatísitcas da variável 'area' para todos os apartamentos com as especificações de interesse\n",
        "data2.query('quartos == 2 & suites == 0 & vagas == 1 & bairro == \"ITAQUERA\"')['area'].describe()"
      ],
      "execution_count": 30,
      "outputs": [
        {
          "output_type": "execute_result",
          "data": {
            "text/plain": [
              "count    18.000000\n",
              "mean     49.333333\n",
              "std      10.134391\n",
              "min      15.000000\n",
              "25%      48.000000\n",
              "50%      50.000000\n",
              "75%      54.750000\n",
              "max      62.000000\n",
              "Name: area, dtype: float64"
            ]
          },
          "metadata": {
            "tags": []
          },
          "execution_count": 30
        }
      ]
    },
    {
      "cell_type": "markdown",
      "metadata": {
        "id": "U5G3AxFmdPBu",
        "colab_type": "text"
      },
      "source": [
        "#### Podemos ver que todos os apartamentos com 2 quartos, 0 suítes, 1 vaga de garagem e localizado em Itaquera, um bairro da periferia da cidade, tem áreas em torno de 50m², mesmo incluindo àquele de área 15m².\n",
        "#### Então é o valor da mediana (50m²) que iremos atribuir àquele apartamento com comportamento anômalo."
      ]
    },
    {
      "cell_type": "code",
      "metadata": {
        "id": "hXGk0gqpdPBu",
        "colab_type": "code",
        "colab": {}
      },
      "source": [
        "# Armazenando o apartamento com comportamento anômalo\n",
        "itaquera_area_quinze = area_quinze.query('bairro == \"ITAQUERA\"')\n",
        "\n",
        "# Armazenando o índice desse apartamento\n",
        "index_itaquera = itaquera_area_quinze.index.values[0]\n",
        "\n",
        "# Calculando a nova área\n",
        "nova_area = data2.query('quartos == 2 & suites == 0 & vagas == 1 & bairro == \"ITAQUERA\"')['area'].median()\n",
        "\n",
        "# Trocando a área para 50m²\n",
        "data2['area'].loc[itaquera_area_quinze.index] = nova_area"
      ],
      "execution_count": 0,
      "outputs": []
    },
    {
      "cell_type": "code",
      "metadata": {
        "id": "S4lXelYzdPBw",
        "colab_type": "code",
        "outputId": "79e245bf-c3a3-4a3a-f6c6-3a38cd5abf50",
        "colab": {
          "base_uri": "https://localhost:8080/",
          "height": 204
        }
      },
      "source": [
        "# Mostrando que agora não temos mais aquele apartamento de Itaquera com área 15m²\n",
        "data2[data2['area'] == 15]"
      ],
      "execution_count": 32,
      "outputs": [
        {
          "output_type": "execute_result",
          "data": {
            "text/html": [
              "<div>\n",
              "<style scoped>\n",
              "    .dataframe tbody tr th:only-of-type {\n",
              "        vertical-align: middle;\n",
              "    }\n",
              "\n",
              "    .dataframe tbody tr th {\n",
              "        vertical-align: top;\n",
              "    }\n",
              "\n",
              "    .dataframe thead th {\n",
              "        text-align: right;\n",
              "    }\n",
              "</style>\n",
              "<table border=\"1\" class=\"dataframe\">\n",
              "  <thead>\n",
              "    <tr style=\"text-align: right;\">\n",
              "      <th></th>\n",
              "      <th>valor</th>\n",
              "      <th>area</th>\n",
              "      <th>quartos</th>\n",
              "      <th>suites</th>\n",
              "      <th>vagas</th>\n",
              "      <th>bairro_id</th>\n",
              "      <th>bairro</th>\n",
              "      <th>cidade</th>\n",
              "      <th>tipo</th>\n",
              "      <th>subtipo</th>\n",
              "      <th>id</th>\n",
              "    </tr>\n",
              "  </thead>\n",
              "  <tbody>\n",
              "    <tr>\n",
              "      <th>4806</th>\n",
              "      <td>750</td>\n",
              "      <td>15.0</td>\n",
              "      <td>2</td>\n",
              "      <td>0</td>\n",
              "      <td>1</td>\n",
              "      <td>261</td>\n",
              "      <td>GUAIANAZES</td>\n",
              "      <td>Sao Paulo</td>\n",
              "      <td>1</td>\n",
              "      <td>1</td>\n",
              "      <td>9143698</td>\n",
              "    </tr>\n",
              "    <tr>\n",
              "      <th>9547</th>\n",
              "      <td>500</td>\n",
              "      <td>15.0</td>\n",
              "      <td>1</td>\n",
              "      <td>1</td>\n",
              "      <td>0</td>\n",
              "      <td>167</td>\n",
              "      <td>CJ RESID JOSE BONIFACIO</td>\n",
              "      <td>Sao Paulo</td>\n",
              "      <td>1</td>\n",
              "      <td>2</td>\n",
              "      <td>9311617</td>\n",
              "    </tr>\n",
              "    <tr>\n",
              "      <th>16479</th>\n",
              "      <td>5000</td>\n",
              "      <td>15.0</td>\n",
              "      <td>4</td>\n",
              "      <td>2</td>\n",
              "      <td>0</td>\n",
              "      <td>167</td>\n",
              "      <td>CJ RESID JOSE BONIFACIO</td>\n",
              "      <td>Sao Paulo</td>\n",
              "      <td>1</td>\n",
              "      <td>1</td>\n",
              "      <td>7903745</td>\n",
              "    </tr>\n",
              "    <tr>\n",
              "      <th>26217</th>\n",
              "      <td>750</td>\n",
              "      <td>15.0</td>\n",
              "      <td>2</td>\n",
              "      <td>0</td>\n",
              "      <td>1</td>\n",
              "      <td>261</td>\n",
              "      <td>GUAIANAZES</td>\n",
              "      <td>Sao Paulo</td>\n",
              "      <td>1</td>\n",
              "      <td>1</td>\n",
              "      <td>8594064</td>\n",
              "    </tr>\n",
              "    <tr>\n",
              "      <th>26828</th>\n",
              "      <td>850</td>\n",
              "      <td>15.0</td>\n",
              "      <td>2</td>\n",
              "      <td>0</td>\n",
              "      <td>0</td>\n",
              "      <td>167</td>\n",
              "      <td>CJ RESID JOSE BONIFACIO</td>\n",
              "      <td>Sao Paulo</td>\n",
              "      <td>1</td>\n",
              "      <td>1</td>\n",
              "      <td>7862439</td>\n",
              "    </tr>\n",
              "  </tbody>\n",
              "</table>\n",
              "</div>"
            ],
            "text/plain": [
              "       valor  area  quartos  suites  ...     cidade  tipo subtipo       id\n",
              "4806     750  15.0        2       0  ...  Sao Paulo     1       1  9143698\n",
              "9547     500  15.0        1       1  ...  Sao Paulo     1       2  9311617\n",
              "16479   5000  15.0        4       2  ...  Sao Paulo     1       1  7903745\n",
              "26217    750  15.0        2       0  ...  Sao Paulo     1       1  8594064\n",
              "26828    850  15.0        2       0  ...  Sao Paulo     1       1  7862439\n",
              "\n",
              "[5 rows x 11 columns]"
            ]
          },
          "metadata": {
            "tags": []
          },
          "execution_count": 32
        }
      ]
    },
    {
      "cell_type": "code",
      "metadata": {
        "id": "mF1jNuosdPBz",
        "colab_type": "code",
        "outputId": "a4576923-5f44-4d6a-ed1a-bf98f5b4337b",
        "colab": {
          "base_uri": "https://localhost:8080/",
          "height": 34
        }
      },
      "source": [
        "# Mostrando que a nova área dele é 50m².\n",
        "data2['area'].loc[index_itaquera]"
      ],
      "execution_count": 33,
      "outputs": [
        {
          "output_type": "execute_result",
          "data": {
            "text/plain": [
              "50.0"
            ]
          },
          "metadata": {
            "tags": []
          },
          "execution_count": 33
        }
      ]
    },
    {
      "cell_type": "markdown",
      "metadata": {
        "id": "xysOMdxAdPB2",
        "colab_type": "text"
      },
      "source": [
        "#### Os dois apartamentos de Guaianazes\n",
        "- 15m² com 2 quartos parece estranho. Vamos olhar mais de perto para apartamentos com as mesmas especificações que esse."
      ]
    },
    {
      "cell_type": "markdown",
      "metadata": {
        "id": "tAK5fvIQdPB3",
        "colab_type": "text"
      },
      "source": [
        "#### Com esses dois apartamentos, gostaríamos de fazer o mesmo que fizemos com o de Itaquera Porém, só exeistem esses dois apartamentos em nosso dataset, oq eu inviabiliza o processo."
      ]
    },
    {
      "cell_type": "code",
      "metadata": {
        "id": "kYIF1kO1dPB4",
        "colab_type": "code",
        "outputId": "bf6f056d-ba5f-4563-8a85-32bb11e89b86",
        "colab": {
          "base_uri": "https://localhost:8080/",
          "height": 111
        }
      },
      "source": [
        "# Procurando todos os apartamentos com as mesma especificações\n",
        "data2.query('bairro == \"GUAIANAZES\"')"
      ],
      "execution_count": 34,
      "outputs": [
        {
          "output_type": "execute_result",
          "data": {
            "text/html": [
              "<div>\n",
              "<style scoped>\n",
              "    .dataframe tbody tr th:only-of-type {\n",
              "        vertical-align: middle;\n",
              "    }\n",
              "\n",
              "    .dataframe tbody tr th {\n",
              "        vertical-align: top;\n",
              "    }\n",
              "\n",
              "    .dataframe thead th {\n",
              "        text-align: right;\n",
              "    }\n",
              "</style>\n",
              "<table border=\"1\" class=\"dataframe\">\n",
              "  <thead>\n",
              "    <tr style=\"text-align: right;\">\n",
              "      <th></th>\n",
              "      <th>valor</th>\n",
              "      <th>area</th>\n",
              "      <th>quartos</th>\n",
              "      <th>suites</th>\n",
              "      <th>vagas</th>\n",
              "      <th>bairro_id</th>\n",
              "      <th>bairro</th>\n",
              "      <th>cidade</th>\n",
              "      <th>tipo</th>\n",
              "      <th>subtipo</th>\n",
              "      <th>id</th>\n",
              "    </tr>\n",
              "  </thead>\n",
              "  <tbody>\n",
              "    <tr>\n",
              "      <th>4806</th>\n",
              "      <td>750</td>\n",
              "      <td>15.0</td>\n",
              "      <td>2</td>\n",
              "      <td>0</td>\n",
              "      <td>1</td>\n",
              "      <td>261</td>\n",
              "      <td>GUAIANAZES</td>\n",
              "      <td>Sao Paulo</td>\n",
              "      <td>1</td>\n",
              "      <td>1</td>\n",
              "      <td>9143698</td>\n",
              "    </tr>\n",
              "    <tr>\n",
              "      <th>26217</th>\n",
              "      <td>750</td>\n",
              "      <td>15.0</td>\n",
              "      <td>2</td>\n",
              "      <td>0</td>\n",
              "      <td>1</td>\n",
              "      <td>261</td>\n",
              "      <td>GUAIANAZES</td>\n",
              "      <td>Sao Paulo</td>\n",
              "      <td>1</td>\n",
              "      <td>1</td>\n",
              "      <td>8594064</td>\n",
              "    </tr>\n",
              "  </tbody>\n",
              "</table>\n",
              "</div>"
            ],
            "text/plain": [
              "       valor  area  quartos  suites  ...     cidade  tipo subtipo       id\n",
              "4806     750  15.0        2       0  ...  Sao Paulo     1       1  9143698\n",
              "26217    750  15.0        2       0  ...  Sao Paulo     1       1  8594064\n",
              "\n",
              "[2 rows x 11 columns]"
            ]
          },
          "metadata": {
            "tags": []
          },
          "execution_count": 34
        }
      ]
    },
    {
      "cell_type": "markdown",
      "metadata": {
        "id": "xztFMUFBdPB7",
        "colab_type": "text"
      },
      "source": [
        "#### Vamos então fazer o mesmo processo que anteriormente, porém utilizando apartamentos de uma região vizinha. Com isso não perderemos tanta informação já que, em regiões próximas, os valores dos apartamentos não são muito discrepantes uns dos outros.\n",
        "#### Utilizaremos o bairro de Artur Alvim, que têm o mesmo perfil desses dois de Guaianazes"
      ]
    },
    {
      "cell_type": "code",
      "metadata": {
        "id": "l5-hcHWjdPB8",
        "colab_type": "code",
        "outputId": "1b722f0b-4d52-4b3c-a13d-98b70d4c3a85",
        "colab": {
          "base_uri": "https://localhost:8080/",
          "height": 328
        }
      },
      "source": [
        "# Selecionando todos os apartamentos com as especificações que queremos\n",
        "data2.query('quartos == 2 & suites == 0 & vagas == 1 & bairro == \"ARTUR ALVIM\"')"
      ],
      "execution_count": 35,
      "outputs": [
        {
          "output_type": "execute_result",
          "data": {
            "text/html": [
              "<div>\n",
              "<style scoped>\n",
              "    .dataframe tbody tr th:only-of-type {\n",
              "        vertical-align: middle;\n",
              "    }\n",
              "\n",
              "    .dataframe tbody tr th {\n",
              "        vertical-align: top;\n",
              "    }\n",
              "\n",
              "    .dataframe thead th {\n",
              "        text-align: right;\n",
              "    }\n",
              "</style>\n",
              "<table border=\"1\" class=\"dataframe\">\n",
              "  <thead>\n",
              "    <tr style=\"text-align: right;\">\n",
              "      <th></th>\n",
              "      <th>valor</th>\n",
              "      <th>area</th>\n",
              "      <th>quartos</th>\n",
              "      <th>suites</th>\n",
              "      <th>vagas</th>\n",
              "      <th>bairro_id</th>\n",
              "      <th>bairro</th>\n",
              "      <th>cidade</th>\n",
              "      <th>tipo</th>\n",
              "      <th>subtipo</th>\n",
              "      <th>id</th>\n",
              "    </tr>\n",
              "  </thead>\n",
              "  <tbody>\n",
              "    <tr>\n",
              "      <th>3602</th>\n",
              "      <td>850</td>\n",
              "      <td>48.0</td>\n",
              "      <td>2</td>\n",
              "      <td>0</td>\n",
              "      <td>1</td>\n",
              "      <td>129</td>\n",
              "      <td>ARTUR ALVIM</td>\n",
              "      <td>Sao Paulo</td>\n",
              "      <td>1</td>\n",
              "      <td>1</td>\n",
              "      <td>9476412</td>\n",
              "    </tr>\n",
              "    <tr>\n",
              "      <th>6256</th>\n",
              "      <td>825</td>\n",
              "      <td>57.0</td>\n",
              "      <td>2</td>\n",
              "      <td>0</td>\n",
              "      <td>1</td>\n",
              "      <td>129</td>\n",
              "      <td>ARTUR ALVIM</td>\n",
              "      <td>Sao Paulo</td>\n",
              "      <td>1</td>\n",
              "      <td>4</td>\n",
              "      <td>9635487</td>\n",
              "    </tr>\n",
              "    <tr>\n",
              "      <th>7849</th>\n",
              "      <td>800</td>\n",
              "      <td>47.0</td>\n",
              "      <td>2</td>\n",
              "      <td>0</td>\n",
              "      <td>1</td>\n",
              "      <td>129</td>\n",
              "      <td>ARTUR ALVIM</td>\n",
              "      <td>Sao Paulo</td>\n",
              "      <td>1</td>\n",
              "      <td>4</td>\n",
              "      <td>8166495</td>\n",
              "    </tr>\n",
              "    <tr>\n",
              "      <th>12414</th>\n",
              "      <td>850</td>\n",
              "      <td>46.0</td>\n",
              "      <td>2</td>\n",
              "      <td>0</td>\n",
              "      <td>1</td>\n",
              "      <td>129</td>\n",
              "      <td>ARTUR ALVIM</td>\n",
              "      <td>Sao Paulo</td>\n",
              "      <td>1</td>\n",
              "      <td>1</td>\n",
              "      <td>9141953</td>\n",
              "    </tr>\n",
              "    <tr>\n",
              "      <th>15825</th>\n",
              "      <td>855</td>\n",
              "      <td>48.0</td>\n",
              "      <td>2</td>\n",
              "      <td>0</td>\n",
              "      <td>1</td>\n",
              "      <td>129</td>\n",
              "      <td>ARTUR ALVIM</td>\n",
              "      <td>Sao Paulo</td>\n",
              "      <td>1</td>\n",
              "      <td>1</td>\n",
              "      <td>9429313</td>\n",
              "    </tr>\n",
              "    <tr>\n",
              "      <th>16324</th>\n",
              "      <td>1050</td>\n",
              "      <td>49.0</td>\n",
              "      <td>2</td>\n",
              "      <td>0</td>\n",
              "      <td>1</td>\n",
              "      <td>129</td>\n",
              "      <td>ARTUR ALVIM</td>\n",
              "      <td>Sao Paulo</td>\n",
              "      <td>1</td>\n",
              "      <td>1</td>\n",
              "      <td>9613111</td>\n",
              "    </tr>\n",
              "    <tr>\n",
              "      <th>18761</th>\n",
              "      <td>835</td>\n",
              "      <td>48.0</td>\n",
              "      <td>2</td>\n",
              "      <td>0</td>\n",
              "      <td>1</td>\n",
              "      <td>129</td>\n",
              "      <td>ARTUR ALVIM</td>\n",
              "      <td>Sao Paulo</td>\n",
              "      <td>1</td>\n",
              "      <td>4</td>\n",
              "      <td>7564726</td>\n",
              "    </tr>\n",
              "    <tr>\n",
              "      <th>20522</th>\n",
              "      <td>845</td>\n",
              "      <td>57.0</td>\n",
              "      <td>2</td>\n",
              "      <td>0</td>\n",
              "      <td>1</td>\n",
              "      <td>129</td>\n",
              "      <td>ARTUR ALVIM</td>\n",
              "      <td>Sao Paulo</td>\n",
              "      <td>1</td>\n",
              "      <td>4</td>\n",
              "      <td>9635453</td>\n",
              "    </tr>\n",
              "    <tr>\n",
              "      <th>25524</th>\n",
              "      <td>765</td>\n",
              "      <td>48.0</td>\n",
              "      <td>2</td>\n",
              "      <td>0</td>\n",
              "      <td>1</td>\n",
              "      <td>129</td>\n",
              "      <td>ARTUR ALVIM</td>\n",
              "      <td>Sao Paulo</td>\n",
              "      <td>1</td>\n",
              "      <td>4</td>\n",
              "      <td>8810550</td>\n",
              "    </tr>\n",
              "  </tbody>\n",
              "</table>\n",
              "</div>"
            ],
            "text/plain": [
              "       valor  area  quartos  suites  ...     cidade  tipo subtipo       id\n",
              "3602     850  48.0        2       0  ...  Sao Paulo     1       1  9476412\n",
              "6256     825  57.0        2       0  ...  Sao Paulo     1       4  9635487\n",
              "7849     800  47.0        2       0  ...  Sao Paulo     1       4  8166495\n",
              "12414    850  46.0        2       0  ...  Sao Paulo     1       1  9141953\n",
              "15825    855  48.0        2       0  ...  Sao Paulo     1       1  9429313\n",
              "16324   1050  49.0        2       0  ...  Sao Paulo     1       1  9613111\n",
              "18761    835  48.0        2       0  ...  Sao Paulo     1       4  7564726\n",
              "20522    845  57.0        2       0  ...  Sao Paulo     1       4  9635453\n",
              "25524    765  48.0        2       0  ...  Sao Paulo     1       4  8810550\n",
              "\n",
              "[9 rows x 11 columns]"
            ]
          },
          "metadata": {
            "tags": []
          },
          "execution_count": 35
        }
      ]
    },
    {
      "cell_type": "code",
      "metadata": {
        "id": "F8qK7l-UdPCB",
        "colab_type": "code",
        "outputId": "d36d0e2f-e1b1-4719-949a-1e83a9ce082d",
        "colab": {
          "base_uri": "https://localhost:8080/",
          "height": 170
        }
      },
      "source": [
        "# Mostrando as estatisticas descritivas dos apartamentos com as especificações citadas\n",
        "data2.query('quartos == 2 & suites == 0 & vagas == 1 & bairro == \"ARTUR ALVIM\"')['area'].describe()"
      ],
      "execution_count": 36,
      "outputs": [
        {
          "output_type": "execute_result",
          "data": {
            "text/plain": [
              "count     9.000000\n",
              "mean     49.777778\n",
              "std       4.176655\n",
              "min      46.000000\n",
              "25%      48.000000\n",
              "50%      48.000000\n",
              "75%      49.000000\n",
              "max      57.000000\n",
              "Name: area, dtype: float64"
            ]
          },
          "metadata": {
            "tags": []
          },
          "execution_count": 36
        }
      ]
    },
    {
      "cell_type": "markdown",
      "metadata": {
        "id": "Z2yP8DG6dPCE",
        "colab_type": "text"
      },
      "source": [
        "#### Podemos ver que aqui a área desses apartamentos de Artur Alvim estão em torno de 48 a 49m².\n",
        "#### Então, utilizaremos novamente a mediana (48m²)."
      ]
    },
    {
      "cell_type": "code",
      "metadata": {
        "id": "nR-Qa7n8dPCF",
        "colab_type": "code",
        "outputId": "8c167683-4b25-408d-9ea9-9c7822503852",
        "colab": {
          "base_uri": "https://localhost:8080/",
          "height": 111
        }
      },
      "source": [
        "# Armazenando os dois apartamentos com comportamentos anômalos\n",
        "guaianazes_area_quinze = area_quinze.query('bairro == \"GUAIANAZES\"')\n",
        "\n",
        "# Armazenando os índices desses dois apartamentos\n",
        "index_guaianazes = guaianazes_area_quinze.index.values\n",
        "\n",
        "# Calculando a nova área\n",
        "nova_area = data2.query('quartos == 2 & suites == 0 & vagas == 1 & bairro == \"ARTUR ALVIM\"')['area'].median()\n",
        "\n",
        "# Trocando a área para 48m²\n",
        "for i in index_guaianazes:\n",
        "    data2['area'].loc[i] = nova_area\n",
        "\n",
        "# Mostrando que a novas áreas para os dois apartamentos de Guaianazes deixam de ser 15m² e passam a ser 48m²\n",
        "data2.query('bairro == \"GUAIANAZES\"')"
      ],
      "execution_count": 37,
      "outputs": [
        {
          "output_type": "execute_result",
          "data": {
            "text/html": [
              "<div>\n",
              "<style scoped>\n",
              "    .dataframe tbody tr th:only-of-type {\n",
              "        vertical-align: middle;\n",
              "    }\n",
              "\n",
              "    .dataframe tbody tr th {\n",
              "        vertical-align: top;\n",
              "    }\n",
              "\n",
              "    .dataframe thead th {\n",
              "        text-align: right;\n",
              "    }\n",
              "</style>\n",
              "<table border=\"1\" class=\"dataframe\">\n",
              "  <thead>\n",
              "    <tr style=\"text-align: right;\">\n",
              "      <th></th>\n",
              "      <th>valor</th>\n",
              "      <th>area</th>\n",
              "      <th>quartos</th>\n",
              "      <th>suites</th>\n",
              "      <th>vagas</th>\n",
              "      <th>bairro_id</th>\n",
              "      <th>bairro</th>\n",
              "      <th>cidade</th>\n",
              "      <th>tipo</th>\n",
              "      <th>subtipo</th>\n",
              "      <th>id</th>\n",
              "    </tr>\n",
              "  </thead>\n",
              "  <tbody>\n",
              "    <tr>\n",
              "      <th>4806</th>\n",
              "      <td>750</td>\n",
              "      <td>48.0</td>\n",
              "      <td>2</td>\n",
              "      <td>0</td>\n",
              "      <td>1</td>\n",
              "      <td>261</td>\n",
              "      <td>GUAIANAZES</td>\n",
              "      <td>Sao Paulo</td>\n",
              "      <td>1</td>\n",
              "      <td>1</td>\n",
              "      <td>9143698</td>\n",
              "    </tr>\n",
              "    <tr>\n",
              "      <th>26217</th>\n",
              "      <td>750</td>\n",
              "      <td>48.0</td>\n",
              "      <td>2</td>\n",
              "      <td>0</td>\n",
              "      <td>1</td>\n",
              "      <td>261</td>\n",
              "      <td>GUAIANAZES</td>\n",
              "      <td>Sao Paulo</td>\n",
              "      <td>1</td>\n",
              "      <td>1</td>\n",
              "      <td>8594064</td>\n",
              "    </tr>\n",
              "  </tbody>\n",
              "</table>\n",
              "</div>"
            ],
            "text/plain": [
              "       valor  area  quartos  suites  ...     cidade  tipo subtipo       id\n",
              "4806     750  48.0        2       0  ...  Sao Paulo     1       1  9143698\n",
              "26217    750  48.0        2       0  ...  Sao Paulo     1       1  8594064\n",
              "\n",
              "[2 rows x 11 columns]"
            ]
          },
          "metadata": {
            "tags": []
          },
          "execution_count": 37
        }
      ]
    },
    {
      "cell_type": "code",
      "metadata": {
        "id": "9IYaK57CdPCI",
        "colab_type": "code",
        "outputId": "5da287d3-7adf-4028-a011-e59fb81794d5",
        "colab": {
          "base_uri": "https://localhost:8080/",
          "height": 142
        }
      },
      "source": [
        "# Mostrando que agora não temos mais os dois apartamentos de Guaianazes com área 15m²\n",
        "bonifacio_quinze = data2[data2['area'] == 15]\n",
        "bonifacio_quinze"
      ],
      "execution_count": 38,
      "outputs": [
        {
          "output_type": "execute_result",
          "data": {
            "text/html": [
              "<div>\n",
              "<style scoped>\n",
              "    .dataframe tbody tr th:only-of-type {\n",
              "        vertical-align: middle;\n",
              "    }\n",
              "\n",
              "    .dataframe tbody tr th {\n",
              "        vertical-align: top;\n",
              "    }\n",
              "\n",
              "    .dataframe thead th {\n",
              "        text-align: right;\n",
              "    }\n",
              "</style>\n",
              "<table border=\"1\" class=\"dataframe\">\n",
              "  <thead>\n",
              "    <tr style=\"text-align: right;\">\n",
              "      <th></th>\n",
              "      <th>valor</th>\n",
              "      <th>area</th>\n",
              "      <th>quartos</th>\n",
              "      <th>suites</th>\n",
              "      <th>vagas</th>\n",
              "      <th>bairro_id</th>\n",
              "      <th>bairro</th>\n",
              "      <th>cidade</th>\n",
              "      <th>tipo</th>\n",
              "      <th>subtipo</th>\n",
              "      <th>id</th>\n",
              "    </tr>\n",
              "  </thead>\n",
              "  <tbody>\n",
              "    <tr>\n",
              "      <th>9547</th>\n",
              "      <td>500</td>\n",
              "      <td>15.0</td>\n",
              "      <td>1</td>\n",
              "      <td>1</td>\n",
              "      <td>0</td>\n",
              "      <td>167</td>\n",
              "      <td>CJ RESID JOSE BONIFACIO</td>\n",
              "      <td>Sao Paulo</td>\n",
              "      <td>1</td>\n",
              "      <td>2</td>\n",
              "      <td>9311617</td>\n",
              "    </tr>\n",
              "    <tr>\n",
              "      <th>16479</th>\n",
              "      <td>5000</td>\n",
              "      <td>15.0</td>\n",
              "      <td>4</td>\n",
              "      <td>2</td>\n",
              "      <td>0</td>\n",
              "      <td>167</td>\n",
              "      <td>CJ RESID JOSE BONIFACIO</td>\n",
              "      <td>Sao Paulo</td>\n",
              "      <td>1</td>\n",
              "      <td>1</td>\n",
              "      <td>7903745</td>\n",
              "    </tr>\n",
              "    <tr>\n",
              "      <th>26828</th>\n",
              "      <td>850</td>\n",
              "      <td>15.0</td>\n",
              "      <td>2</td>\n",
              "      <td>0</td>\n",
              "      <td>0</td>\n",
              "      <td>167</td>\n",
              "      <td>CJ RESID JOSE BONIFACIO</td>\n",
              "      <td>Sao Paulo</td>\n",
              "      <td>1</td>\n",
              "      <td>1</td>\n",
              "      <td>7862439</td>\n",
              "    </tr>\n",
              "  </tbody>\n",
              "</table>\n",
              "</div>"
            ],
            "text/plain": [
              "       valor  area  quartos  suites  ...     cidade  tipo subtipo       id\n",
              "9547     500  15.0        1       1  ...  Sao Paulo     1       2  9311617\n",
              "16479   5000  15.0        4       2  ...  Sao Paulo     1       1  7903745\n",
              "26828    850  15.0        2       0  ...  Sao Paulo     1       1  7862439\n",
              "\n",
              "[3 rows x 11 columns]"
            ]
          },
          "metadata": {
            "tags": []
          },
          "execution_count": 38
        }
      ]
    },
    {
      "cell_type": "markdown",
      "metadata": {
        "id": "dq__DlDIdPCL",
        "colab_type": "text"
      },
      "source": [
        "#### Agora o maior dos problemas com os apartamentos de 15m². Esses 3 do Cj. Residencial José Bonifácio.\n",
        "#### Note que os três são do mesmo conjunto residencial, a saber, localizado também na periferia da cidade e, coincidentemente, localizado entre os dois bairros com problemas que acabamos de trabalhar: Itaquera e Guaianazes. Entretando, os três com especificações diferentes entre si, sendo um deles com um aluguel bem acima dos demais da região."
      ]
    },
    {
      "cell_type": "markdown",
      "metadata": {
        "id": "YzHrIutpdPCM",
        "colab_type": "text"
      },
      "source": [
        "#### O primeiro dos três, vamos deixá-lo como está, pois acreditamos que, mesmo com 1 quarto e uma suíte, essa área não seria uma problema se ele for uma kitnet. Como não temos como saber isso, deixemos assim e um dos problemas já está resolvido."
      ]
    },
    {
      "cell_type": "code",
      "metadata": {
        "id": "rKMEyCo7dPCM",
        "colab_type": "code",
        "colab": {}
      },
      "source": [
        "# Retirando a possível kitnet\n",
        "bonifacio_quinze.drop(bonifacio_quinze[bonifacio_quinze['quartos'] == 1].index, inplace=True)"
      ],
      "execution_count": 0,
      "outputs": []
    },
    {
      "cell_type": "code",
      "metadata": {
        "id": "lXLx1rxndPCP",
        "colab_type": "code",
        "outputId": "208d8097-7fc4-423e-bea3-b959767044c7",
        "colab": {
          "base_uri": "https://localhost:8080/",
          "height": 111
        }
      },
      "source": [
        "# Mostrando os apartamentos do Cj. Residencial José Bonifácio que restaram\n",
        "bonifacio_quinze"
      ],
      "execution_count": 40,
      "outputs": [
        {
          "output_type": "execute_result",
          "data": {
            "text/html": [
              "<div>\n",
              "<style scoped>\n",
              "    .dataframe tbody tr th:only-of-type {\n",
              "        vertical-align: middle;\n",
              "    }\n",
              "\n",
              "    .dataframe tbody tr th {\n",
              "        vertical-align: top;\n",
              "    }\n",
              "\n",
              "    .dataframe thead th {\n",
              "        text-align: right;\n",
              "    }\n",
              "</style>\n",
              "<table border=\"1\" class=\"dataframe\">\n",
              "  <thead>\n",
              "    <tr style=\"text-align: right;\">\n",
              "      <th></th>\n",
              "      <th>valor</th>\n",
              "      <th>area</th>\n",
              "      <th>quartos</th>\n",
              "      <th>suites</th>\n",
              "      <th>vagas</th>\n",
              "      <th>bairro_id</th>\n",
              "      <th>bairro</th>\n",
              "      <th>cidade</th>\n",
              "      <th>tipo</th>\n",
              "      <th>subtipo</th>\n",
              "      <th>id</th>\n",
              "    </tr>\n",
              "  </thead>\n",
              "  <tbody>\n",
              "    <tr>\n",
              "      <th>16479</th>\n",
              "      <td>5000</td>\n",
              "      <td>15.0</td>\n",
              "      <td>4</td>\n",
              "      <td>2</td>\n",
              "      <td>0</td>\n",
              "      <td>167</td>\n",
              "      <td>CJ RESID JOSE BONIFACIO</td>\n",
              "      <td>Sao Paulo</td>\n",
              "      <td>1</td>\n",
              "      <td>1</td>\n",
              "      <td>7903745</td>\n",
              "    </tr>\n",
              "    <tr>\n",
              "      <th>26828</th>\n",
              "      <td>850</td>\n",
              "      <td>15.0</td>\n",
              "      <td>2</td>\n",
              "      <td>0</td>\n",
              "      <td>0</td>\n",
              "      <td>167</td>\n",
              "      <td>CJ RESID JOSE BONIFACIO</td>\n",
              "      <td>Sao Paulo</td>\n",
              "      <td>1</td>\n",
              "      <td>1</td>\n",
              "      <td>7862439</td>\n",
              "    </tr>\n",
              "  </tbody>\n",
              "</table>\n",
              "</div>"
            ],
            "text/plain": [
              "       valor  area  quartos  suites  ...     cidade  tipo subtipo       id\n",
              "16479   5000  15.0        4       2  ...  Sao Paulo     1       1  7903745\n",
              "26828    850  15.0        2       0  ...  Sao Paulo     1       1  7862439\n",
              "\n",
              "[2 rows x 11 columns]"
            ]
          },
          "metadata": {
            "tags": []
          },
          "execution_count": 40
        }
      ]
    },
    {
      "cell_type": "markdown",
      "metadata": {
        "id": "7cBPgAqOdPCR",
        "colab_type": "text"
      },
      "source": [
        "#### Dos dois que sobraram, vamos primeiramente resolver esse de 2 quartos. Utilizaremos o mesmo método que usamos anteriormente naquele de Itaquera."
      ]
    },
    {
      "cell_type": "code",
      "metadata": {
        "id": "JgqmJ16YdPCS",
        "colab_type": "code",
        "outputId": "1c98445d-568e-414b-94e4-b53773cdd9e3",
        "colab": {
          "base_uri": "https://localhost:8080/",
          "height": 204
        }
      },
      "source": [
        "# Procurando todos os apartamentos com especificações semelhantes\n",
        "data2.query('quartos == 2 & bairro == \"CJ RESID JOSE BONIFACIO\"')"
      ],
      "execution_count": 41,
      "outputs": [
        {
          "output_type": "execute_result",
          "data": {
            "text/html": [
              "<div>\n",
              "<style scoped>\n",
              "    .dataframe tbody tr th:only-of-type {\n",
              "        vertical-align: middle;\n",
              "    }\n",
              "\n",
              "    .dataframe tbody tr th {\n",
              "        vertical-align: top;\n",
              "    }\n",
              "\n",
              "    .dataframe thead th {\n",
              "        text-align: right;\n",
              "    }\n",
              "</style>\n",
              "<table border=\"1\" class=\"dataframe\">\n",
              "  <thead>\n",
              "    <tr style=\"text-align: right;\">\n",
              "      <th></th>\n",
              "      <th>valor</th>\n",
              "      <th>area</th>\n",
              "      <th>quartos</th>\n",
              "      <th>suites</th>\n",
              "      <th>vagas</th>\n",
              "      <th>bairro_id</th>\n",
              "      <th>bairro</th>\n",
              "      <th>cidade</th>\n",
              "      <th>tipo</th>\n",
              "      <th>subtipo</th>\n",
              "      <th>id</th>\n",
              "    </tr>\n",
              "  </thead>\n",
              "  <tbody>\n",
              "    <tr>\n",
              "      <th>1607</th>\n",
              "      <td>900</td>\n",
              "      <td>46.0</td>\n",
              "      <td>2</td>\n",
              "      <td>1</td>\n",
              "      <td>1</td>\n",
              "      <td>167</td>\n",
              "      <td>CJ RESID JOSE BONIFACIO</td>\n",
              "      <td>Sao Paulo</td>\n",
              "      <td>1</td>\n",
              "      <td>1</td>\n",
              "      <td>9549704</td>\n",
              "    </tr>\n",
              "    <tr>\n",
              "      <th>6067</th>\n",
              "      <td>750</td>\n",
              "      <td>52.0</td>\n",
              "      <td>2</td>\n",
              "      <td>0</td>\n",
              "      <td>1</td>\n",
              "      <td>167</td>\n",
              "      <td>CJ RESID JOSE BONIFACIO</td>\n",
              "      <td>Sao Paulo</td>\n",
              "      <td>1</td>\n",
              "      <td>1</td>\n",
              "      <td>9224408</td>\n",
              "    </tr>\n",
              "    <tr>\n",
              "      <th>13355</th>\n",
              "      <td>1000</td>\n",
              "      <td>48.0</td>\n",
              "      <td>2</td>\n",
              "      <td>0</td>\n",
              "      <td>1</td>\n",
              "      <td>167</td>\n",
              "      <td>CJ RESID JOSE BONIFACIO</td>\n",
              "      <td>Sao Paulo</td>\n",
              "      <td>1</td>\n",
              "      <td>1</td>\n",
              "      <td>9461047</td>\n",
              "    </tr>\n",
              "    <tr>\n",
              "      <th>14988</th>\n",
              "      <td>900</td>\n",
              "      <td>52.0</td>\n",
              "      <td>2</td>\n",
              "      <td>0</td>\n",
              "      <td>1</td>\n",
              "      <td>167</td>\n",
              "      <td>CJ RESID JOSE BONIFACIO</td>\n",
              "      <td>Sao Paulo</td>\n",
              "      <td>1</td>\n",
              "      <td>1</td>\n",
              "      <td>9634765</td>\n",
              "    </tr>\n",
              "    <tr>\n",
              "      <th>26828</th>\n",
              "      <td>850</td>\n",
              "      <td>15.0</td>\n",
              "      <td>2</td>\n",
              "      <td>0</td>\n",
              "      <td>0</td>\n",
              "      <td>167</td>\n",
              "      <td>CJ RESID JOSE BONIFACIO</td>\n",
              "      <td>Sao Paulo</td>\n",
              "      <td>1</td>\n",
              "      <td>1</td>\n",
              "      <td>7862439</td>\n",
              "    </tr>\n",
              "  </tbody>\n",
              "</table>\n",
              "</div>"
            ],
            "text/plain": [
              "       valor  area  quartos  suites  ...     cidade  tipo subtipo       id\n",
              "1607     900  46.0        2       1  ...  Sao Paulo     1       1  9549704\n",
              "6067     750  52.0        2       0  ...  Sao Paulo     1       1  9224408\n",
              "13355   1000  48.0        2       0  ...  Sao Paulo     1       1  9461047\n",
              "14988    900  52.0        2       0  ...  Sao Paulo     1       1  9634765\n",
              "26828    850  15.0        2       0  ...  Sao Paulo     1       1  7862439\n",
              "\n",
              "[5 rows x 11 columns]"
            ]
          },
          "metadata": {
            "tags": []
          },
          "execution_count": 41
        }
      ]
    },
    {
      "cell_type": "code",
      "metadata": {
        "id": "HxwWz8yqdPCU",
        "colab_type": "code",
        "outputId": "60314e50-4eb0-4fad-e051-ed32c245b90d",
        "colab": {
          "base_uri": "https://localhost:8080/",
          "height": 170
        }
      },
      "source": [
        "# Mostrando as estatísitcas da variável 'area' para todos os apartamentos com as especificações de interesse\n",
        "data2.query('quartos == 2 & bairro == \"CJ RESID JOSE BONIFACIO\"')['area'].describe()"
      ],
      "execution_count": 42,
      "outputs": [
        {
          "output_type": "execute_result",
          "data": {
            "text/plain": [
              "count     5.000000\n",
              "mean     42.600000\n",
              "std      15.646086\n",
              "min      15.000000\n",
              "25%      46.000000\n",
              "50%      48.000000\n",
              "75%      52.000000\n",
              "max      52.000000\n",
              "Name: area, dtype: float64"
            ]
          },
          "metadata": {
            "tags": []
          },
          "execution_count": 42
        }
      ]
    },
    {
      "cell_type": "markdown",
      "metadata": {
        "id": "G7AphaptdPCW",
        "colab_type": "text"
      },
      "source": [
        "#### Aqui a área desses imóveis estão em torno de 48m², então será esse o valor utilizado."
      ]
    },
    {
      "cell_type": "code",
      "metadata": {
        "id": "ym6LAetndPCZ",
        "colab_type": "code",
        "outputId": "8ae9c07f-cc51-458d-e722-c05c2ecc3e57",
        "colab": {
          "base_uri": "https://localhost:8080/",
          "height": 80
        }
      },
      "source": [
        "# Armazenando os índices desses dois apartamentos\n",
        "index_ap = bonifacio_quinze.iloc[1:, :].index.values[0]\n",
        "\n",
        "# Calculando a nova área\n",
        "nova_area = data2.query('quartos == 2 & bairro == \"CJ RESID JOSE BONIFACIO\"')['area'].median()\n",
        "\n",
        "# Trocando a área para 48m²\n",
        "data2['area'].loc[index_ap] = nova_area\n",
        "\n",
        "# Mostrando que a nova área agora é 48m²\n",
        "data2.query(f'index == {index_ap}')"
      ],
      "execution_count": 43,
      "outputs": [
        {
          "output_type": "execute_result",
          "data": {
            "text/html": [
              "<div>\n",
              "<style scoped>\n",
              "    .dataframe tbody tr th:only-of-type {\n",
              "        vertical-align: middle;\n",
              "    }\n",
              "\n",
              "    .dataframe tbody tr th {\n",
              "        vertical-align: top;\n",
              "    }\n",
              "\n",
              "    .dataframe thead th {\n",
              "        text-align: right;\n",
              "    }\n",
              "</style>\n",
              "<table border=\"1\" class=\"dataframe\">\n",
              "  <thead>\n",
              "    <tr style=\"text-align: right;\">\n",
              "      <th></th>\n",
              "      <th>valor</th>\n",
              "      <th>area</th>\n",
              "      <th>quartos</th>\n",
              "      <th>suites</th>\n",
              "      <th>vagas</th>\n",
              "      <th>bairro_id</th>\n",
              "      <th>bairro</th>\n",
              "      <th>cidade</th>\n",
              "      <th>tipo</th>\n",
              "      <th>subtipo</th>\n",
              "      <th>id</th>\n",
              "    </tr>\n",
              "  </thead>\n",
              "  <tbody>\n",
              "    <tr>\n",
              "      <th>26828</th>\n",
              "      <td>850</td>\n",
              "      <td>48.0</td>\n",
              "      <td>2</td>\n",
              "      <td>0</td>\n",
              "      <td>0</td>\n",
              "      <td>167</td>\n",
              "      <td>CJ RESID JOSE BONIFACIO</td>\n",
              "      <td>Sao Paulo</td>\n",
              "      <td>1</td>\n",
              "      <td>1</td>\n",
              "      <td>7862439</td>\n",
              "    </tr>\n",
              "  </tbody>\n",
              "</table>\n",
              "</div>"
            ],
            "text/plain": [
              "       valor  area  quartos  suites  ...     cidade  tipo subtipo       id\n",
              "26828    850  48.0        2       0  ...  Sao Paulo     1       1  7862439\n",
              "\n",
              "[1 rows x 11 columns]"
            ]
          },
          "metadata": {
            "tags": []
          },
          "execution_count": 43
        }
      ]
    },
    {
      "cell_type": "markdown",
      "metadata": {
        "id": "VRxUJmdVdPCc",
        "colab_type": "text"
      },
      "source": [
        "#### Nos resta agora resolver o último de nossos problemas."
      ]
    },
    {
      "cell_type": "code",
      "metadata": {
        "id": "YV6yA-OtdPCc",
        "colab_type": "code",
        "outputId": "03b25ac1-9225-4f87-b838-a9e8800d2e3e",
        "colab": {
          "base_uri": "https://localhost:8080/",
          "height": 80
        }
      },
      "source": [
        "# Atualizando a variável 'bonifacio_quinze' que agora deve conter apenas um apartamentos com área 15m². Aquele com problemas.\n",
        "bonifacio_quinze = data2[data2['area'] == 15].iloc[1:, :]\n",
        "bonifacio_quinze"
      ],
      "execution_count": 44,
      "outputs": [
        {
          "output_type": "execute_result",
          "data": {
            "text/html": [
              "<div>\n",
              "<style scoped>\n",
              "    .dataframe tbody tr th:only-of-type {\n",
              "        vertical-align: middle;\n",
              "    }\n",
              "\n",
              "    .dataframe tbody tr th {\n",
              "        vertical-align: top;\n",
              "    }\n",
              "\n",
              "    .dataframe thead th {\n",
              "        text-align: right;\n",
              "    }\n",
              "</style>\n",
              "<table border=\"1\" class=\"dataframe\">\n",
              "  <thead>\n",
              "    <tr style=\"text-align: right;\">\n",
              "      <th></th>\n",
              "      <th>valor</th>\n",
              "      <th>area</th>\n",
              "      <th>quartos</th>\n",
              "      <th>suites</th>\n",
              "      <th>vagas</th>\n",
              "      <th>bairro_id</th>\n",
              "      <th>bairro</th>\n",
              "      <th>cidade</th>\n",
              "      <th>tipo</th>\n",
              "      <th>subtipo</th>\n",
              "      <th>id</th>\n",
              "    </tr>\n",
              "  </thead>\n",
              "  <tbody>\n",
              "    <tr>\n",
              "      <th>16479</th>\n",
              "      <td>5000</td>\n",
              "      <td>15.0</td>\n",
              "      <td>4</td>\n",
              "      <td>2</td>\n",
              "      <td>0</td>\n",
              "      <td>167</td>\n",
              "      <td>CJ RESID JOSE BONIFACIO</td>\n",
              "      <td>Sao Paulo</td>\n",
              "      <td>1</td>\n",
              "      <td>1</td>\n",
              "      <td>7903745</td>\n",
              "    </tr>\n",
              "  </tbody>\n",
              "</table>\n",
              "</div>"
            ],
            "text/plain": [
              "       valor  area  quartos  suites  ...     cidade  tipo subtipo       id\n",
              "16479   5000  15.0        4       2  ...  Sao Paulo     1       1  7903745\n",
              "\n",
              "[1 rows x 11 columns]"
            ]
          },
          "metadata": {
            "tags": []
          },
          "execution_count": 44
        }
      ]
    },
    {
      "cell_type": "markdown",
      "metadata": {
        "id": "0nOWrkvxdPCg",
        "colab_type": "text"
      },
      "source": [
        "#### Esse apartamento se apresenta todo estranho. O valor de seu aluguel é muito acima do demais que se localizam no mesmo conjunto residencial"
      ]
    },
    {
      "cell_type": "code",
      "metadata": {
        "id": "REWEufkodPCh",
        "colab_type": "code",
        "outputId": "954e2fb9-8cf0-4fc2-d3b6-d0135458a5a7",
        "colab": {
          "base_uri": "https://localhost:8080/",
          "height": 297
        }
      },
      "source": [
        "# Armazenando o index desse apartamento todo estranho\n",
        "index_ap_estranho = bonifacio_quinze.index.values[0]\n",
        "\n",
        "# Mostrando as estatísticas descritivas de todos os apartamentos do Cj. Residencial José Bonifácio (sem o apartamento estranho)\n",
        "data2.query('bairro == \"CJ RESID JOSE BONIFACIO\"').drop(index_ap_estranho).describe()"
      ],
      "execution_count": 45,
      "outputs": [
        {
          "output_type": "execute_result",
          "data": {
            "text/html": [
              "<div>\n",
              "<style scoped>\n",
              "    .dataframe tbody tr th:only-of-type {\n",
              "        vertical-align: middle;\n",
              "    }\n",
              "\n",
              "    .dataframe tbody tr th {\n",
              "        vertical-align: top;\n",
              "    }\n",
              "\n",
              "    .dataframe thead th {\n",
              "        text-align: right;\n",
              "    }\n",
              "</style>\n",
              "<table border=\"1\" class=\"dataframe\">\n",
              "  <thead>\n",
              "    <tr style=\"text-align: right;\">\n",
              "      <th></th>\n",
              "      <th>valor</th>\n",
              "      <th>area</th>\n",
              "      <th>quartos</th>\n",
              "      <th>suites</th>\n",
              "      <th>vagas</th>\n",
              "      <th>bairro_id</th>\n",
              "      <th>tipo</th>\n",
              "      <th>subtipo</th>\n",
              "      <th>id</th>\n",
              "    </tr>\n",
              "  </thead>\n",
              "  <tbody>\n",
              "    <tr>\n",
              "      <th>count</th>\n",
              "      <td>8.000000</td>\n",
              "      <td>8.000000</td>\n",
              "      <td>8.00000</td>\n",
              "      <td>8.00000</td>\n",
              "      <td>8.00000</td>\n",
              "      <td>8.0</td>\n",
              "      <td>8.0</td>\n",
              "      <td>8.000000</td>\n",
              "      <td>8.000000e+00</td>\n",
              "    </tr>\n",
              "    <tr>\n",
              "      <th>mean</th>\n",
              "      <td>825.000000</td>\n",
              "      <td>46.625000</td>\n",
              "      <td>2.12500</td>\n",
              "      <td>0.25000</td>\n",
              "      <td>0.75000</td>\n",
              "      <td>167.0</td>\n",
              "      <td>1.0</td>\n",
              "      <td>1.125000</td>\n",
              "      <td>9.267924e+06</td>\n",
              "    </tr>\n",
              "    <tr>\n",
              "      <th>std</th>\n",
              "      <td>151.185789</td>\n",
              "      <td>13.298093</td>\n",
              "      <td>0.64087</td>\n",
              "      <td>0.46291</td>\n",
              "      <td>0.46291</td>\n",
              "      <td>0.0</td>\n",
              "      <td>0.0</td>\n",
              "      <td>0.353553</td>\n",
              "      <td>5.842284e+05</td>\n",
              "    </tr>\n",
              "    <tr>\n",
              "      <th>min</th>\n",
              "      <td>500.000000</td>\n",
              "      <td>15.000000</td>\n",
              "      <td>1.00000</td>\n",
              "      <td>0.00000</td>\n",
              "      <td>0.00000</td>\n",
              "      <td>167.0</td>\n",
              "      <td>1.0</td>\n",
              "      <td>1.000000</td>\n",
              "      <td>7.862439e+06</td>\n",
              "    </tr>\n",
              "    <tr>\n",
              "      <th>25%</th>\n",
              "      <td>787.500000</td>\n",
              "      <td>47.500000</td>\n",
              "      <td>2.00000</td>\n",
              "      <td>0.00000</td>\n",
              "      <td>0.75000</td>\n",
              "      <td>167.0</td>\n",
              "      <td>1.0</td>\n",
              "      <td>1.000000</td>\n",
              "      <td>9.289815e+06</td>\n",
              "    </tr>\n",
              "    <tr>\n",
              "      <th>50%</th>\n",
              "      <td>875.000000</td>\n",
              "      <td>50.000000</td>\n",
              "      <td>2.00000</td>\n",
              "      <td>0.00000</td>\n",
              "      <td>1.00000</td>\n",
              "      <td>167.0</td>\n",
              "      <td>1.0</td>\n",
              "      <td>1.000000</td>\n",
              "      <td>9.505372e+06</td>\n",
              "    </tr>\n",
              "    <tr>\n",
              "      <th>75%</th>\n",
              "      <td>900.000000</td>\n",
              "      <td>53.000000</td>\n",
              "      <td>2.25000</td>\n",
              "      <td>0.25000</td>\n",
              "      <td>1.00000</td>\n",
              "      <td>167.0</td>\n",
              "      <td>1.0</td>\n",
              "      <td>1.000000</td>\n",
              "      <td>9.549706e+06</td>\n",
              "    </tr>\n",
              "    <tr>\n",
              "      <th>max</th>\n",
              "      <td>1000.000000</td>\n",
              "      <td>56.000000</td>\n",
              "      <td>3.00000</td>\n",
              "      <td>1.00000</td>\n",
              "      <td>1.00000</td>\n",
              "      <td>167.0</td>\n",
              "      <td>1.0</td>\n",
              "      <td>2.000000</td>\n",
              "      <td>9.634765e+06</td>\n",
              "    </tr>\n",
              "  </tbody>\n",
              "</table>\n",
              "</div>"
            ],
            "text/plain": [
              "             valor       area  quartos  ...  tipo   subtipo            id\n",
              "count     8.000000   8.000000  8.00000  ...   8.0  8.000000  8.000000e+00\n",
              "mean    825.000000  46.625000  2.12500  ...   1.0  1.125000  9.267924e+06\n",
              "std     151.185789  13.298093  0.64087  ...   0.0  0.353553  5.842284e+05\n",
              "min     500.000000  15.000000  1.00000  ...   1.0  1.000000  7.862439e+06\n",
              "25%     787.500000  47.500000  2.00000  ...   1.0  1.000000  9.289815e+06\n",
              "50%     875.000000  50.000000  2.00000  ...   1.0  1.000000  9.505372e+06\n",
              "75%     900.000000  53.000000  2.25000  ...   1.0  1.000000  9.549706e+06\n",
              "max    1000.000000  56.000000  3.00000  ...   1.0  2.000000  9.634765e+06\n",
              "\n",
              "[8 rows x 9 columns]"
            ]
          },
          "metadata": {
            "tags": []
          },
          "execution_count": 45
        }
      ]
    },
    {
      "cell_type": "markdown",
      "metadata": {
        "id": "TAqsS_F1dPCl",
        "colab_type": "text"
      },
      "source": [
        "#### Os valores das variáveis 'valor', 'quartos' e 'suites' do apartamento estranho estão todos acima, (não só da média e da mediana, mas também do valor máximo) dos demais que se localizam no mesmo conjunto residencial. E era de se esperar que não houvessem diferenças muito grandes entre esses valores.\n",
        "#### E por isso, consideramos que esse apartamento deve ser excluído por se tratar de um apartamento que foge completamente do padrão dos demais da vizinhança."
      ]
    },
    {
      "cell_type": "code",
      "metadata": {
        "id": "boT70PEjdPCl",
        "colab_type": "code",
        "outputId": "5ce1d965-bc28-4de0-e217-09b6197577b6",
        "colab": {
          "base_uri": "https://localhost:8080/",
          "height": 419
        }
      },
      "source": [
        "# Retirando o apartamento estranho de nosso dataset e salvando um novo checkpoint\n",
        "data3 = data2.drop(index_ap_estranho).reset_index().drop('index', axis=1)\n",
        "\n",
        "# Mostrando o dataset preparado\n",
        "data3"
      ],
      "execution_count": 46,
      "outputs": [
        {
          "output_type": "execute_result",
          "data": {
            "text/html": [
              "<div>\n",
              "<style scoped>\n",
              "    .dataframe tbody tr th:only-of-type {\n",
              "        vertical-align: middle;\n",
              "    }\n",
              "\n",
              "    .dataframe tbody tr th {\n",
              "        vertical-align: top;\n",
              "    }\n",
              "\n",
              "    .dataframe thead th {\n",
              "        text-align: right;\n",
              "    }\n",
              "</style>\n",
              "<table border=\"1\" class=\"dataframe\">\n",
              "  <thead>\n",
              "    <tr style=\"text-align: right;\">\n",
              "      <th></th>\n",
              "      <th>valor</th>\n",
              "      <th>area</th>\n",
              "      <th>quartos</th>\n",
              "      <th>suites</th>\n",
              "      <th>vagas</th>\n",
              "      <th>bairro_id</th>\n",
              "      <th>bairro</th>\n",
              "      <th>cidade</th>\n",
              "      <th>tipo</th>\n",
              "      <th>subtipo</th>\n",
              "      <th>id</th>\n",
              "    </tr>\n",
              "  </thead>\n",
              "  <tbody>\n",
              "    <tr>\n",
              "      <th>0</th>\n",
              "      <td>1600</td>\n",
              "      <td>57.0</td>\n",
              "      <td>2</td>\n",
              "      <td>0</td>\n",
              "      <td>1</td>\n",
              "      <td>1</td>\n",
              "      <td>VL DA SAUDE</td>\n",
              "      <td>Sao Paulo</td>\n",
              "      <td>1</td>\n",
              "      <td>3</td>\n",
              "      <td>9165861</td>\n",
              "    </tr>\n",
              "    <tr>\n",
              "      <th>1</th>\n",
              "      <td>5600</td>\n",
              "      <td>143.0</td>\n",
              "      <td>4</td>\n",
              "      <td>1</td>\n",
              "      <td>2</td>\n",
              "      <td>2</td>\n",
              "      <td>ITAIM BIBI</td>\n",
              "      <td>Sao Paulo</td>\n",
              "      <td>1</td>\n",
              "      <td>3</td>\n",
              "      <td>8657016</td>\n",
              "    </tr>\n",
              "    <tr>\n",
              "      <th>2</th>\n",
              "      <td>3000</td>\n",
              "      <td>140.0</td>\n",
              "      <td>3</td>\n",
              "      <td>1</td>\n",
              "      <td>1</td>\n",
              "      <td>3</td>\n",
              "      <td>BROOKLIN</td>\n",
              "      <td>Sao Paulo</td>\n",
              "      <td>1</td>\n",
              "      <td>2</td>\n",
              "      <td>9245580</td>\n",
              "    </tr>\n",
              "    <tr>\n",
              "      <th>3</th>\n",
              "      <td>4000</td>\n",
              "      <td>70.0</td>\n",
              "      <td>2</td>\n",
              "      <td>1</td>\n",
              "      <td>1</td>\n",
              "      <td>4</td>\n",
              "      <td>CAMPO BELO</td>\n",
              "      <td>Sao Paulo</td>\n",
              "      <td>1</td>\n",
              "      <td>2</td>\n",
              "      <td>8788916</td>\n",
              "    </tr>\n",
              "    <tr>\n",
              "      <th>4</th>\n",
              "      <td>2500</td>\n",
              "      <td>80.0</td>\n",
              "      <td>2</td>\n",
              "      <td>1</td>\n",
              "      <td>2</td>\n",
              "      <td>5</td>\n",
              "      <td>PERDIZES</td>\n",
              "      <td>Sao Paulo</td>\n",
              "      <td>1</td>\n",
              "      <td>1</td>\n",
              "      <td>9257792</td>\n",
              "    </tr>\n",
              "    <tr>\n",
              "      <th>...</th>\n",
              "      <td>...</td>\n",
              "      <td>...</td>\n",
              "      <td>...</td>\n",
              "      <td>...</td>\n",
              "      <td>...</td>\n",
              "      <td>...</td>\n",
              "      <td>...</td>\n",
              "      <td>...</td>\n",
              "      <td>...</td>\n",
              "      <td>...</td>\n",
              "      <td>...</td>\n",
              "    </tr>\n",
              "    <tr>\n",
              "      <th>28873</th>\n",
              "      <td>1800</td>\n",
              "      <td>70.0</td>\n",
              "      <td>2</td>\n",
              "      <td>1</td>\n",
              "      <td>1</td>\n",
              "      <td>327</td>\n",
              "      <td>VL POLOPOLI</td>\n",
              "      <td>Sao Paulo</td>\n",
              "      <td>1</td>\n",
              "      <td>2</td>\n",
              "      <td>9645207</td>\n",
              "    </tr>\n",
              "    <tr>\n",
              "      <th>28874</th>\n",
              "      <td>1200</td>\n",
              "      <td>60.0</td>\n",
              "      <td>2</td>\n",
              "      <td>0</td>\n",
              "      <td>1</td>\n",
              "      <td>130</td>\n",
              "      <td>VL BUTANTÃ</td>\n",
              "      <td>Sao Paulo</td>\n",
              "      <td>1</td>\n",
              "      <td>4</td>\n",
              "      <td>9645215</td>\n",
              "    </tr>\n",
              "    <tr>\n",
              "      <th>28875</th>\n",
              "      <td>2600</td>\n",
              "      <td>90.0</td>\n",
              "      <td>3</td>\n",
              "      <td>1</td>\n",
              "      <td>2</td>\n",
              "      <td>99</td>\n",
              "      <td>TUCURUVI</td>\n",
              "      <td>Sao Paulo</td>\n",
              "      <td>1</td>\n",
              "      <td>2</td>\n",
              "      <td>7727709</td>\n",
              "    </tr>\n",
              "    <tr>\n",
              "      <th>28876</th>\n",
              "      <td>2200</td>\n",
              "      <td>82.0</td>\n",
              "      <td>3</td>\n",
              "      <td>1</td>\n",
              "      <td>1</td>\n",
              "      <td>95</td>\n",
              "      <td>VL SÔNIA</td>\n",
              "      <td>Sao Paulo</td>\n",
              "      <td>1</td>\n",
              "      <td>2</td>\n",
              "      <td>9645107</td>\n",
              "    </tr>\n",
              "    <tr>\n",
              "      <th>28877</th>\n",
              "      <td>1500</td>\n",
              "      <td>59.0</td>\n",
              "      <td>3</td>\n",
              "      <td>1</td>\n",
              "      <td>1</td>\n",
              "      <td>130</td>\n",
              "      <td>VL BUTANTÃ</td>\n",
              "      <td>Sao Paulo</td>\n",
              "      <td>1</td>\n",
              "      <td>4</td>\n",
              "      <td>9645108</td>\n",
              "    </tr>\n",
              "  </tbody>\n",
              "</table>\n",
              "<p>28878 rows × 11 columns</p>\n",
              "</div>"
            ],
            "text/plain": [
              "       valor   area  quartos  suites  ...     cidade  tipo subtipo       id\n",
              "0       1600   57.0        2       0  ...  Sao Paulo     1       3  9165861\n",
              "1       5600  143.0        4       1  ...  Sao Paulo     1       3  8657016\n",
              "2       3000  140.0        3       1  ...  Sao Paulo     1       2  9245580\n",
              "3       4000   70.0        2       1  ...  Sao Paulo     1       2  8788916\n",
              "4       2500   80.0        2       1  ...  Sao Paulo     1       1  9257792\n",
              "...      ...    ...      ...     ...  ...        ...   ...     ...      ...\n",
              "28873   1800   70.0        2       1  ...  Sao Paulo     1       2  9645207\n",
              "28874   1200   60.0        2       0  ...  Sao Paulo     1       4  9645215\n",
              "28875   2600   90.0        3       1  ...  Sao Paulo     1       2  7727709\n",
              "28876   2200   82.0        3       1  ...  Sao Paulo     1       2  9645107\n",
              "28877   1500   59.0        3       1  ...  Sao Paulo     1       4  9645108\n",
              "\n",
              "[28878 rows x 11 columns]"
            ]
          },
          "metadata": {
            "tags": []
          },
          "execution_count": 46
        }
      ]
    },
    {
      "cell_type": "markdown",
      "metadata": {
        "id": "BUBR3zwndPCr",
        "colab_type": "text"
      },
      "source": [
        "#### E com o dataset devidamente preparado, vamos aos modelos de machine learning"
      ]
    },
    {
      "cell_type": "markdown",
      "metadata": {
        "id": "cGB15XmvdPCr",
        "colab_type": "text"
      },
      "source": [
        "---\n",
        "# 3.0 Modelos de Machine Learning"
      ]
    },
    {
      "cell_type": "code",
      "metadata": {
        "id": "36kRf1DtdPCr",
        "colab_type": "code",
        "colab": {}
      },
      "source": [
        "# Importando mais algumas bibliotecas necessárias para criar e avaliar nossos modelos\n",
        "from sklearn.feature_selection import SelectKBest\n",
        "from sklearn.feature_selection import SelectPercentile\n",
        "from sklearn.metrics import mean_squared_error as mse"
      ],
      "execution_count": 0,
      "outputs": []
    },
    {
      "cell_type": "code",
      "metadata": {
        "id": "53QGEzZhdPCt",
        "colab_type": "code",
        "colab": {}
      },
      "source": [
        "# Selecionando as variáveis explicativas e a variável alvo\n",
        "X = data3.drop(['valor', 'bairro', 'cidade', 'id', 'tipo', 'subtipo'], axis=1)\n",
        "y = data3['valor']"
      ],
      "execution_count": 0,
      "outputs": []
    },
    {
      "cell_type": "markdown",
      "metadata": {
        "id": "MjrOZkYYdPCv",
        "colab_type": "text"
      },
      "source": [
        "## 3.1 Definindo uma baseline\n",
        "- Antes de fazermos os modelos de machine learning, vamos é preciso definir uma baseline.\n",
        "- Ela serve para termos um marco no projeto, permitindo assim um fácil entendimento do que será feito nas próximos passos.\n",
        "- Essa baseline é uma espécie de referência e serve também como meta a ser batida pelos nossos modelos de machine learning.\n",
        "\n",
        "#### Nossa baseline será definida pela média dos valores de aluguel categorizados por como 'Pequeno', 'Médio', 'Grande' e 'Muito Grande' de acordo com a sua área."
      ]
    },
    {
      "cell_type": "code",
      "metadata": {
        "id": "UUcvqdsHdPCw",
        "colab_type": "code",
        "colab": {}
      },
      "source": [
        "# Definindo a regra para categorizar os dados\n",
        "categorias = []\n",
        "\n",
        "# Alimentando a lista categorias\n",
        "for i in data3['area'].iteritems():\n",
        "    valor = (i[1])\n",
        "    if valor <= 60:\n",
        "        categorias.append('Pequeno')\n",
        "        \n",
        "    elif valor > 60 and valor <= 90:\n",
        "        categorias.append('Medio')\n",
        "        \n",
        "    elif valor > 90 and valor <= 150:\n",
        "        categorias.append('Grande')\n",
        "        \n",
        "    else:\n",
        "        categorias.append('Muito Grande')"
      ],
      "execution_count": 0,
      "outputs": []
    },
    {
      "cell_type": "code",
      "metadata": {
        "id": "2OHbZUI1dPC0",
        "colab_type": "code",
        "outputId": "6fd7fc11-0c2b-485d-8467-79985100a124",
        "colab": {
          "base_uri": "https://localhost:8080/",
          "height": 102
        }
      },
      "source": [
        "# Criando a coluna categorias\n",
        "data3['categorias'] = categorias\n",
        "\n",
        "# Imprimindo a contagem de categorias\n",
        "data3.categorias.value_counts()"
      ],
      "execution_count": 50,
      "outputs": [
        {
          "output_type": "execute_result",
          "data": {
            "text/plain": [
              "Medio           9090\n",
              "Pequeno         7921\n",
              "Grande          7447\n",
              "Muito Grande    4420\n",
              "Name: categorias, dtype: int64"
            ]
          },
          "metadata": {
            "tags": []
          },
          "execution_count": 50
        }
      ]
    },
    {
      "cell_type": "code",
      "metadata": {
        "id": "u6n9ygPKdPC4",
        "colab_type": "code",
        "outputId": "9a1e2f9d-c30d-4557-a818-c0ef618c643a",
        "colab": {
          "base_uri": "https://localhost:8080/",
          "height": 204
        }
      },
      "source": [
        "# Visualizando as cinco primeiras linhas do dataset atualizado\n",
        "data3.head()"
      ],
      "execution_count": 51,
      "outputs": [
        {
          "output_type": "execute_result",
          "data": {
            "text/html": [
              "<div>\n",
              "<style scoped>\n",
              "    .dataframe tbody tr th:only-of-type {\n",
              "        vertical-align: middle;\n",
              "    }\n",
              "\n",
              "    .dataframe tbody tr th {\n",
              "        vertical-align: top;\n",
              "    }\n",
              "\n",
              "    .dataframe thead th {\n",
              "        text-align: right;\n",
              "    }\n",
              "</style>\n",
              "<table border=\"1\" class=\"dataframe\">\n",
              "  <thead>\n",
              "    <tr style=\"text-align: right;\">\n",
              "      <th></th>\n",
              "      <th>valor</th>\n",
              "      <th>area</th>\n",
              "      <th>quartos</th>\n",
              "      <th>suites</th>\n",
              "      <th>vagas</th>\n",
              "      <th>bairro_id</th>\n",
              "      <th>bairro</th>\n",
              "      <th>cidade</th>\n",
              "      <th>tipo</th>\n",
              "      <th>subtipo</th>\n",
              "      <th>id</th>\n",
              "      <th>categorias</th>\n",
              "    </tr>\n",
              "  </thead>\n",
              "  <tbody>\n",
              "    <tr>\n",
              "      <th>0</th>\n",
              "      <td>1600</td>\n",
              "      <td>57.0</td>\n",
              "      <td>2</td>\n",
              "      <td>0</td>\n",
              "      <td>1</td>\n",
              "      <td>1</td>\n",
              "      <td>VL DA SAUDE</td>\n",
              "      <td>Sao Paulo</td>\n",
              "      <td>1</td>\n",
              "      <td>3</td>\n",
              "      <td>9165861</td>\n",
              "      <td>Pequeno</td>\n",
              "    </tr>\n",
              "    <tr>\n",
              "      <th>1</th>\n",
              "      <td>5600</td>\n",
              "      <td>143.0</td>\n",
              "      <td>4</td>\n",
              "      <td>1</td>\n",
              "      <td>2</td>\n",
              "      <td>2</td>\n",
              "      <td>ITAIM BIBI</td>\n",
              "      <td>Sao Paulo</td>\n",
              "      <td>1</td>\n",
              "      <td>3</td>\n",
              "      <td>8657016</td>\n",
              "      <td>Grande</td>\n",
              "    </tr>\n",
              "    <tr>\n",
              "      <th>2</th>\n",
              "      <td>3000</td>\n",
              "      <td>140.0</td>\n",
              "      <td>3</td>\n",
              "      <td>1</td>\n",
              "      <td>1</td>\n",
              "      <td>3</td>\n",
              "      <td>BROOKLIN</td>\n",
              "      <td>Sao Paulo</td>\n",
              "      <td>1</td>\n",
              "      <td>2</td>\n",
              "      <td>9245580</td>\n",
              "      <td>Grande</td>\n",
              "    </tr>\n",
              "    <tr>\n",
              "      <th>3</th>\n",
              "      <td>4000</td>\n",
              "      <td>70.0</td>\n",
              "      <td>2</td>\n",
              "      <td>1</td>\n",
              "      <td>1</td>\n",
              "      <td>4</td>\n",
              "      <td>CAMPO BELO</td>\n",
              "      <td>Sao Paulo</td>\n",
              "      <td>1</td>\n",
              "      <td>2</td>\n",
              "      <td>8788916</td>\n",
              "      <td>Medio</td>\n",
              "    </tr>\n",
              "    <tr>\n",
              "      <th>4</th>\n",
              "      <td>2500</td>\n",
              "      <td>80.0</td>\n",
              "      <td>2</td>\n",
              "      <td>1</td>\n",
              "      <td>2</td>\n",
              "      <td>5</td>\n",
              "      <td>PERDIZES</td>\n",
              "      <td>Sao Paulo</td>\n",
              "      <td>1</td>\n",
              "      <td>1</td>\n",
              "      <td>9257792</td>\n",
              "      <td>Medio</td>\n",
              "    </tr>\n",
              "  </tbody>\n",
              "</table>\n",
              "</div>"
            ],
            "text/plain": [
              "   valor   area  quartos  suites  ...  tipo  subtipo       id categorias\n",
              "0   1600   57.0        2       0  ...     1        3  9165861    Pequeno\n",
              "1   5600  143.0        4       1  ...     1        3  8657016     Grande\n",
              "2   3000  140.0        3       1  ...     1        2  9245580     Grande\n",
              "3   4000   70.0        2       1  ...     1        2  8788916      Medio\n",
              "4   2500   80.0        2       1  ...     1        1  9257792      Medio\n",
              "\n",
              "[5 rows x 12 columns]"
            ]
          },
          "metadata": {
            "tags": []
          },
          "execution_count": 51
        }
      ]
    },
    {
      "cell_type": "code",
      "metadata": {
        "id": "91xe-JRtdPC9",
        "colab_type": "code",
        "outputId": "0f3a3077-f2a8-4b37-9a03-79d033650aa3",
        "colab": {
          "base_uri": "https://localhost:8080/",
          "height": 119
        }
      },
      "source": [
        "# Agrupando as categorias e calculando a média dos valores de aluguel de cada uma\n",
        "medias_categorias = data3.groupby(by='categorias')['valor'].mean()\n",
        "\n",
        "# Visualizando a variável medias_categorias\n",
        "medias_categorias"
      ],
      "execution_count": 52,
      "outputs": [
        {
          "output_type": "execute_result",
          "data": {
            "text/plain": [
              "categorias\n",
              "Grande          4073.206123\n",
              "Medio           2707.809681\n",
              "Muito Grande    6391.801810\n",
              "Pequeno         2190.966166\n",
              "Name: valor, dtype: float64"
            ]
          },
          "metadata": {
            "tags": []
          },
          "execution_count": 52
        }
      ]
    },
    {
      "cell_type": "code",
      "metadata": {
        "id": "tPSpS9E6dPDB",
        "colab_type": "code",
        "outputId": "c6122e0f-b79e-4bc2-9d50-7cbd07e94334",
        "colab": {
          "base_uri": "https://localhost:8080/",
          "height": 85
        }
      },
      "source": [
        "# Criando um dicionario com chaves pequeno, medio e grande e suas respectivas médias\n",
        "dic_baseline = {'Pequeno': medias_categorias[3], \n",
        "                'Medio': medias_categorias[1], \n",
        "                'Grande': medias_categorias[0], \n",
        "                'Muito Grande': medias_categorias[2]}\n",
        "\n",
        "# Imprimindo dicionario\n",
        "dic_baseline"
      ],
      "execution_count": 53,
      "outputs": [
        {
          "output_type": "execute_result",
          "data": {
            "text/plain": [
              "{'Grande': 4073.2061232711158,\n",
              " 'Medio': 2707.809680968097,\n",
              " 'Muito Grande': 6391.801809954751,\n",
              " 'Pequeno': 2190.9661658881455}"
            ]
          },
          "metadata": {
            "tags": []
          },
          "execution_count": 53
        }
      ]
    },
    {
      "cell_type": "code",
      "metadata": {
        "id": "zJdZuzindPDD",
        "colab_type": "code",
        "colab": {}
      },
      "source": [
        "# Criando a função retorna_baseline()\n",
        "def retorna_baseline(area):\n",
        "    if area <= 60:\n",
        "        return dic_baseline.get('Pequeno')\n",
        "    \n",
        "    elif area > 60 and area <= 90:\n",
        "        return dic_baseline.get('Medio')\n",
        "    \n",
        "    elif area > 90 and area <= 150:\n",
        "        return dic_baseline.get('Grande')\n",
        "    \n",
        "    else:\n",
        "        return dic_baseline.get('Muito Grande')"
      ],
      "execution_count": 0,
      "outputs": []
    },
    {
      "cell_type": "code",
      "metadata": {
        "id": "q3tubwtadPDE",
        "colab_type": "code",
        "colab": {}
      },
      "source": [
        "# Criando laço para visualizar as informações recém criadas\n",
        "for i in data['area'].iteritems():\n",
        "    index = i[0]\n",
        "    area = i[1]\n",
        "    valor_medio = retorna_baseline(area).round(2)\n",
        "    \n",
        "    # Imprimindo cada um apenas para conferência\n",
        "    #print(f'A área do apartamento {index} é {area}m² e o seu respectivo valor médio é de R${valor_medio}')"
      ],
      "execution_count": 0,
      "outputs": []
    },
    {
      "cell_type": "code",
      "metadata": {
        "id": "YUVh9TvWdPDH",
        "colab_type": "code",
        "colab": {}
      },
      "source": [
        "# Preparando a variável explicativa do nosso baseline\n",
        "X = data3.drop(['valor', 'bairro', 'cidade', 'id', 'tipo', 'subtipo', 'categorias'], axis=1)\n",
        "\n",
        "# Preparando a nossa variável alvo\n",
        "y = data3['valor']"
      ],
      "execution_count": 0,
      "outputs": []
    },
    {
      "cell_type": "markdown",
      "metadata": {
        "colab_type": "text",
        "id": "B0I1geDbH2cV"
      },
      "source": [
        "#### Separando os conjuntos de treino e teste"
      ]
    },
    {
      "cell_type": "code",
      "metadata": {
        "id": "YOwjRYyKdPDJ",
        "colab_type": "code",
        "outputId": "14b63f56-7474-4cdc-f0ca-3900c35b8db6",
        "colab": {
          "base_uri": "https://localhost:8080/",
          "height": 85
        }
      },
      "source": [
        "# Importando o método train_test_split da biblioteca sklearn.model_selection\n",
        "from sklearn.model_selection import train_test_split\n",
        "\n",
        "# Dividindo os dados entre o conjunto de treino (70%) e de teste (30%).\n",
        "X_train, X_test, y_train, y_test = train_test_split(X, y, test_size = 0.3, random_state=42)\n",
        "\n",
        "# Imprimindo a quantidade de linhas de cada conjunto\n",
        "print ('Número de linhas de X_train: {}'.format(X_train.shape))\n",
        "print ('Número de linhas de X_test: {}'.format(X_test.shape))\n",
        "print ('Número de linhas de y_train: {}'.format(y_train.shape))\n",
        "print ('Número de linhas de y_test: {}'.format(y_test.shape))"
      ],
      "execution_count": 57,
      "outputs": [
        {
          "output_type": "stream",
          "text": [
            "Número de linhas de X_train: (20214, 5)\n",
            "Número de linhas de X_test: (8664, 5)\n",
            "Número de linhas de y_train: (20214,)\n",
            "Número de linhas de y_test: (8664,)\n"
          ],
          "name": "stdout"
        }
      ]
    },
    {
      "cell_type": "code",
      "metadata": {
        "id": "AKe5cxyqdPDK",
        "colab_type": "code",
        "colab": {}
      },
      "source": [
        "# Criando uma lista vazia para armazenar \n",
        "predicoes = []\n",
        "\n",
        "# Para cada elemento do X_teste['area'] alimentar a lista 'predicoes'\n",
        "for i in X_test['area'].iteritems():\n",
        "    area = i[1]\n",
        "    predicoes.append(retorna_baseline(area))"
      ],
      "execution_count": 0,
      "outputs": []
    },
    {
      "cell_type": "code",
      "metadata": {
        "id": "qxzZ2V_LdPDL",
        "colab_type": "code",
        "outputId": "f2ce57ca-b339-47c2-aea1-a90831478aa1",
        "colab": {
          "base_uri": "https://localhost:8080/",
          "height": 187
        }
      },
      "source": [
        "# Visualizando os 10 primeiros resultados da lista predições\n",
        "predicoes[:10]"
      ],
      "execution_count": 59,
      "outputs": [
        {
          "output_type": "execute_result",
          "data": {
            "text/plain": [
              "[2707.809680968097,\n",
              " 2190.9661658881455,\n",
              " 6391.801809954751,\n",
              " 6391.801809954751,\n",
              " 2707.809680968097,\n",
              " 2707.809680968097,\n",
              " 2190.9661658881455,\n",
              " 2707.809680968097,\n",
              " 2190.9661658881455,\n",
              " 6391.801809954751]"
            ]
          },
          "metadata": {
            "tags": []
          },
          "execution_count": 59
        }
      ]
    },
    {
      "cell_type": "markdown",
      "metadata": {
        "colab_type": "text",
        "id": "CM3QVVQ-Ug5L"
      },
      "source": [
        "## 3.2 Atribuindo os resultados a um dataframe\n",
        "\n",
        "- Manteremos um log ao longo do projeto com o intuito de observar a evolução dado o baseline."
      ]
    },
    {
      "cell_type": "code",
      "metadata": {
        "id": "cn47GpYcdPDN",
        "colab_type": "code",
        "outputId": "81224baf-8e0e-47e9-8142-1a7aa4160ca2",
        "colab": {
          "base_uri": "https://localhost:8080/",
          "height": 359
        }
      },
      "source": [
        "# Criando um DataFrame vazio\n",
        "df_results = pd.DataFrame()\n",
        "\n",
        "# Adicionando a coluna valor_real\n",
        "df_results['valor_real'] = y_test.values\n",
        "\n",
        "# Criando a coluna 'valor_predito_baseline' com as \"predicoes\" do baseline\n",
        "df_results['valor_predito_baseline'] = predicoes\n",
        "\n",
        "# Imprimindo as 10 primeiras linhas do DataFrame df_results\n",
        "df_results.head(10)"
      ],
      "execution_count": 60,
      "outputs": [
        {
          "output_type": "execute_result",
          "data": {
            "text/html": [
              "<div>\n",
              "<style scoped>\n",
              "    .dataframe tbody tr th:only-of-type {\n",
              "        vertical-align: middle;\n",
              "    }\n",
              "\n",
              "    .dataframe tbody tr th {\n",
              "        vertical-align: top;\n",
              "    }\n",
              "\n",
              "    .dataframe thead th {\n",
              "        text-align: right;\n",
              "    }\n",
              "</style>\n",
              "<table border=\"1\" class=\"dataframe\">\n",
              "  <thead>\n",
              "    <tr style=\"text-align: right;\">\n",
              "      <th></th>\n",
              "      <th>valor_real</th>\n",
              "      <th>valor_predito_baseline</th>\n",
              "    </tr>\n",
              "  </thead>\n",
              "  <tbody>\n",
              "    <tr>\n",
              "      <th>0</th>\n",
              "      <td>3850</td>\n",
              "      <td>2707.809681</td>\n",
              "    </tr>\n",
              "    <tr>\n",
              "      <th>1</th>\n",
              "      <td>2700</td>\n",
              "      <td>2190.966166</td>\n",
              "    </tr>\n",
              "    <tr>\n",
              "      <th>2</th>\n",
              "      <td>10000</td>\n",
              "      <td>6391.801810</td>\n",
              "    </tr>\n",
              "    <tr>\n",
              "      <th>3</th>\n",
              "      <td>3500</td>\n",
              "      <td>6391.801810</td>\n",
              "    </tr>\n",
              "    <tr>\n",
              "      <th>4</th>\n",
              "      <td>1800</td>\n",
              "      <td>2707.809681</td>\n",
              "    </tr>\n",
              "    <tr>\n",
              "      <th>5</th>\n",
              "      <td>1800</td>\n",
              "      <td>2707.809681</td>\n",
              "    </tr>\n",
              "    <tr>\n",
              "      <th>6</th>\n",
              "      <td>1500</td>\n",
              "      <td>2190.966166</td>\n",
              "    </tr>\n",
              "    <tr>\n",
              "      <th>7</th>\n",
              "      <td>1280</td>\n",
              "      <td>2707.809681</td>\n",
              "    </tr>\n",
              "    <tr>\n",
              "      <th>8</th>\n",
              "      <td>7300</td>\n",
              "      <td>2190.966166</td>\n",
              "    </tr>\n",
              "    <tr>\n",
              "      <th>9</th>\n",
              "      <td>7000</td>\n",
              "      <td>6391.801810</td>\n",
              "    </tr>\n",
              "  </tbody>\n",
              "</table>\n",
              "</div>"
            ],
            "text/plain": [
              "   valor_real  valor_predito_baseline\n",
              "0        3850             2707.809681\n",
              "1        2700             2190.966166\n",
              "2       10000             6391.801810\n",
              "3        3500             6391.801810\n",
              "4        1800             2707.809681\n",
              "5        1800             2707.809681\n",
              "6        1500             2190.966166\n",
              "7        1280             2707.809681\n",
              "8        7300             2190.966166\n",
              "9        7000             6391.801810"
            ]
          },
          "metadata": {
            "tags": []
          },
          "execution_count": 60
        }
      ]
    },
    {
      "cell_type": "code",
      "metadata": {
        "id": "F894Rr-jdPDS",
        "colab_type": "code",
        "colab": {}
      },
      "source": [
        "# Importando a métrica rmse\n",
        "from sklearn.metrics import mean_squared_error"
      ],
      "execution_count": 0,
      "outputs": []
    },
    {
      "cell_type": "code",
      "metadata": {
        "id": "ivvYAfBvdPDU",
        "colab_type": "code",
        "colab": {}
      },
      "source": [
        "# Calculando a métrica Root Mean Square Error (rmse)\n",
        "rmse = (np.sqrt(mean_squared_error(y_test, predicoes)))\n",
        "\n",
        "# Criando duas listas vazias para armazenar o erro e o nome do modelo\n",
        "modelos = []\n",
        "erros = []\n",
        "\n",
        "# Adicionando o nome do modelo e seus respectivo erro\n",
        "modelos.append('Baseline')\n",
        "erros.append(rmse)"
      ],
      "execution_count": 0,
      "outputs": []
    },
    {
      "cell_type": "code",
      "metadata": {
        "scrolled": true,
        "id": "ZslVjoDHdPDV",
        "colab_type": "code",
        "outputId": "72019317-7253-4a9b-aa04-37347206c299",
        "colab": {
          "base_uri": "https://localhost:8080/",
          "height": 68
        }
      },
      "source": [
        "# Imprimindo a performance do modelo\n",
        "print ('Performance do modelo baseline:')\n",
        "print('\\nRMSE é: {} '.format(rmse))"
      ],
      "execution_count": 63,
      "outputs": [
        {
          "output_type": "stream",
          "text": [
            "Performance do modelo baseline:\n",
            "\n",
            "RMSE é: 1488.6510330259773 \n"
          ],
          "name": "stdout"
        }
      ]
    },
    {
      "cell_type": "markdown",
      "metadata": {
        "id": "Dk4SHeQXdPDY",
        "colab_type": "text"
      },
      "source": [
        "## 3.3 Linear Regression\n",
        "- Devido a correlação entre algumas features podemos usar uma regressão linear.\n",
        "- É um modelo simples, eficiente, de solução rápida e robusta."
      ]
    },
    {
      "cell_type": "code",
      "metadata": {
        "id": "zBbanRP1dPDZ",
        "colab_type": "code",
        "colab": {}
      },
      "source": [
        "# Carregando o pacote LinearRegression\n",
        "from sklearn.linear_model import LinearRegression\n",
        "\n",
        "# Criando o objeto do tipo LinearRegression\n",
        "lin_model = LinearRegression()\n",
        "\n",
        "# Treinando o algoritmo de regressão linear\n",
        "lin_model.fit(X_train, y_train)\n",
        "\n",
        "# Avaliando o modelo nos dados de teste\n",
        "y_pred = lin_model.predict(X_test)"
      ],
      "execution_count": 0,
      "outputs": []
    },
    {
      "cell_type": "markdown",
      "metadata": {
        "id": "sQr3zkBxdPDa",
        "colab_type": "text"
      },
      "source": [
        "#### Avaliando o modelo"
      ]
    },
    {
      "cell_type": "code",
      "metadata": {
        "id": "IH7gT8TYdPDb",
        "colab_type": "code",
        "outputId": "cd0d8999-f484-4626-ecd1-7da64b1965ed",
        "colab": {
          "base_uri": "https://localhost:8080/",
          "height": 68
        }
      },
      "source": [
        "# Calculando a métrica Root Mean Square Error (rmse)\n",
        "rmse = (np.sqrt(mean_squared_error(y_test, y_pred)))\n",
        "\n",
        "# # Adicionando o nome do modelo e seus respectivo erro\n",
        "modelos.append('Linear Regression')\n",
        "erros.append(rmse)\n",
        "\n",
        "# Imprimindo a performance do modelo\n",
        "print ('Performance do modelo avaliado com os dados de teste:')\n",
        "print('\\nRMSE é: {} '.format(rmse))"
      ],
      "execution_count": 65,
      "outputs": [
        {
          "output_type": "stream",
          "text": [
            "Performance do modelo avaliado com os dados de teste:\n",
            "\n",
            "RMSE é: 1375.22293147335 \n"
          ],
          "name": "stdout"
        }
      ]
    },
    {
      "cell_type": "code",
      "metadata": {
        "id": "DD_Y-hu4dPDc",
        "colab_type": "code",
        "outputId": "9b48e2c4-3082-43f0-eaa6-bb5b382c8469",
        "colab": {
          "base_uri": "https://localhost:8080/",
          "height": 204
        }
      },
      "source": [
        "# Atribui os valores preditos da Linear Regression no DataFrame df_results\n",
        "df_results['valor_predito_reg_linear'] = lin_model.predict(X_test)\n",
        "\n",
        "# Mostrando as 5 primeiras linhas dos DataFrame df_results\n",
        "df_results.head()"
      ],
      "execution_count": 66,
      "outputs": [
        {
          "output_type": "execute_result",
          "data": {
            "text/html": [
              "<div>\n",
              "<style scoped>\n",
              "    .dataframe tbody tr th:only-of-type {\n",
              "        vertical-align: middle;\n",
              "    }\n",
              "\n",
              "    .dataframe tbody tr th {\n",
              "        vertical-align: top;\n",
              "    }\n",
              "\n",
              "    .dataframe thead th {\n",
              "        text-align: right;\n",
              "    }\n",
              "</style>\n",
              "<table border=\"1\" class=\"dataframe\">\n",
              "  <thead>\n",
              "    <tr style=\"text-align: right;\">\n",
              "      <th></th>\n",
              "      <th>valor_real</th>\n",
              "      <th>valor_predito_baseline</th>\n",
              "      <th>valor_predito_reg_linear</th>\n",
              "    </tr>\n",
              "  </thead>\n",
              "  <tbody>\n",
              "    <tr>\n",
              "      <th>0</th>\n",
              "      <td>3850</td>\n",
              "      <td>2707.809681</td>\n",
              "      <td>2709.189440</td>\n",
              "    </tr>\n",
              "    <tr>\n",
              "      <th>1</th>\n",
              "      <td>2700</td>\n",
              "      <td>2190.966166</td>\n",
              "      <td>2956.586743</td>\n",
              "    </tr>\n",
              "    <tr>\n",
              "      <th>2</th>\n",
              "      <td>10000</td>\n",
              "      <td>6391.801810</td>\n",
              "      <td>6026.858128</td>\n",
              "    </tr>\n",
              "    <tr>\n",
              "      <th>3</th>\n",
              "      <td>3500</td>\n",
              "      <td>6391.801810</td>\n",
              "      <td>6533.356630</td>\n",
              "    </tr>\n",
              "    <tr>\n",
              "      <th>4</th>\n",
              "      <td>1800</td>\n",
              "      <td>2707.809681</td>\n",
              "      <td>2603.860166</td>\n",
              "    </tr>\n",
              "  </tbody>\n",
              "</table>\n",
              "</div>"
            ],
            "text/plain": [
              "   valor_real  valor_predito_baseline  valor_predito_reg_linear\n",
              "0        3850             2707.809681               2709.189440\n",
              "1        2700             2190.966166               2956.586743\n",
              "2       10000             6391.801810               6026.858128\n",
              "3        3500             6391.801810               6533.356630\n",
              "4        1800             2707.809681               2603.860166"
            ]
          },
          "metadata": {
            "tags": []
          },
          "execution_count": 66
        }
      ]
    },
    {
      "cell_type": "markdown",
      "metadata": {
        "id": "9aGxTUMfdPDf",
        "colab_type": "text"
      },
      "source": [
        "## 3.4 Decision Tree\n",
        "\n",
        "- Podemos usar também o modelo Decision Tree.\n",
        "- É um algoritmo de aprendizado supervisionado.\n",
        "- Simples.\n",
        "- Explicabilidade do Modelo."
      ]
    },
    {
      "cell_type": "code",
      "metadata": {
        "id": "7_gsqaqPdPDg",
        "colab_type": "code",
        "colab": {}
      },
      "source": [
        "# Importando o pacote DecisionTreeRegressor\n",
        "from sklearn.tree import DecisionTreeRegressor\n",
        "\n",
        "# Criando um objeto do tipo DecisionTreeRegressor\n",
        "regressor = DecisionTreeRegressor()\n",
        "\n",
        "# Treinando o algoritmo\n",
        "regressor.fit(X_train, y_train)\n",
        "\n",
        "# Fazendo as previsões\n",
        "y_pred = regressor.predict(X_test)"
      ],
      "execution_count": 0,
      "outputs": []
    },
    {
      "cell_type": "code",
      "metadata": {
        "id": "0oIRyzR5dPDi",
        "colab_type": "code",
        "outputId": "070e0381-9e19-4b62-80d5-987a72a05842",
        "colab": {
          "base_uri": "https://localhost:8080/",
          "height": 204
        }
      },
      "source": [
        "# Atribuindo os valores preditos da DecisionTreeRegressor no DataFrame df_results\n",
        "df_results['valor_predito_arvore'] = y_pred\n",
        "\n",
        "# Visualizando o DataFrame df_results\n",
        "df_results.head()"
      ],
      "execution_count": 68,
      "outputs": [
        {
          "output_type": "execute_result",
          "data": {
            "text/html": [
              "<div>\n",
              "<style scoped>\n",
              "    .dataframe tbody tr th:only-of-type {\n",
              "        vertical-align: middle;\n",
              "    }\n",
              "\n",
              "    .dataframe tbody tr th {\n",
              "        vertical-align: top;\n",
              "    }\n",
              "\n",
              "    .dataframe thead th {\n",
              "        text-align: right;\n",
              "    }\n",
              "</style>\n",
              "<table border=\"1\" class=\"dataframe\">\n",
              "  <thead>\n",
              "    <tr style=\"text-align: right;\">\n",
              "      <th></th>\n",
              "      <th>valor_real</th>\n",
              "      <th>valor_predito_baseline</th>\n",
              "      <th>valor_predito_reg_linear</th>\n",
              "      <th>valor_predito_arvore</th>\n",
              "    </tr>\n",
              "  </thead>\n",
              "  <tbody>\n",
              "    <tr>\n",
              "      <th>0</th>\n",
              "      <td>3850</td>\n",
              "      <td>2707.809681</td>\n",
              "      <td>2709.189440</td>\n",
              "      <td>2380.0</td>\n",
              "    </tr>\n",
              "    <tr>\n",
              "      <th>1</th>\n",
              "      <td>2700</td>\n",
              "      <td>2190.966166</td>\n",
              "      <td>2956.586743</td>\n",
              "      <td>2700.0</td>\n",
              "    </tr>\n",
              "    <tr>\n",
              "      <th>2</th>\n",
              "      <td>10000</td>\n",
              "      <td>6391.801810</td>\n",
              "      <td>6026.858128</td>\n",
              "      <td>10000.0</td>\n",
              "    </tr>\n",
              "    <tr>\n",
              "      <th>3</th>\n",
              "      <td>3500</td>\n",
              "      <td>6391.801810</td>\n",
              "      <td>6533.356630</td>\n",
              "      <td>5500.0</td>\n",
              "    </tr>\n",
              "    <tr>\n",
              "      <th>4</th>\n",
              "      <td>1800</td>\n",
              "      <td>2707.809681</td>\n",
              "      <td>2603.860166</td>\n",
              "      <td>950.0</td>\n",
              "    </tr>\n",
              "  </tbody>\n",
              "</table>\n",
              "</div>"
            ],
            "text/plain": [
              "   valor_real  ...  valor_predito_arvore\n",
              "0        3850  ...                2380.0\n",
              "1        2700  ...                2700.0\n",
              "2       10000  ...               10000.0\n",
              "3        3500  ...                5500.0\n",
              "4        1800  ...                 950.0\n",
              "\n",
              "[5 rows x 4 columns]"
            ]
          },
          "metadata": {
            "tags": []
          },
          "execution_count": 68
        }
      ]
    },
    {
      "cell_type": "markdown",
      "metadata": {
        "id": "RAhmR2c5dPDk",
        "colab_type": "text"
      },
      "source": [
        "#### Avaliando o modelo Decision Tree"
      ]
    },
    {
      "cell_type": "code",
      "metadata": {
        "id": "9Q92pZwRdPDl",
        "colab_type": "code",
        "outputId": "be599fff-567b-4809-dd8e-698a31283ca8",
        "colab": {
          "base_uri": "https://localhost:8080/",
          "height": 68
        }
      },
      "source": [
        "# Calculando a métrica Root Mean Square Error (rmse)\n",
        "rmse = (np.sqrt(mean_squared_error(y_test, y_pred)))\n",
        "\n",
        "# Imprimindo a performance do modelo\n",
        "print ('Performance do modelo avaliado com os dados de teste:')\n",
        "print('\\nRMSE é: {} '.format(rmse))\n",
        "\n",
        "# Adicionando o nome do modelo e seus respectivo erro\n",
        "modelos.append('Decision Tree Regressor')\n",
        "erros.append(rmse)"
      ],
      "execution_count": 69,
      "outputs": [
        {
          "output_type": "stream",
          "text": [
            "Performance do modelo avaliado com os dados de teste:\n",
            "\n",
            "RMSE é: 1309.5294780378094 \n"
          ],
          "name": "stdout"
        }
      ]
    },
    {
      "cell_type": "markdown",
      "metadata": {
        "id": "ACvYqUbUdPDn",
        "colab_type": "text"
      },
      "source": [
        "## 3.5 Random Forest\n",
        "\n",
        "- Método Ensemble.\n",
        "- Mais robusto."
      ]
    },
    {
      "cell_type": "code",
      "metadata": {
        "id": "Jo2pDzw6dPDo",
        "colab_type": "code",
        "colab": {}
      },
      "source": [
        "# Importando o método RandomForestRegressor\n",
        "from sklearn.ensemble import RandomForestRegressor\n",
        "\n",
        "# Criando o objeto rf_regressor\n",
        "rf_regressor = RandomForestRegressor(random_state=42)\n",
        "\n",
        "# Treinando o algoritmo de Random Forest\n",
        "rf_regressor.fit(X_train, y_train)\n",
        "\n",
        "# Avaliando o modelo nos dados de teste\n",
        "y_pred = rf_regressor.predict(X_test)\n",
        "\n",
        "# Adicionando os resultados no DataFrame df_results\n",
        "df_results['valor_predito_random_forest'] = rf_regressor.predict(X_test)"
      ],
      "execution_count": 0,
      "outputs": []
    },
    {
      "cell_type": "markdown",
      "metadata": {
        "id": "sjPfBbfIdPDq",
        "colab_type": "text"
      },
      "source": [
        "#### Avaliando o modelo Random Forest"
      ]
    },
    {
      "cell_type": "code",
      "metadata": {
        "id": "wuTLPTTVdPDq",
        "colab_type": "code",
        "outputId": "df2f61b8-c77e-4d90-b082-3ae0d7c63a81",
        "colab": {
          "base_uri": "https://localhost:8080/",
          "height": 68
        }
      },
      "source": [
        "# Calculando a métrica Root Mean Square Error (rmse)\n",
        "rmse = (np.sqrt(mean_squared_error(y_test, y_pred)))\n",
        "\n",
        "# Imprime a performance do modelo\n",
        "print ('Performance do modelo avaliado com os dados de teste:')\n",
        "print('\\nRMSE é: {:.0f} '.format(rmse))\n",
        "\n",
        "modelos.append('Random Forest Regressor')\n",
        "erros.append(rmse)"
      ],
      "execution_count": 71,
      "outputs": [
        {
          "output_type": "stream",
          "text": [
            "Performance do modelo avaliado com os dados de teste:\n",
            "\n",
            "RMSE é: 1082 \n"
          ],
          "name": "stdout"
        }
      ]
    },
    {
      "cell_type": "markdown",
      "metadata": {
        "id": "WZU3Z7n5dPDs",
        "colab_type": "text"
      },
      "source": [
        "## 3.6 Comparando os erros"
      ]
    },
    {
      "cell_type": "code",
      "metadata": {
        "id": "i3FSDF22dPDs",
        "colab_type": "code",
        "outputId": "1de22101-eacf-43e5-a569-bbc6eb28e075",
        "colab": {
          "base_uri": "https://localhost:8080/",
          "height": 204
        }
      },
      "source": [
        "df_erros = pd.DataFrame()\n",
        "df_erros['Modelos'] = modelos\n",
        "df_erros['Erros (RMSE)'] = erros\n",
        "df_erros.set_index('Modelos', inplace=True)\n",
        "df_erros"
      ],
      "execution_count": 72,
      "outputs": [
        {
          "output_type": "execute_result",
          "data": {
            "text/html": [
              "<div>\n",
              "<style scoped>\n",
              "    .dataframe tbody tr th:only-of-type {\n",
              "        vertical-align: middle;\n",
              "    }\n",
              "\n",
              "    .dataframe tbody tr th {\n",
              "        vertical-align: top;\n",
              "    }\n",
              "\n",
              "    .dataframe thead th {\n",
              "        text-align: right;\n",
              "    }\n",
              "</style>\n",
              "<table border=\"1\" class=\"dataframe\">\n",
              "  <thead>\n",
              "    <tr style=\"text-align: right;\">\n",
              "      <th></th>\n",
              "      <th>Erros (RMSE)</th>\n",
              "    </tr>\n",
              "    <tr>\n",
              "      <th>Modelos</th>\n",
              "      <th></th>\n",
              "    </tr>\n",
              "  </thead>\n",
              "  <tbody>\n",
              "    <tr>\n",
              "      <th>Baseline</th>\n",
              "      <td>1488.651033</td>\n",
              "    </tr>\n",
              "    <tr>\n",
              "      <th>Linear Regression</th>\n",
              "      <td>1375.222931</td>\n",
              "    </tr>\n",
              "    <tr>\n",
              "      <th>Decision Tree Regressor</th>\n",
              "      <td>1309.529478</td>\n",
              "    </tr>\n",
              "    <tr>\n",
              "      <th>Random Forest Regressor</th>\n",
              "      <td>1081.771714</td>\n",
              "    </tr>\n",
              "  </tbody>\n",
              "</table>\n",
              "</div>"
            ],
            "text/plain": [
              "                         Erros (RMSE)\n",
              "Modelos                              \n",
              "Baseline                  1488.651033\n",
              "Linear Regression         1375.222931\n",
              "Decision Tree Regressor   1309.529478\n",
              "Random Forest Regressor   1081.771714"
            ]
          },
          "metadata": {
            "tags": []
          },
          "execution_count": 72
        }
      ]
    },
    {
      "cell_type": "code",
      "metadata": {
        "id": "V5P6WytwdPDu",
        "colab_type": "code",
        "outputId": "b591025b-34f4-4ea2-8484-0d7a5c969732",
        "colab": {
          "base_uri": "https://localhost:8080/",
          "height": 509
        }
      },
      "source": [
        "# Configurando o estilo\n",
        "sns.set_style('white')\n",
        "\n",
        "# Configurando o tamanho da segunda figura\n",
        "plt.figure(figsize=(15, 8))\n",
        "\n",
        "# Definindo as cores\n",
        "color = {'Baseline': '#C6C5CA',\n",
        "         'Linear Regression': '#ED1C24',\n",
        "         'Decision Tree Regressor': '#83D8F4',\n",
        "         'Random Forest Regressor': '#91CC04'\n",
        "        }\n",
        "\n",
        "# Plotando o gráfico de barra com a seaborn\n",
        "sns.barplot(x=df_erros.index, y=df_erros['Erros (RMSE)'], palette=color)\n",
        "\n",
        "# Definindo o título\n",
        "plt.title('Root Mean Square Error para cada modelo', fontsize=20)\n",
        "\n",
        "# Definindo o eixo horizontal\n",
        "plt.xlabel('')\n",
        "\n",
        "# Definindo o eixo vertical\n",
        "plt.ylabel('')\n",
        "\n",
        "# Configurando as ticks do eixo y\n",
        "plt.gca().axes.get_yaxis().set_visible(False)\n",
        "\n",
        "# Configurando o tamanho da fonte\n",
        "plt.rcParams.update({'font.size': 15})\n",
        "\n",
        "# Escrevendo os valores sobre as barras\n",
        "plt.text(-0.1, 1500, '{:.0f}'.format(df_erros[\"Erros (RMSE)\"][0]))\n",
        "plt.text(0.9, 1390, '{:.0f}'.format(df_erros[\"Erros (RMSE)\"][1]))\n",
        "plt.text(1.9, 1330, '{:.0f}'.format(df_erros[\"Erros (RMSE)\"][2]))\n",
        "plt.text(2.9, 1100, '{:.0f}'.format(df_erros[\"Erros (RMSE)\"][3]))\n",
        "\n",
        "# Mostrando o gráfico\n",
        "plt.show()"
      ],
      "execution_count": 79,
      "outputs": [
        {
          "output_type": "display_data",
          "data": {
            "image/png": "[encoded data removed]",
            "text/plain": [
              "<Figure size 1080x576 with 1 Axes>"
            ]
          },
          "metadata": {
            "tags": []
          }
        }
      ]
    },
    {
      "cell_type": "markdown",
      "metadata": {
        "id": "c4nE33q6dPDv",
        "colab_type": "text"
      },
      "source": [
        "## 4.0 Deploy da Aplicação"
      ]
    },
    {
      "cell_type": "markdown",
      "metadata": {
        "id": "Clyf7zOVc0KX",
        "colab_type": "text"
      },
      "source": [
        "#### Encontrado o modelo com o menos erro, vamos agora preparar os dados para deploy"
      ]
    },
    {
      "cell_type": "code",
      "metadata": {
        "id": "Y8ixUh7CdPDv",
        "colab_type": "code",
        "outputId": "b22f1bf4-6360-4ff2-ca41-ab9f23d9f017",
        "colab": {
          "base_uri": "https://localhost:8080/",
          "height": 204
        }
      },
      "source": [
        "# Juntando as variáveis 'bairro' e 'valor' às variáveis explicativas\n",
        "X['bairro'] = data3['bairro']\n",
        "X['valor'] = y\n",
        "\n",
        "\n",
        "# Mostrando as 5 primeiras linhas do nossao dataset preparado para deploy\n",
        "X.head()"
      ],
      "execution_count": 74,
      "outputs": [
        {
          "output_type": "execute_result",
          "data": {
            "text/html": [
              "<div>\n",
              "<style scoped>\n",
              "    .dataframe tbody tr th:only-of-type {\n",
              "        vertical-align: middle;\n",
              "    }\n",
              "\n",
              "    .dataframe tbody tr th {\n",
              "        vertical-align: top;\n",
              "    }\n",
              "\n",
              "    .dataframe thead th {\n",
              "        text-align: right;\n",
              "    }\n",
              "</style>\n",
              "<table border=\"1\" class=\"dataframe\">\n",
              "  <thead>\n",
              "    <tr style=\"text-align: right;\">\n",
              "      <th></th>\n",
              "      <th>area</th>\n",
              "      <th>quartos</th>\n",
              "      <th>suites</th>\n",
              "      <th>vagas</th>\n",
              "      <th>bairro_id</th>\n",
              "      <th>bairro</th>\n",
              "      <th>valor</th>\n",
              "    </tr>\n",
              "  </thead>\n",
              "  <tbody>\n",
              "    <tr>\n",
              "      <th>0</th>\n",
              "      <td>57.0</td>\n",
              "      <td>2</td>\n",
              "      <td>0</td>\n",
              "      <td>1</td>\n",
              "      <td>1</td>\n",
              "      <td>VL DA SAUDE</td>\n",
              "      <td>1600</td>\n",
              "    </tr>\n",
              "    <tr>\n",
              "      <th>1</th>\n",
              "      <td>143.0</td>\n",
              "      <td>4</td>\n",
              "      <td>1</td>\n",
              "      <td>2</td>\n",
              "      <td>2</td>\n",
              "      <td>ITAIM BIBI</td>\n",
              "      <td>5600</td>\n",
              "    </tr>\n",
              "    <tr>\n",
              "      <th>2</th>\n",
              "      <td>140.0</td>\n",
              "      <td>3</td>\n",
              "      <td>1</td>\n",
              "      <td>1</td>\n",
              "      <td>3</td>\n",
              "      <td>BROOKLIN</td>\n",
              "      <td>3000</td>\n",
              "    </tr>\n",
              "    <tr>\n",
              "      <th>3</th>\n",
              "      <td>70.0</td>\n",
              "      <td>2</td>\n",
              "      <td>1</td>\n",
              "      <td>1</td>\n",
              "      <td>4</td>\n",
              "      <td>CAMPO BELO</td>\n",
              "      <td>4000</td>\n",
              "    </tr>\n",
              "    <tr>\n",
              "      <th>4</th>\n",
              "      <td>80.0</td>\n",
              "      <td>2</td>\n",
              "      <td>1</td>\n",
              "      <td>2</td>\n",
              "      <td>5</td>\n",
              "      <td>PERDIZES</td>\n",
              "      <td>2500</td>\n",
              "    </tr>\n",
              "  </tbody>\n",
              "</table>\n",
              "</div>"
            ],
            "text/plain": [
              "    area  quartos  suites  vagas  bairro_id       bairro  valor\n",
              "0   57.0        2       0      1          1  VL DA SAUDE   1600\n",
              "1  143.0        4       1      2          2   ITAIM BIBI   5600\n",
              "2  140.0        3       1      1          3     BROOKLIN   3000\n",
              "3   70.0        2       1      1          4   CAMPO BELO   4000\n",
              "4   80.0        2       1      2          5     PERDIZES   2500"
            ]
          },
          "metadata": {
            "tags": []
          },
          "execution_count": 74
        }
      ]
    },
    {
      "cell_type": "code",
      "metadata": {
        "id": "lJXooxjRdfPh",
        "colab_type": "code",
        "colab": {}
      },
      "source": [
        "# Salvando o dataset para deploy\n",
        "X.to_csv('data_deploy.csv', index=False)"
      ],
      "execution_count": 0,
      "outputs": []
    }
  ]
}